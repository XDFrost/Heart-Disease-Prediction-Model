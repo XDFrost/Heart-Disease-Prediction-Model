{
 "cells": [
  {
   "cell_type": "code",
   "execution_count": 1,
   "metadata": {},
   "outputs": [],
   "source": [
    "import pandas as pd\n",
    "import numpy as np\n",
    "import matplotlib.pyplot as plt\n",
    "from sklearn.model_selection import train_test_split\n",
    "from sklearn.linear_model import LogisticRegression\n",
    "from sklearn.metrics import accuracy_score\n",
    "from sklearn.metrics import confusion_matrix\n",
    "from sklearn.neighbors import KNeighborsClassifier\n",
    "from sklearn.naive_bayes import GaussianNB\n",
    "from sklearn.tree import DecisionTreeClassifier\n",
    "from sklearn.ensemble import RandomForestClassifier\n",
    "from sklearn.metrics import precision_recall_fscore_support\n",
    "from sklearn import tree\n",
    "import seaborn as sns"
   ]
  },
  {
   "cell_type": "code",
   "execution_count": 2,
   "metadata": {},
   "outputs": [
    {
     "data": {
      "text/html": [
       "<div>\n",
       "<style scoped>\n",
       "    .dataframe tbody tr th:only-of-type {\n",
       "        vertical-align: middle;\n",
       "    }\n",
       "\n",
       "    .dataframe tbody tr th {\n",
       "        vertical-align: top;\n",
       "    }\n",
       "\n",
       "    .dataframe thead th {\n",
       "        text-align: right;\n",
       "    }\n",
       "</style>\n",
       "<table border=\"1\" class=\"dataframe\">\n",
       "  <thead>\n",
       "    <tr style=\"text-align: right;\">\n",
       "      <th></th>\n",
       "      <th>age</th>\n",
       "      <th>sex</th>\n",
       "      <th>cp</th>\n",
       "      <th>trestbps</th>\n",
       "      <th>chol</th>\n",
       "      <th>fbs</th>\n",
       "      <th>restecg</th>\n",
       "      <th>thalach</th>\n",
       "      <th>exang</th>\n",
       "      <th>oldpeak</th>\n",
       "      <th>slope</th>\n",
       "      <th>ca</th>\n",
       "      <th>thal</th>\n",
       "      <th>target</th>\n",
       "    </tr>\n",
       "  </thead>\n",
       "  <tbody>\n",
       "    <tr>\n",
       "      <th>0</th>\n",
       "      <td>63</td>\n",
       "      <td>1</td>\n",
       "      <td>3</td>\n",
       "      <td>145</td>\n",
       "      <td>233</td>\n",
       "      <td>1</td>\n",
       "      <td>0</td>\n",
       "      <td>150</td>\n",
       "      <td>0</td>\n",
       "      <td>2.3</td>\n",
       "      <td>0</td>\n",
       "      <td>0</td>\n",
       "      <td>1</td>\n",
       "      <td>1</td>\n",
       "    </tr>\n",
       "    <tr>\n",
       "      <th>1</th>\n",
       "      <td>37</td>\n",
       "      <td>1</td>\n",
       "      <td>2</td>\n",
       "      <td>130</td>\n",
       "      <td>250</td>\n",
       "      <td>0</td>\n",
       "      <td>1</td>\n",
       "      <td>187</td>\n",
       "      <td>0</td>\n",
       "      <td>3.5</td>\n",
       "      <td>0</td>\n",
       "      <td>0</td>\n",
       "      <td>2</td>\n",
       "      <td>1</td>\n",
       "    </tr>\n",
       "    <tr>\n",
       "      <th>2</th>\n",
       "      <td>41</td>\n",
       "      <td>0</td>\n",
       "      <td>1</td>\n",
       "      <td>130</td>\n",
       "      <td>204</td>\n",
       "      <td>0</td>\n",
       "      <td>0</td>\n",
       "      <td>172</td>\n",
       "      <td>0</td>\n",
       "      <td>1.4</td>\n",
       "      <td>2</td>\n",
       "      <td>0</td>\n",
       "      <td>2</td>\n",
       "      <td>1</td>\n",
       "    </tr>\n",
       "    <tr>\n",
       "      <th>3</th>\n",
       "      <td>56</td>\n",
       "      <td>1</td>\n",
       "      <td>1</td>\n",
       "      <td>120</td>\n",
       "      <td>236</td>\n",
       "      <td>0</td>\n",
       "      <td>1</td>\n",
       "      <td>178</td>\n",
       "      <td>0</td>\n",
       "      <td>0.8</td>\n",
       "      <td>2</td>\n",
       "      <td>0</td>\n",
       "      <td>2</td>\n",
       "      <td>1</td>\n",
       "    </tr>\n",
       "    <tr>\n",
       "      <th>4</th>\n",
       "      <td>57</td>\n",
       "      <td>0</td>\n",
       "      <td>0</td>\n",
       "      <td>120</td>\n",
       "      <td>354</td>\n",
       "      <td>0</td>\n",
       "      <td>1</td>\n",
       "      <td>163</td>\n",
       "      <td>1</td>\n",
       "      <td>0.6</td>\n",
       "      <td>2</td>\n",
       "      <td>0</td>\n",
       "      <td>2</td>\n",
       "      <td>1</td>\n",
       "    </tr>\n",
       "    <tr>\n",
       "      <th>...</th>\n",
       "      <td>...</td>\n",
       "      <td>...</td>\n",
       "      <td>...</td>\n",
       "      <td>...</td>\n",
       "      <td>...</td>\n",
       "      <td>...</td>\n",
       "      <td>...</td>\n",
       "      <td>...</td>\n",
       "      <td>...</td>\n",
       "      <td>...</td>\n",
       "      <td>...</td>\n",
       "      <td>...</td>\n",
       "      <td>...</td>\n",
       "      <td>...</td>\n",
       "    </tr>\n",
       "    <tr>\n",
       "      <th>298</th>\n",
       "      <td>57</td>\n",
       "      <td>0</td>\n",
       "      <td>0</td>\n",
       "      <td>140</td>\n",
       "      <td>241</td>\n",
       "      <td>0</td>\n",
       "      <td>1</td>\n",
       "      <td>123</td>\n",
       "      <td>1</td>\n",
       "      <td>0.2</td>\n",
       "      <td>1</td>\n",
       "      <td>0</td>\n",
       "      <td>3</td>\n",
       "      <td>0</td>\n",
       "    </tr>\n",
       "    <tr>\n",
       "      <th>299</th>\n",
       "      <td>45</td>\n",
       "      <td>1</td>\n",
       "      <td>3</td>\n",
       "      <td>110</td>\n",
       "      <td>264</td>\n",
       "      <td>0</td>\n",
       "      <td>1</td>\n",
       "      <td>132</td>\n",
       "      <td>0</td>\n",
       "      <td>1.2</td>\n",
       "      <td>1</td>\n",
       "      <td>0</td>\n",
       "      <td>3</td>\n",
       "      <td>0</td>\n",
       "    </tr>\n",
       "    <tr>\n",
       "      <th>300</th>\n",
       "      <td>68</td>\n",
       "      <td>1</td>\n",
       "      <td>0</td>\n",
       "      <td>144</td>\n",
       "      <td>193</td>\n",
       "      <td>1</td>\n",
       "      <td>1</td>\n",
       "      <td>141</td>\n",
       "      <td>0</td>\n",
       "      <td>3.4</td>\n",
       "      <td>1</td>\n",
       "      <td>2</td>\n",
       "      <td>3</td>\n",
       "      <td>0</td>\n",
       "    </tr>\n",
       "    <tr>\n",
       "      <th>301</th>\n",
       "      <td>57</td>\n",
       "      <td>1</td>\n",
       "      <td>0</td>\n",
       "      <td>130</td>\n",
       "      <td>131</td>\n",
       "      <td>0</td>\n",
       "      <td>1</td>\n",
       "      <td>115</td>\n",
       "      <td>1</td>\n",
       "      <td>1.2</td>\n",
       "      <td>1</td>\n",
       "      <td>1</td>\n",
       "      <td>3</td>\n",
       "      <td>0</td>\n",
       "    </tr>\n",
       "    <tr>\n",
       "      <th>302</th>\n",
       "      <td>57</td>\n",
       "      <td>0</td>\n",
       "      <td>1</td>\n",
       "      <td>130</td>\n",
       "      <td>236</td>\n",
       "      <td>0</td>\n",
       "      <td>0</td>\n",
       "      <td>174</td>\n",
       "      <td>0</td>\n",
       "      <td>0.0</td>\n",
       "      <td>1</td>\n",
       "      <td>1</td>\n",
       "      <td>2</td>\n",
       "      <td>0</td>\n",
       "    </tr>\n",
       "  </tbody>\n",
       "</table>\n",
       "<p>303 rows × 14 columns</p>\n",
       "</div>"
      ],
      "text/plain": [
       "     age  sex  cp  trestbps  chol  fbs  restecg  thalach  exang  oldpeak  \\\n",
       "0     63    1   3       145   233    1        0      150      0      2.3   \n",
       "1     37    1   2       130   250    0        1      187      0      3.5   \n",
       "2     41    0   1       130   204    0        0      172      0      1.4   \n",
       "3     56    1   1       120   236    0        1      178      0      0.8   \n",
       "4     57    0   0       120   354    0        1      163      1      0.6   \n",
       "..   ...  ...  ..       ...   ...  ...      ...      ...    ...      ...   \n",
       "298   57    0   0       140   241    0        1      123      1      0.2   \n",
       "299   45    1   3       110   264    0        1      132      0      1.2   \n",
       "300   68    1   0       144   193    1        1      141      0      3.4   \n",
       "301   57    1   0       130   131    0        1      115      1      1.2   \n",
       "302   57    0   1       130   236    0        0      174      0      0.0   \n",
       "\n",
       "     slope  ca  thal  target  \n",
       "0        0   0     1       1  \n",
       "1        0   0     2       1  \n",
       "2        2   0     2       1  \n",
       "3        2   0     2       1  \n",
       "4        2   0     2       1  \n",
       "..     ...  ..   ...     ...  \n",
       "298      1   0     3       0  \n",
       "299      1   0     3       0  \n",
       "300      1   2     3       0  \n",
       "301      1   1     3       0  \n",
       "302      1   1     2       0  \n",
       "\n",
       "[303 rows x 14 columns]"
      ]
     },
     "execution_count": 2,
     "metadata": {},
     "output_type": "execute_result"
    }
   ],
   "source": [
    "df = pd.read_csv(\"heart_disease_data.csv\")\n",
    "df"
   ]
  },
  {
   "cell_type": "markdown",
   "metadata": {},
   "source": [
    "- In target, 0 represent if person has heart disease and 1 represent if person has no heart disease."
   ]
  },
  {
   "cell_type": "code",
   "execution_count": 3,
   "metadata": {},
   "outputs": [
    {
     "name": "stdout",
     "output_type": "stream",
     "text": [
      "<class 'pandas.core.frame.DataFrame'>\n",
      "RangeIndex: 303 entries, 0 to 302\n",
      "Data columns (total 14 columns):\n",
      " #   Column    Non-Null Count  Dtype  \n",
      "---  ------    --------------  -----  \n",
      " 0   age       303 non-null    int64  \n",
      " 1   sex       303 non-null    int64  \n",
      " 2   cp        303 non-null    int64  \n",
      " 3   trestbps  303 non-null    int64  \n",
      " 4   chol      303 non-null    int64  \n",
      " 5   fbs       303 non-null    int64  \n",
      " 6   restecg   303 non-null    int64  \n",
      " 7   thalach   303 non-null    int64  \n",
      " 8   exang     303 non-null    int64  \n",
      " 9   oldpeak   303 non-null    float64\n",
      " 10  slope     303 non-null    int64  \n",
      " 11  ca        303 non-null    int64  \n",
      " 12  thal      303 non-null    int64  \n",
      " 13  target    303 non-null    int64  \n",
      "dtypes: float64(1), int64(13)\n",
      "memory usage: 33.3 KB\n"
     ]
    }
   ],
   "source": [
    "df.info()"
   ]
  },
  {
   "cell_type": "code",
   "execution_count": 4,
   "metadata": {},
   "outputs": [
    {
     "data": {
      "text/plain": [
       "age         0\n",
       "sex         0\n",
       "cp          0\n",
       "trestbps    0\n",
       "chol        0\n",
       "fbs         0\n",
       "restecg     0\n",
       "thalach     0\n",
       "exang       0\n",
       "oldpeak     0\n",
       "slope       0\n",
       "ca          0\n",
       "thal        0\n",
       "target      0\n",
       "dtype: int64"
      ]
     },
     "execution_count": 4,
     "metadata": {},
     "output_type": "execute_result"
    }
   ],
   "source": [
    "df.isnull().sum()               # Checking for missing values in df"
   ]
  },
  {
   "cell_type": "markdown",
   "metadata": {},
   "source": [
    "- We don't have any missing values"
   ]
  },
  {
   "cell_type": "markdown",
   "metadata": {},
   "source": [
    "### Understanding the columns"
   ]
  },
  {
   "cell_type": "code",
   "execution_count": 5,
   "metadata": {},
   "outputs": [
    {
     "name": "stdout",
     "output_type": "stream",
     "text": [
      "age:\t\tage\n",
      "sex:\t\t1: male, 0: female\n",
      "cp:\t\tchest pain type = 1: typical angina, 2: atypical angina, 3: non-anginal pain, 4: asymptomatic\n",
      "trestbps:\t\tresting blood pressure\n",
      "chol:\t\t serum cholestoral in mg/dl\n",
      "fbs:\t\tfasting blood sugar > 120 mg/dl\n",
      "restecg:\t\tresting electrocardiographic results (values 0,1,2)\n",
      "thalach:\t\t maximum heart rate achieved\n",
      "exang:\t\texercise induced angina\n",
      "oldpeak:\t\toldpeak = ST depression induced by exercise relative to rest\n",
      "slope:\t\tthe slope of the peak exercise ST segment\n",
      "ca:\t\tnumber of major vessels (0-3) colored by flourosopy\n",
      "thal:\t\tthal: 3 = normal; 6 = fixed defect; 7 = reversable defect\n"
     ]
    }
   ],
   "source": [
    "info = [\"age\",\"1: male, 0: female\",\"chest pain type = 1: typical angina, 2: atypical angina, 3: non-anginal pain, 4: asymptomatic\",\"resting blood pressure\",\" serum cholestoral in mg/dl\",\"fasting blood sugar > 120 mg/dl\",\"resting electrocardiographic results (values 0,1,2)\",\" maximum heart rate achieved\",\"exercise induced angina\",\"oldpeak = ST depression induced by exercise relative to rest\",\"the slope of the peak exercise ST segment\",\"number of major vessels (0-3) colored by flourosopy\",\"thal: 3 = normal; 6 = fixed defect; 7 = reversable defect\"]\n",
    "\n",
    "\n",
    "\n",
    "for i in range(len(info)):\n",
    "    print(df.columns[i]+\":\\t\\t\"+info[i])"
   ]
  },
  {
   "cell_type": "code",
   "execution_count": 6,
   "metadata": {},
   "outputs": [
    {
     "data": {
      "text/html": [
       "<div>\n",
       "<style scoped>\n",
       "    .dataframe tbody tr th:only-of-type {\n",
       "        vertical-align: middle;\n",
       "    }\n",
       "\n",
       "    .dataframe tbody tr th {\n",
       "        vertical-align: top;\n",
       "    }\n",
       "\n",
       "    .dataframe thead th {\n",
       "        text-align: right;\n",
       "    }\n",
       "</style>\n",
       "<table border=\"1\" class=\"dataframe\">\n",
       "  <thead>\n",
       "    <tr style=\"text-align: right;\">\n",
       "      <th></th>\n",
       "      <th>age</th>\n",
       "      <th>sex</th>\n",
       "      <th>cp</th>\n",
       "      <th>trestbps</th>\n",
       "      <th>chol</th>\n",
       "      <th>fbs</th>\n",
       "      <th>restecg</th>\n",
       "      <th>thalach</th>\n",
       "      <th>exang</th>\n",
       "      <th>oldpeak</th>\n",
       "      <th>slope</th>\n",
       "      <th>ca</th>\n",
       "      <th>thal</th>\n",
       "      <th>target</th>\n",
       "    </tr>\n",
       "  </thead>\n",
       "  <tbody>\n",
       "    <tr>\n",
       "      <th>count</th>\n",
       "      <td>303.000000</td>\n",
       "      <td>303.000000</td>\n",
       "      <td>303.000000</td>\n",
       "      <td>303.000000</td>\n",
       "      <td>303.000000</td>\n",
       "      <td>303.000000</td>\n",
       "      <td>303.000000</td>\n",
       "      <td>303.000000</td>\n",
       "      <td>303.000000</td>\n",
       "      <td>303.000000</td>\n",
       "      <td>303.000000</td>\n",
       "      <td>303.000000</td>\n",
       "      <td>303.000000</td>\n",
       "      <td>303.000000</td>\n",
       "    </tr>\n",
       "    <tr>\n",
       "      <th>mean</th>\n",
       "      <td>54.366337</td>\n",
       "      <td>0.683168</td>\n",
       "      <td>0.966997</td>\n",
       "      <td>131.623762</td>\n",
       "      <td>246.264026</td>\n",
       "      <td>0.148515</td>\n",
       "      <td>0.528053</td>\n",
       "      <td>149.646865</td>\n",
       "      <td>0.326733</td>\n",
       "      <td>1.039604</td>\n",
       "      <td>1.399340</td>\n",
       "      <td>0.729373</td>\n",
       "      <td>2.313531</td>\n",
       "      <td>0.544554</td>\n",
       "    </tr>\n",
       "    <tr>\n",
       "      <th>std</th>\n",
       "      <td>9.082101</td>\n",
       "      <td>0.466011</td>\n",
       "      <td>1.032052</td>\n",
       "      <td>17.538143</td>\n",
       "      <td>51.830751</td>\n",
       "      <td>0.356198</td>\n",
       "      <td>0.525860</td>\n",
       "      <td>22.905161</td>\n",
       "      <td>0.469794</td>\n",
       "      <td>1.161075</td>\n",
       "      <td>0.616226</td>\n",
       "      <td>1.022606</td>\n",
       "      <td>0.612277</td>\n",
       "      <td>0.498835</td>\n",
       "    </tr>\n",
       "    <tr>\n",
       "      <th>min</th>\n",
       "      <td>29.000000</td>\n",
       "      <td>0.000000</td>\n",
       "      <td>0.000000</td>\n",
       "      <td>94.000000</td>\n",
       "      <td>126.000000</td>\n",
       "      <td>0.000000</td>\n",
       "      <td>0.000000</td>\n",
       "      <td>71.000000</td>\n",
       "      <td>0.000000</td>\n",
       "      <td>0.000000</td>\n",
       "      <td>0.000000</td>\n",
       "      <td>0.000000</td>\n",
       "      <td>0.000000</td>\n",
       "      <td>0.000000</td>\n",
       "    </tr>\n",
       "    <tr>\n",
       "      <th>25%</th>\n",
       "      <td>47.500000</td>\n",
       "      <td>0.000000</td>\n",
       "      <td>0.000000</td>\n",
       "      <td>120.000000</td>\n",
       "      <td>211.000000</td>\n",
       "      <td>0.000000</td>\n",
       "      <td>0.000000</td>\n",
       "      <td>133.500000</td>\n",
       "      <td>0.000000</td>\n",
       "      <td>0.000000</td>\n",
       "      <td>1.000000</td>\n",
       "      <td>0.000000</td>\n",
       "      <td>2.000000</td>\n",
       "      <td>0.000000</td>\n",
       "    </tr>\n",
       "    <tr>\n",
       "      <th>50%</th>\n",
       "      <td>55.000000</td>\n",
       "      <td>1.000000</td>\n",
       "      <td>1.000000</td>\n",
       "      <td>130.000000</td>\n",
       "      <td>240.000000</td>\n",
       "      <td>0.000000</td>\n",
       "      <td>1.000000</td>\n",
       "      <td>153.000000</td>\n",
       "      <td>0.000000</td>\n",
       "      <td>0.800000</td>\n",
       "      <td>1.000000</td>\n",
       "      <td>0.000000</td>\n",
       "      <td>2.000000</td>\n",
       "      <td>1.000000</td>\n",
       "    </tr>\n",
       "    <tr>\n",
       "      <th>75%</th>\n",
       "      <td>61.000000</td>\n",
       "      <td>1.000000</td>\n",
       "      <td>2.000000</td>\n",
       "      <td>140.000000</td>\n",
       "      <td>274.500000</td>\n",
       "      <td>0.000000</td>\n",
       "      <td>1.000000</td>\n",
       "      <td>166.000000</td>\n",
       "      <td>1.000000</td>\n",
       "      <td>1.600000</td>\n",
       "      <td>2.000000</td>\n",
       "      <td>1.000000</td>\n",
       "      <td>3.000000</td>\n",
       "      <td>1.000000</td>\n",
       "    </tr>\n",
       "    <tr>\n",
       "      <th>max</th>\n",
       "      <td>77.000000</td>\n",
       "      <td>1.000000</td>\n",
       "      <td>3.000000</td>\n",
       "      <td>200.000000</td>\n",
       "      <td>564.000000</td>\n",
       "      <td>1.000000</td>\n",
       "      <td>2.000000</td>\n",
       "      <td>202.000000</td>\n",
       "      <td>1.000000</td>\n",
       "      <td>6.200000</td>\n",
       "      <td>2.000000</td>\n",
       "      <td>4.000000</td>\n",
       "      <td>3.000000</td>\n",
       "      <td>1.000000</td>\n",
       "    </tr>\n",
       "  </tbody>\n",
       "</table>\n",
       "</div>"
      ],
      "text/plain": [
       "              age         sex          cp    trestbps        chol         fbs  \\\n",
       "count  303.000000  303.000000  303.000000  303.000000  303.000000  303.000000   \n",
       "mean    54.366337    0.683168    0.966997  131.623762  246.264026    0.148515   \n",
       "std      9.082101    0.466011    1.032052   17.538143   51.830751    0.356198   \n",
       "min     29.000000    0.000000    0.000000   94.000000  126.000000    0.000000   \n",
       "25%     47.500000    0.000000    0.000000  120.000000  211.000000    0.000000   \n",
       "50%     55.000000    1.000000    1.000000  130.000000  240.000000    0.000000   \n",
       "75%     61.000000    1.000000    2.000000  140.000000  274.500000    0.000000   \n",
       "max     77.000000    1.000000    3.000000  200.000000  564.000000    1.000000   \n",
       "\n",
       "          restecg     thalach       exang     oldpeak       slope          ca  \\\n",
       "count  303.000000  303.000000  303.000000  303.000000  303.000000  303.000000   \n",
       "mean     0.528053  149.646865    0.326733    1.039604    1.399340    0.729373   \n",
       "std      0.525860   22.905161    0.469794    1.161075    0.616226    1.022606   \n",
       "min      0.000000   71.000000    0.000000    0.000000    0.000000    0.000000   \n",
       "25%      0.000000  133.500000    0.000000    0.000000    1.000000    0.000000   \n",
       "50%      1.000000  153.000000    0.000000    0.800000    1.000000    0.000000   \n",
       "75%      1.000000  166.000000    1.000000    1.600000    2.000000    1.000000   \n",
       "max      2.000000  202.000000    1.000000    6.200000    2.000000    4.000000   \n",
       "\n",
       "             thal      target  \n",
       "count  303.000000  303.000000  \n",
       "mean     2.313531    0.544554  \n",
       "std      0.612277    0.498835  \n",
       "min      0.000000    0.000000  \n",
       "25%      2.000000    0.000000  \n",
       "50%      2.000000    1.000000  \n",
       "75%      3.000000    1.000000  \n",
       "max      3.000000    1.000000  "
      ]
     },
     "execution_count": 6,
     "metadata": {},
     "output_type": "execute_result"
    }
   ],
   "source": [
    "# Statisctical measures of data\n",
    "\n",
    "df.describe()"
   ]
  },
  {
   "cell_type": "code",
   "execution_count": 7,
   "metadata": {},
   "outputs": [
    {
     "data": {
      "text/plain": [
       "<Axes: >"
      ]
     },
     "execution_count": 7,
     "metadata": {},
     "output_type": "execute_result"
    },
    {
     "data": {
      "image/png": "[encoded data removed]",
      "text/plain": [
       "<Figure size 800x800 with 2 Axes>"
      ]
     },
     "metadata": {},
     "output_type": "display_data"
    }
   ],
   "source": [
    "plt.figure(figsize = (8,8))\n",
    "sns.heatmap(df.corr(), annot = True, fmt = '.0%')"
   ]
  },
  {
   "cell_type": "markdown",
   "metadata": {},
   "source": [
    "- All the columns are moderately correlated"
   ]
  },
  {
   "cell_type": "markdown",
   "metadata": {},
   "source": [
    "### Exploratory Data Analysis"
   ]
  },
  {
   "cell_type": "code",
   "execution_count": 8,
   "metadata": {},
   "outputs": [
    {
     "data": {
      "text/plain": [
       "target\n",
       "1    165\n",
       "0    138\n",
       "Name: count, dtype: int64"
      ]
     },
     "execution_count": 8,
     "metadata": {},
     "output_type": "execute_result"
    }
   ],
   "source": [
    "# Checking value distribution\n",
    "\n",
    "target_vals = df['target'].value_counts()\n",
    "target_vals"
   ]
  },
  {
   "cell_type": "code",
   "execution_count": 9,
   "metadata": {},
   "outputs": [
    {
     "name": "stdout",
     "output_type": "stream",
     "text": [
      "138 165\n"
     ]
    }
   ],
   "source": [
    "print(target_vals[0], target_vals[1])"
   ]
  },
  {
   "cell_type": "code",
   "execution_count": 10,
   "metadata": {},
   "outputs": [
    {
     "name": "stdout",
     "output_type": "stream",
     "text": [
      "Percentage of patients without heart disease:  46.0\n",
      "Percentage of patients with heart disease:  54.0\n"
     ]
    }
   ],
   "source": [
    "print(\"Percentage of patients without heart disease: \" , round(target_vals[0]/len(df.target), 2)*100)\n",
    "print(\"Percentage of patients with heart disease: \" , round(target_vals[1]/len(df.target), 2)*100)"
   ]
  },
  {
   "cell_type": "markdown",
   "metadata": {},
   "source": [
    "### We'll analyse 'sex', 'cp', 'fbs', 'restecg', 'exang', 'slope', 'ca' and 'thal' features"
   ]
  },
  {
   "cell_type": "code",
   "execution_count": 11,
   "metadata": {},
   "outputs": [],
   "source": [
    "target = df['target']"
   ]
  },
  {
   "cell_type": "markdown",
   "metadata": {},
   "source": [
    "#### Analysing 'sex' column"
   ]
  },
  {
   "cell_type": "code",
   "execution_count": 12,
   "metadata": {},
   "outputs": [
    {
     "data": {
      "text/plain": [
       "array([1, 0], dtype=int64)"
      ]
     },
     "execution_count": 12,
     "metadata": {},
     "output_type": "execute_result"
    }
   ],
   "source": [
    "df[\"sex\"].unique()"
   ]
  },
  {
   "cell_type": "code",
   "execution_count": 13,
   "metadata": {},
   "outputs": [
    {
     "data": {
      "text/plain": [
       "sex\n",
       "1    207\n",
       "0     96\n",
       "Name: count, dtype: int64"
      ]
     },
     "execution_count": 13,
     "metadata": {},
     "output_type": "execute_result"
    }
   ],
   "source": [
    "df['sex'].value_counts()"
   ]
  },
  {
   "cell_type": "code",
   "execution_count": 14,
   "metadata": {},
   "outputs": [
    {
     "data": {
      "text/plain": [
       "<Axes: >"
      ]
     },
     "execution_count": 14,
     "metadata": {},
     "output_type": "execute_result"
    },
    {
     "data": {
      "image/png": "[encoded data removed]",
      "text/plain": [
       "<Figure size 640x480 with 1 Axes>"
      ]
     },
     "metadata": {},
     "output_type": "display_data"
    }
   ],
   "source": [
    "sns.barplot([df['sex'], target])"
   ]
  },
  {
   "cell_type": "code",
   "execution_count": 15,
   "metadata": {},
   "outputs": [
    {
     "data": {
      "text/plain": [
       "<Axes: xlabel='sex', ylabel='target'>"
      ]
     },
     "execution_count": 15,
     "metadata": {},
     "output_type": "execute_result"
    },
    {
     "data": {
      "image/png": "[encoded data removed]",
      "text/plain": [
       "<Figure size 640x480 with 1 Axes>"
      ]
     },
     "metadata": {},
     "output_type": "display_data"
    }
   ],
   "source": [
    "sns.barplot(x = df['sex'], y = target, data = df)"
   ]
  },
  {
   "cell_type": "markdown",
   "metadata": {},
   "source": [
    "##### From above, we notice that females are more likely to have heart disease than males"
   ]
  },
  {
   "cell_type": "markdown",
   "metadata": {},
   "source": [
    "### Analysing 'Chest Pain Type (cp)' column/feature"
   ]
  },
  {
   "cell_type": "code",
   "execution_count": 16,
   "metadata": {},
   "outputs": [
    {
     "data": {
      "text/plain": [
       "array([3, 2, 1, 0], dtype=int64)"
      ]
     },
     "execution_count": 16,
     "metadata": {},
     "output_type": "execute_result"
    }
   ],
   "source": [
    "df['cp'].unique()"
   ]
  },
  {
   "cell_type": "code",
   "execution_count": 17,
   "metadata": {},
   "outputs": [
    {
     "data": {
      "text/plain": [
       "cp\n",
       "0    143\n",
       "2     87\n",
       "1     50\n",
       "3     23\n",
       "Name: count, dtype: int64"
      ]
     },
     "execution_count": 17,
     "metadata": {},
     "output_type": "execute_result"
    }
   ],
   "source": [
    "df['cp'].value_counts()"
   ]
  },
  {
   "cell_type": "code",
   "execution_count": 18,
   "metadata": {},
   "outputs": [
    {
     "data": {
      "text/plain": [
       "<Axes: >"
      ]
     },
     "execution_count": 18,
     "metadata": {},
     "output_type": "execute_result"
    },
    {
     "data": {
      "image/png": "[encoded data removed]",
      "text/plain": [
       "<Figure size 640x480 with 1 Axes>"
      ]
     },
     "metadata": {},
     "output_type": "display_data"
    }
   ],
   "source": [
    "sns.barplot([df['cp'], target])"
   ]
  },
  {
   "cell_type": "code",
   "execution_count": 19,
   "metadata": {},
   "outputs": [
    {
     "data": {
      "text/plain": [
       "<Axes: xlabel='cp', ylabel='target'>"
      ]
     },
     "execution_count": 19,
     "metadata": {},
     "output_type": "execute_result"
    },
    {
     "data": {
      "image/png": "[encoded data removed]",
      "text/plain": [
       "<Figure size 640x480 with 1 Axes>"
      ]
     },
     "metadata": {},
     "output_type": "display_data"
    }
   ],
   "source": [
    "sns.barplot(x = df['cp'], y='target', data=df)"
   ]
  },
  {
   "cell_type": "markdown",
   "metadata": {},
   "source": [
    "#### From this, we can see that the patients with typical angina are less likely to have heart disease\n"
   ]
  },
  {
   "cell_type": "markdown",
   "metadata": {},
   "source": [
    "### Analysing 'fbs' column/feature"
   ]
  },
  {
   "cell_type": "code",
   "execution_count": 20,
   "metadata": {},
   "outputs": [
    {
     "data": {
      "text/plain": [
       "array([1, 0], dtype=int64)"
      ]
     },
     "execution_count": 20,
     "metadata": {},
     "output_type": "execute_result"
    }
   ],
   "source": [
    "df['fbs'].unique()"
   ]
  },
  {
   "cell_type": "code",
   "execution_count": 21,
   "metadata": {},
   "outputs": [
    {
     "data": {
      "text/plain": [
       "fbs\n",
       "0    258\n",
       "1     45\n",
       "Name: count, dtype: int64"
      ]
     },
     "execution_count": 21,
     "metadata": {},
     "output_type": "execute_result"
    }
   ],
   "source": [
    "df['fbs'].value_counts()"
   ]
  },
  {
   "cell_type": "code",
   "execution_count": 22,
   "metadata": {},
   "outputs": [
    {
     "data": {
      "text/plain": [
       "<Axes: >"
      ]
     },
     "execution_count": 22,
     "metadata": {},
     "output_type": "execute_result"
    },
    {
     "data": {
      "image/png": "[encoded data removed]",
      "text/plain": [
       "<Figure size 640x480 with 1 Axes>"
      ]
     },
     "metadata": {},
     "output_type": "display_data"
    }
   ],
   "source": [
    "sns.barplot([df['fbs'], target])"
   ]
  },
  {
   "cell_type": "code",
   "execution_count": 23,
   "metadata": {},
   "outputs": [
    {
     "data": {
      "text/plain": [
       "<Axes: xlabel='fbs', ylabel='target'>"
      ]
     },
     "execution_count": 23,
     "metadata": {},
     "output_type": "execute_result"
    },
    {
     "data": {
      "image/png": "[encoded data removed]",
      "text/plain": [
       "<Figure size 640x480 with 1 Axes>"
      ]
     },
     "metadata": {},
     "output_type": "display_data"
    }
   ],
   "source": [
    "sns.barplot(x = df['fbs'], y = target, data = df)"
   ]
  },
  {
   "cell_type": "markdown",
   "metadata": {},
   "source": [
    "#### From this, we can see that the patients with fasting blood sugar > 120 mg/dl are less likely to have heart disease"
   ]
  },
  {
   "cell_type": "markdown",
   "metadata": {},
   "source": [
    "### Analysing restecg column/feature"
   ]
  },
  {
   "cell_type": "code",
   "execution_count": 24,
   "metadata": {},
   "outputs": [
    {
     "data": {
      "text/plain": [
       "array([0, 1, 2], dtype=int64)"
      ]
     },
     "execution_count": 24,
     "metadata": {},
     "output_type": "execute_result"
    }
   ],
   "source": [
    "df['restecg'].unique()"
   ]
  },
  {
   "cell_type": "code",
   "execution_count": 25,
   "metadata": {},
   "outputs": [
    {
     "data": {
      "text/plain": [
       "restecg\n",
       "1    152\n",
       "0    147\n",
       "2      4\n",
       "Name: count, dtype: int64"
      ]
     },
     "execution_count": 25,
     "metadata": {},
     "output_type": "execute_result"
    }
   ],
   "source": [
    "df['restecg'].value_counts()"
   ]
  },
  {
   "cell_type": "code",
   "execution_count": 26,
   "metadata": {},
   "outputs": [
    {
     "data": {
      "text/plain": [
       "<Axes: >"
      ]
     },
     "execution_count": 26,
     "metadata": {},
     "output_type": "execute_result"
    },
    {
     "data": {
      "image/png": "[encoded data removed]",
      "text/plain": [
       "<Figure size 640x480 with 1 Axes>"
      ]
     },
     "metadata": {},
     "output_type": "display_data"
    }
   ],
   "source": [
    "sns.barplot([df['restecg'], target])"
   ]
  },
  {
   "cell_type": "code",
   "execution_count": 27,
   "metadata": {},
   "outputs": [
    {
     "data": {
      "text/plain": [
       "<Axes: xlabel='restecg', ylabel='target'>"
      ]
     },
     "execution_count": 27,
     "metadata": {},
     "output_type": "execute_result"
    },
    {
     "data": {
      "image/png": "[encoded data removed]",
      "text/plain": [
       "<Figure size 640x480 with 1 Axes>"
      ]
     },
     "metadata": {},
     "output_type": "display_data"
    }
   ],
   "source": [
    "sns.barplot(x = df['restecg'], y = target, data = df)"
   ]
  },
  {
   "cell_type": "markdown",
   "metadata": {},
   "source": [
    "#### We realize that people with resting electrocardiographic of 0 or 1 are more likely to have heart disease than people with resting electrocardiographic of 2"
   ]
  },
  {
   "cell_type": "markdown",
   "metadata": {},
   "source": [
    "### Analysing 'exang' column/feature"
   ]
  },
  {
   "cell_type": "code",
   "execution_count": 28,
   "metadata": {},
   "outputs": [
    {
     "data": {
      "text/plain": [
       "array([0, 1], dtype=int64)"
      ]
     },
     "execution_count": 28,
     "metadata": {},
     "output_type": "execute_result"
    }
   ],
   "source": [
    "df['exang'].unique()"
   ]
  },
  {
   "cell_type": "code",
   "execution_count": 29,
   "metadata": {},
   "outputs": [
    {
     "data": {
      "text/plain": [
       "exang\n",
       "0    204\n",
       "1     99\n",
       "Name: count, dtype: int64"
      ]
     },
     "execution_count": 29,
     "metadata": {},
     "output_type": "execute_result"
    }
   ],
   "source": [
    "df['exang'].value_counts()"
   ]
  },
  {
   "cell_type": "code",
   "execution_count": 30,
   "metadata": {},
   "outputs": [
    {
     "data": {
      "text/plain": [
       "<Axes: >"
      ]
     },
     "execution_count": 30,
     "metadata": {},
     "output_type": "execute_result"
    },
    {
     "data": {
      "image/png": "[encoded data removed]",
      "text/plain": [
       "<Figure size 640x480 with 1 Axes>"
      ]
     },
     "metadata": {},
     "output_type": "display_data"
    }
   ],
   "source": [
    "sns.barplot([df['exang'], target])"
   ]
  },
  {
   "cell_type": "code",
   "execution_count": 31,
   "metadata": {},
   "outputs": [
    {
     "data": {
      "text/plain": [
       "<Axes: xlabel='exang', ylabel='target'>"
      ]
     },
     "execution_count": 31,
     "metadata": {},
     "output_type": "execute_result"
    },
    {
     "data": {
      "image/png": "[encoded data removed]",
      "text/plain": [
       "<Figure size 640x480 with 1 Axes>"
      ]
     },
     "metadata": {},
     "output_type": "display_data"
    }
   ],
   "source": [
    "sns.barplot(x = df['exang'], y = target, data = df)"
   ]
  },
  {
   "cell_type": "markdown",
   "metadata": {},
   "source": [
    "#### We realize that people with exercise induced angina are less likely to have heart disease"
   ]
  },
  {
   "cell_type": "markdown",
   "metadata": {},
   "source": [
    "### Analysing 'slope' column/feature"
   ]
  },
  {
   "cell_type": "code",
   "execution_count": 32,
   "metadata": {},
   "outputs": [
    {
     "data": {
      "text/plain": [
       "array([0, 2, 1], dtype=int64)"
      ]
     },
     "execution_count": 32,
     "metadata": {},
     "output_type": "execute_result"
    }
   ],
   "source": [
    "df['slope'].unique()"
   ]
  },
  {
   "cell_type": "code",
   "execution_count": 33,
   "metadata": {},
   "outputs": [
    {
     "data": {
      "text/plain": [
       "slope\n",
       "2    142\n",
       "1    140\n",
       "0     21\n",
       "Name: count, dtype: int64"
      ]
     },
     "execution_count": 33,
     "metadata": {},
     "output_type": "execute_result"
    }
   ],
   "source": [
    "df['slope'].value_counts()"
   ]
  },
  {
   "cell_type": "code",
   "execution_count": 34,
   "metadata": {},
   "outputs": [
    {
     "data": {
      "text/plain": [
       "<Axes: >"
      ]
     },
     "execution_count": 34,
     "metadata": {},
     "output_type": "execute_result"
    },
    {
     "data": {
      "image/png": "[encoded data removed]",
      "text/plain": [
       "<Figure size 640x480 with 1 Axes>"
      ]
     },
     "metadata": {},
     "output_type": "display_data"
    }
   ],
   "source": [
    "sns.barplot([df['slope'], target])"
   ]
  },
  {
   "cell_type": "code",
   "execution_count": 35,
   "metadata": {},
   "outputs": [
    {
     "data": {
      "text/plain": [
       "<Axes: xlabel='slope', ylabel='target'>"
      ]
     },
     "execution_count": 35,
     "metadata": {},
     "output_type": "execute_result"
    },
    {
     "data": {
      "image/png": "[encoded data removed]",
      "text/plain": [
       "<Figure size 640x480 with 1 Axes>"
      ]
     },
     "metadata": {},
     "output_type": "display_data"
    }
   ],
   "source": [
    "sns.barplot(x = df['slope'], y = target, data=df)"
   ]
  },
  {
   "cell_type": "markdown",
   "metadata": {},
   "source": [
    "#### We observe that slope '2' causes heart pain much more than '1' and '0'"
   ]
  },
  {
   "cell_type": "markdown",
   "metadata": {},
   "source": [
    "### Analysing ca column/feature"
   ]
  },
  {
   "cell_type": "code",
   "execution_count": 36,
   "metadata": {},
   "outputs": [
    {
     "data": {
      "text/plain": [
       "array([0, 2, 1, 3, 4], dtype=int64)"
      ]
     },
     "execution_count": 36,
     "metadata": {},
     "output_type": "execute_result"
    }
   ],
   "source": [
    "df['ca'].unique()"
   ]
  },
  {
   "cell_type": "code",
   "execution_count": 37,
   "metadata": {},
   "outputs": [
    {
     "data": {
      "text/plain": [
       "ca\n",
       "0    175\n",
       "1     65\n",
       "2     38\n",
       "3     20\n",
       "4      5\n",
       "Name: count, dtype: int64"
      ]
     },
     "execution_count": 37,
     "metadata": {},
     "output_type": "execute_result"
    }
   ],
   "source": [
    "df['ca'].value_counts()"
   ]
  },
  {
   "cell_type": "code",
   "execution_count": 38,
   "metadata": {},
   "outputs": [
    {
     "data": {
      "text/plain": [
       "<Axes: >"
      ]
     },
     "execution_count": 38,
     "metadata": {},
     "output_type": "execute_result"
    },
    {
     "data": {
      "image/png": "[encoded data removed]",
      "text/plain": [
       "<Figure size 640x480 with 1 Axes>"
      ]
     },
     "metadata": {},
     "output_type": "display_data"
    }
   ],
   "source": [
    "sns.barplot([df['ca'], target])"
   ]
  },
  {
   "cell_type": "code",
   "execution_count": 39,
   "metadata": {},
   "outputs": [
    {
     "data": {
      "text/plain": [
       "<Axes: xlabel='ca', ylabel='target'>"
      ]
     },
     "execution_count": 39,
     "metadata": {},
     "output_type": "execute_result"
    },
    {
     "data": {
      "image/png": "[encoded data removed]",
      "text/plain": [
       "<Figure size 640x480 with 1 Axes>"
      ]
     },
     "metadata": {},
     "output_type": "display_data"
    }
   ],
   "source": [
    "sns.barplot(x = df['ca'], y = target, data = df)"
   ]
  },
  {
   "cell_type": "markdown",
   "metadata": {},
   "source": [
    "#### ca = 4 has a large number of heart patients"
   ]
  },
  {
   "cell_type": "markdown",
   "metadata": {},
   "source": [
    "### Analysing thal column/feature"
   ]
  },
  {
   "cell_type": "code",
   "execution_count": 40,
   "metadata": {},
   "outputs": [
    {
     "data": {
      "text/plain": [
       "array([1, 2, 3, 0], dtype=int64)"
      ]
     },
     "execution_count": 40,
     "metadata": {},
     "output_type": "execute_result"
    }
   ],
   "source": [
    "df['thal'].unique()"
   ]
  },
  {
   "cell_type": "code",
   "execution_count": 41,
   "metadata": {},
   "outputs": [
    {
     "data": {
      "text/plain": [
       "thal\n",
       "2    166\n",
       "3    117\n",
       "1     18\n",
       "0      2\n",
       "Name: count, dtype: int64"
      ]
     },
     "execution_count": 41,
     "metadata": {},
     "output_type": "execute_result"
    }
   ],
   "source": [
    "df['thal'].value_counts()"
   ]
  },
  {
   "cell_type": "code",
   "execution_count": 42,
   "metadata": {},
   "outputs": [
    {
     "data": {
      "text/plain": [
       "<Axes: >"
      ]
     },
     "execution_count": 42,
     "metadata": {},
     "output_type": "execute_result"
    },
    {
     "data": {
      "image/png": "[encoded data removed]",
      "text/plain": [
       "<Figure size 640x480 with 1 Axes>"
      ]
     },
     "metadata": {},
     "output_type": "display_data"
    }
   ],
   "source": [
    "sns.barplot([df['thal'], target])"
   ]
  },
  {
   "cell_type": "code",
   "execution_count": 43,
   "metadata": {},
   "outputs": [
    {
     "data": {
      "text/plain": [
       "<Axes: xlabel='thal', ylabel='target'>"
      ]
     },
     "execution_count": 43,
     "metadata": {},
     "output_type": "execute_result"
    },
    {
     "data": {
      "image/png": "[encoded data removed]",
      "text/plain": [
       "<Figure size 640x480 with 1 Axes>"
      ]
     },
     "metadata": {},
     "output_type": "display_data"
    }
   ],
   "source": [
    "sns.barplot(x = df['thal'], y = target, data = df)"
   ]
  },
  {
   "cell_type": "markdown",
   "metadata": {},
   "source": [
    "#### thal = 2 has a large number of heart patients"
   ]
  },
  {
   "cell_type": "code",
   "execution_count": 44,
   "metadata": {},
   "outputs": [],
   "source": [
    "x_features = df.drop(columns='target', axis = 1)\n",
    "\n",
    "y_target = df['target']"
   ]
  },
  {
   "cell_type": "code",
   "execution_count": 45,
   "metadata": {},
   "outputs": [
    {
     "data": {
      "text/html": [
       "<div>\n",
       "<style scoped>\n",
       "    .dataframe tbody tr th:only-of-type {\n",
       "        vertical-align: middle;\n",
       "    }\n",
       "\n",
       "    .dataframe tbody tr th {\n",
       "        vertical-align: top;\n",
       "    }\n",
       "\n",
       "    .dataframe thead th {\n",
       "        text-align: right;\n",
       "    }\n",
       "</style>\n",
       "<table border=\"1\" class=\"dataframe\">\n",
       "  <thead>\n",
       "    <tr style=\"text-align: right;\">\n",
       "      <th></th>\n",
       "      <th>age</th>\n",
       "      <th>sex</th>\n",
       "      <th>cp</th>\n",
       "      <th>trestbps</th>\n",
       "      <th>chol</th>\n",
       "      <th>fbs</th>\n",
       "      <th>restecg</th>\n",
       "      <th>thalach</th>\n",
       "      <th>exang</th>\n",
       "      <th>oldpeak</th>\n",
       "      <th>slope</th>\n",
       "      <th>ca</th>\n",
       "      <th>thal</th>\n",
       "    </tr>\n",
       "  </thead>\n",
       "  <tbody>\n",
       "    <tr>\n",
       "      <th>0</th>\n",
       "      <td>63</td>\n",
       "      <td>1</td>\n",
       "      <td>3</td>\n",
       "      <td>145</td>\n",
       "      <td>233</td>\n",
       "      <td>1</td>\n",
       "      <td>0</td>\n",
       "      <td>150</td>\n",
       "      <td>0</td>\n",
       "      <td>2.3</td>\n",
       "      <td>0</td>\n",
       "      <td>0</td>\n",
       "      <td>1</td>\n",
       "    </tr>\n",
       "    <tr>\n",
       "      <th>1</th>\n",
       "      <td>37</td>\n",
       "      <td>1</td>\n",
       "      <td>2</td>\n",
       "      <td>130</td>\n",
       "      <td>250</td>\n",
       "      <td>0</td>\n",
       "      <td>1</td>\n",
       "      <td>187</td>\n",
       "      <td>0</td>\n",
       "      <td>3.5</td>\n",
       "      <td>0</td>\n",
       "      <td>0</td>\n",
       "      <td>2</td>\n",
       "    </tr>\n",
       "    <tr>\n",
       "      <th>2</th>\n",
       "      <td>41</td>\n",
       "      <td>0</td>\n",
       "      <td>1</td>\n",
       "      <td>130</td>\n",
       "      <td>204</td>\n",
       "      <td>0</td>\n",
       "      <td>0</td>\n",
       "      <td>172</td>\n",
       "      <td>0</td>\n",
       "      <td>1.4</td>\n",
       "      <td>2</td>\n",
       "      <td>0</td>\n",
       "      <td>2</td>\n",
       "    </tr>\n",
       "    <tr>\n",
       "      <th>3</th>\n",
       "      <td>56</td>\n",
       "      <td>1</td>\n",
       "      <td>1</td>\n",
       "      <td>120</td>\n",
       "      <td>236</td>\n",
       "      <td>0</td>\n",
       "      <td>1</td>\n",
       "      <td>178</td>\n",
       "      <td>0</td>\n",
       "      <td>0.8</td>\n",
       "      <td>2</td>\n",
       "      <td>0</td>\n",
       "      <td>2</td>\n",
       "    </tr>\n",
       "    <tr>\n",
       "      <th>4</th>\n",
       "      <td>57</td>\n",
       "      <td>0</td>\n",
       "      <td>0</td>\n",
       "      <td>120</td>\n",
       "      <td>354</td>\n",
       "      <td>0</td>\n",
       "      <td>1</td>\n",
       "      <td>163</td>\n",
       "      <td>1</td>\n",
       "      <td>0.6</td>\n",
       "      <td>2</td>\n",
       "      <td>0</td>\n",
       "      <td>2</td>\n",
       "    </tr>\n",
       "    <tr>\n",
       "      <th>...</th>\n",
       "      <td>...</td>\n",
       "      <td>...</td>\n",
       "      <td>...</td>\n",
       "      <td>...</td>\n",
       "      <td>...</td>\n",
       "      <td>...</td>\n",
       "      <td>...</td>\n",
       "      <td>...</td>\n",
       "      <td>...</td>\n",
       "      <td>...</td>\n",
       "      <td>...</td>\n",
       "      <td>...</td>\n",
       "      <td>...</td>\n",
       "    </tr>\n",
       "    <tr>\n",
       "      <th>298</th>\n",
       "      <td>57</td>\n",
       "      <td>0</td>\n",
       "      <td>0</td>\n",
       "      <td>140</td>\n",
       "      <td>241</td>\n",
       "      <td>0</td>\n",
       "      <td>1</td>\n",
       "      <td>123</td>\n",
       "      <td>1</td>\n",
       "      <td>0.2</td>\n",
       "      <td>1</td>\n",
       "      <td>0</td>\n",
       "      <td>3</td>\n",
       "    </tr>\n",
       "    <tr>\n",
       "      <th>299</th>\n",
       "      <td>45</td>\n",
       "      <td>1</td>\n",
       "      <td>3</td>\n",
       "      <td>110</td>\n",
       "      <td>264</td>\n",
       "      <td>0</td>\n",
       "      <td>1</td>\n",
       "      <td>132</td>\n",
       "      <td>0</td>\n",
       "      <td>1.2</td>\n",
       "      <td>1</td>\n",
       "      <td>0</td>\n",
       "      <td>3</td>\n",
       "    </tr>\n",
       "    <tr>\n",
       "      <th>300</th>\n",
       "      <td>68</td>\n",
       "      <td>1</td>\n",
       "      <td>0</td>\n",
       "      <td>144</td>\n",
       "      <td>193</td>\n",
       "      <td>1</td>\n",
       "      <td>1</td>\n",
       "      <td>141</td>\n",
       "      <td>0</td>\n",
       "      <td>3.4</td>\n",
       "      <td>1</td>\n",
       "      <td>2</td>\n",
       "      <td>3</td>\n",
       "    </tr>\n",
       "    <tr>\n",
       "      <th>301</th>\n",
       "      <td>57</td>\n",
       "      <td>1</td>\n",
       "      <td>0</td>\n",
       "      <td>130</td>\n",
       "      <td>131</td>\n",
       "      <td>0</td>\n",
       "      <td>1</td>\n",
       "      <td>115</td>\n",
       "      <td>1</td>\n",
       "      <td>1.2</td>\n",
       "      <td>1</td>\n",
       "      <td>1</td>\n",
       "      <td>3</td>\n",
       "    </tr>\n",
       "    <tr>\n",
       "      <th>302</th>\n",
       "      <td>57</td>\n",
       "      <td>0</td>\n",
       "      <td>1</td>\n",
       "      <td>130</td>\n",
       "      <td>236</td>\n",
       "      <td>0</td>\n",
       "      <td>0</td>\n",
       "      <td>174</td>\n",
       "      <td>0</td>\n",
       "      <td>0.0</td>\n",
       "      <td>1</td>\n",
       "      <td>1</td>\n",
       "      <td>2</td>\n",
       "    </tr>\n",
       "  </tbody>\n",
       "</table>\n",
       "<p>303 rows × 13 columns</p>\n",
       "</div>"
      ],
      "text/plain": [
       "     age  sex  cp  trestbps  chol  fbs  restecg  thalach  exang  oldpeak  \\\n",
       "0     63    1   3       145   233    1        0      150      0      2.3   \n",
       "1     37    1   2       130   250    0        1      187      0      3.5   \n",
       "2     41    0   1       130   204    0        0      172      0      1.4   \n",
       "3     56    1   1       120   236    0        1      178      0      0.8   \n",
       "4     57    0   0       120   354    0        1      163      1      0.6   \n",
       "..   ...  ...  ..       ...   ...  ...      ...      ...    ...      ...   \n",
       "298   57    0   0       140   241    0        1      123      1      0.2   \n",
       "299   45    1   3       110   264    0        1      132      0      1.2   \n",
       "300   68    1   0       144   193    1        1      141      0      3.4   \n",
       "301   57    1   0       130   131    0        1      115      1      1.2   \n",
       "302   57    0   1       130   236    0        0      174      0      0.0   \n",
       "\n",
       "     slope  ca  thal  \n",
       "0        0   0     1  \n",
       "1        0   0     2  \n",
       "2        2   0     2  \n",
       "3        2   0     2  \n",
       "4        2   0     2  \n",
       "..     ...  ..   ...  \n",
       "298      1   0     3  \n",
       "299      1   0     3  \n",
       "300      1   2     3  \n",
       "301      1   1     3  \n",
       "302      1   1     2  \n",
       "\n",
       "[303 rows x 13 columns]"
      ]
     },
     "execution_count": 45,
     "metadata": {},
     "output_type": "execute_result"
    }
   ],
   "source": [
    "x_features"
   ]
  },
  {
   "cell_type": "code",
   "execution_count": 46,
   "metadata": {},
   "outputs": [
    {
     "data": {
      "text/plain": [
       "0      1\n",
       "1      1\n",
       "2      1\n",
       "3      1\n",
       "4      1\n",
       "      ..\n",
       "298    0\n",
       "299    0\n",
       "300    0\n",
       "301    0\n",
       "302    0\n",
       "Name: target, Length: 303, dtype: int64"
      ]
     },
     "execution_count": 46,
     "metadata": {},
     "output_type": "execute_result"
    }
   ],
   "source": [
    "y_target"
   ]
  },
  {
   "cell_type": "markdown",
   "metadata": {},
   "source": [
    "### Splitting data into training and testing sets"
   ]
  },
  {
   "cell_type": "code",
   "execution_count": 47,
   "metadata": {},
   "outputs": [],
   "source": [
    "train_x, test_x, train_y, test_y = train_test_split(x_features, y_target, test_size=0.2, stratify=y_target, random_state=2)\n",
    "\n",
    "# stratify is used to make sure target vals (0 and 1) are equally distributed"
   ]
  },
  {
   "cell_type": "code",
   "execution_count": 48,
   "metadata": {},
   "outputs": [
    {
     "data": {
      "text/html": [
       "<div>\n",
       "<style scoped>\n",
       "    .dataframe tbody tr th:only-of-type {\n",
       "        vertical-align: middle;\n",
       "    }\n",
       "\n",
       "    .dataframe tbody tr th {\n",
       "        vertical-align: top;\n",
       "    }\n",
       "\n",
       "    .dataframe thead th {\n",
       "        text-align: right;\n",
       "    }\n",
       "</style>\n",
       "<table border=\"1\" class=\"dataframe\">\n",
       "  <thead>\n",
       "    <tr style=\"text-align: right;\">\n",
       "      <th></th>\n",
       "      <th>age</th>\n",
       "      <th>sex</th>\n",
       "      <th>cp</th>\n",
       "      <th>trestbps</th>\n",
       "      <th>chol</th>\n",
       "      <th>fbs</th>\n",
       "      <th>restecg</th>\n",
       "      <th>thalach</th>\n",
       "      <th>exang</th>\n",
       "      <th>oldpeak</th>\n",
       "      <th>slope</th>\n",
       "      <th>ca</th>\n",
       "      <th>thal</th>\n",
       "    </tr>\n",
       "  </thead>\n",
       "  <tbody>\n",
       "    <tr>\n",
       "      <th>61</th>\n",
       "      <td>54</td>\n",
       "      <td>1</td>\n",
       "      <td>1</td>\n",
       "      <td>108</td>\n",
       "      <td>309</td>\n",
       "      <td>0</td>\n",
       "      <td>1</td>\n",
       "      <td>156</td>\n",
       "      <td>0</td>\n",
       "      <td>0.0</td>\n",
       "      <td>2</td>\n",
       "      <td>0</td>\n",
       "      <td>3</td>\n",
       "    </tr>\n",
       "    <tr>\n",
       "      <th>238</th>\n",
       "      <td>77</td>\n",
       "      <td>1</td>\n",
       "      <td>0</td>\n",
       "      <td>125</td>\n",
       "      <td>304</td>\n",
       "      <td>0</td>\n",
       "      <td>0</td>\n",
       "      <td>162</td>\n",
       "      <td>1</td>\n",
       "      <td>0.0</td>\n",
       "      <td>2</td>\n",
       "      <td>3</td>\n",
       "      <td>2</td>\n",
       "    </tr>\n",
       "    <tr>\n",
       "      <th>160</th>\n",
       "      <td>56</td>\n",
       "      <td>1</td>\n",
       "      <td>1</td>\n",
       "      <td>120</td>\n",
       "      <td>240</td>\n",
       "      <td>0</td>\n",
       "      <td>1</td>\n",
       "      <td>169</td>\n",
       "      <td>0</td>\n",
       "      <td>0.0</td>\n",
       "      <td>0</td>\n",
       "      <td>0</td>\n",
       "      <td>2</td>\n",
       "    </tr>\n",
       "    <tr>\n",
       "      <th>158</th>\n",
       "      <td>58</td>\n",
       "      <td>1</td>\n",
       "      <td>1</td>\n",
       "      <td>125</td>\n",
       "      <td>220</td>\n",
       "      <td>0</td>\n",
       "      <td>1</td>\n",
       "      <td>144</td>\n",
       "      <td>0</td>\n",
       "      <td>0.4</td>\n",
       "      <td>1</td>\n",
       "      <td>4</td>\n",
       "      <td>3</td>\n",
       "    </tr>\n",
       "    <tr>\n",
       "      <th>289</th>\n",
       "      <td>55</td>\n",
       "      <td>0</td>\n",
       "      <td>0</td>\n",
       "      <td>128</td>\n",
       "      <td>205</td>\n",
       "      <td>0</td>\n",
       "      <td>2</td>\n",
       "      <td>130</td>\n",
       "      <td>1</td>\n",
       "      <td>2.0</td>\n",
       "      <td>1</td>\n",
       "      <td>1</td>\n",
       "      <td>3</td>\n",
       "    </tr>\n",
       "    <tr>\n",
       "      <th>...</th>\n",
       "      <td>...</td>\n",
       "      <td>...</td>\n",
       "      <td>...</td>\n",
       "      <td>...</td>\n",
       "      <td>...</td>\n",
       "      <td>...</td>\n",
       "      <td>...</td>\n",
       "      <td>...</td>\n",
       "      <td>...</td>\n",
       "      <td>...</td>\n",
       "      <td>...</td>\n",
       "      <td>...</td>\n",
       "      <td>...</td>\n",
       "    </tr>\n",
       "    <tr>\n",
       "      <th>100</th>\n",
       "      <td>42</td>\n",
       "      <td>1</td>\n",
       "      <td>3</td>\n",
       "      <td>148</td>\n",
       "      <td>244</td>\n",
       "      <td>0</td>\n",
       "      <td>0</td>\n",
       "      <td>178</td>\n",
       "      <td>0</td>\n",
       "      <td>0.8</td>\n",
       "      <td>2</td>\n",
       "      <td>2</td>\n",
       "      <td>2</td>\n",
       "    </tr>\n",
       "    <tr>\n",
       "      <th>49</th>\n",
       "      <td>53</td>\n",
       "      <td>0</td>\n",
       "      <td>0</td>\n",
       "      <td>138</td>\n",
       "      <td>234</td>\n",
       "      <td>0</td>\n",
       "      <td>0</td>\n",
       "      <td>160</td>\n",
       "      <td>0</td>\n",
       "      <td>0.0</td>\n",
       "      <td>2</td>\n",
       "      <td>0</td>\n",
       "      <td>2</td>\n",
       "    </tr>\n",
       "    <tr>\n",
       "      <th>300</th>\n",
       "      <td>68</td>\n",
       "      <td>1</td>\n",
       "      <td>0</td>\n",
       "      <td>144</td>\n",
       "      <td>193</td>\n",
       "      <td>1</td>\n",
       "      <td>1</td>\n",
       "      <td>141</td>\n",
       "      <td>0</td>\n",
       "      <td>3.4</td>\n",
       "      <td>1</td>\n",
       "      <td>2</td>\n",
       "      <td>3</td>\n",
       "    </tr>\n",
       "    <tr>\n",
       "      <th>194</th>\n",
       "      <td>60</td>\n",
       "      <td>1</td>\n",
       "      <td>2</td>\n",
       "      <td>140</td>\n",
       "      <td>185</td>\n",
       "      <td>0</td>\n",
       "      <td>0</td>\n",
       "      <td>155</td>\n",
       "      <td>0</td>\n",
       "      <td>3.0</td>\n",
       "      <td>1</td>\n",
       "      <td>0</td>\n",
       "      <td>2</td>\n",
       "    </tr>\n",
       "    <tr>\n",
       "      <th>131</th>\n",
       "      <td>49</td>\n",
       "      <td>0</td>\n",
       "      <td>1</td>\n",
       "      <td>134</td>\n",
       "      <td>271</td>\n",
       "      <td>0</td>\n",
       "      <td>1</td>\n",
       "      <td>162</td>\n",
       "      <td>0</td>\n",
       "      <td>0.0</td>\n",
       "      <td>1</td>\n",
       "      <td>0</td>\n",
       "      <td>2</td>\n",
       "    </tr>\n",
       "  </tbody>\n",
       "</table>\n",
       "<p>242 rows × 13 columns</p>\n",
       "</div>"
      ],
      "text/plain": [
       "     age  sex  cp  trestbps  chol  fbs  restecg  thalach  exang  oldpeak  \\\n",
       "61    54    1   1       108   309    0        1      156      0      0.0   \n",
       "238   77    1   0       125   304    0        0      162      1      0.0   \n",
       "160   56    1   1       120   240    0        1      169      0      0.0   \n",
       "158   58    1   1       125   220    0        1      144      0      0.4   \n",
       "289   55    0   0       128   205    0        2      130      1      2.0   \n",
       "..   ...  ...  ..       ...   ...  ...      ...      ...    ...      ...   \n",
       "100   42    1   3       148   244    0        0      178      0      0.8   \n",
       "49    53    0   0       138   234    0        0      160      0      0.0   \n",
       "300   68    1   0       144   193    1        1      141      0      3.4   \n",
       "194   60    1   2       140   185    0        0      155      0      3.0   \n",
       "131   49    0   1       134   271    0        1      162      0      0.0   \n",
       "\n",
       "     slope  ca  thal  \n",
       "61       2   0     3  \n",
       "238      2   3     2  \n",
       "160      0   0     2  \n",
       "158      1   4     3  \n",
       "289      1   1     3  \n",
       "..     ...  ..   ...  \n",
       "100      2   2     2  \n",
       "49       2   0     2  \n",
       "300      1   2     3  \n",
       "194      1   0     2  \n",
       "131      1   0     2  \n",
       "\n",
       "[242 rows x 13 columns]"
      ]
     },
     "execution_count": 48,
     "metadata": {},
     "output_type": "execute_result"
    }
   ],
   "source": [
    "train_x"
   ]
  },
  {
   "cell_type": "code",
   "execution_count": 49,
   "metadata": {},
   "outputs": [
    {
     "data": {
      "text/html": [
       "<div>\n",
       "<style scoped>\n",
       "    .dataframe tbody tr th:only-of-type {\n",
       "        vertical-align: middle;\n",
       "    }\n",
       "\n",
       "    .dataframe tbody tr th {\n",
       "        vertical-align: top;\n",
       "    }\n",
       "\n",
       "    .dataframe thead th {\n",
       "        text-align: right;\n",
       "    }\n",
       "</style>\n",
       "<table border=\"1\" class=\"dataframe\">\n",
       "  <thead>\n",
       "    <tr style=\"text-align: right;\">\n",
       "      <th></th>\n",
       "      <th>age</th>\n",
       "      <th>sex</th>\n",
       "      <th>cp</th>\n",
       "      <th>trestbps</th>\n",
       "      <th>chol</th>\n",
       "      <th>fbs</th>\n",
       "      <th>restecg</th>\n",
       "      <th>thalach</th>\n",
       "      <th>exang</th>\n",
       "      <th>oldpeak</th>\n",
       "      <th>slope</th>\n",
       "      <th>ca</th>\n",
       "      <th>thal</th>\n",
       "    </tr>\n",
       "  </thead>\n",
       "  <tbody>\n",
       "    <tr>\n",
       "      <th>255</th>\n",
       "      <td>45</td>\n",
       "      <td>1</td>\n",
       "      <td>0</td>\n",
       "      <td>142</td>\n",
       "      <td>309</td>\n",
       "      <td>0</td>\n",
       "      <td>0</td>\n",
       "      <td>147</td>\n",
       "      <td>1</td>\n",
       "      <td>0.0</td>\n",
       "      <td>1</td>\n",
       "      <td>3</td>\n",
       "      <td>3</td>\n",
       "    </tr>\n",
       "    <tr>\n",
       "      <th>72</th>\n",
       "      <td>29</td>\n",
       "      <td>1</td>\n",
       "      <td>1</td>\n",
       "      <td>130</td>\n",
       "      <td>204</td>\n",
       "      <td>0</td>\n",
       "      <td>0</td>\n",
       "      <td>202</td>\n",
       "      <td>0</td>\n",
       "      <td>0.0</td>\n",
       "      <td>2</td>\n",
       "      <td>0</td>\n",
       "      <td>2</td>\n",
       "    </tr>\n",
       "    <tr>\n",
       "      <th>83</th>\n",
       "      <td>52</td>\n",
       "      <td>1</td>\n",
       "      <td>3</td>\n",
       "      <td>152</td>\n",
       "      <td>298</td>\n",
       "      <td>1</td>\n",
       "      <td>1</td>\n",
       "      <td>178</td>\n",
       "      <td>0</td>\n",
       "      <td>1.2</td>\n",
       "      <td>1</td>\n",
       "      <td>0</td>\n",
       "      <td>3</td>\n",
       "    </tr>\n",
       "    <tr>\n",
       "      <th>268</th>\n",
       "      <td>54</td>\n",
       "      <td>1</td>\n",
       "      <td>0</td>\n",
       "      <td>122</td>\n",
       "      <td>286</td>\n",
       "      <td>0</td>\n",
       "      <td>0</td>\n",
       "      <td>116</td>\n",
       "      <td>1</td>\n",
       "      <td>3.2</td>\n",
       "      <td>1</td>\n",
       "      <td>2</td>\n",
       "      <td>2</td>\n",
       "    </tr>\n",
       "    <tr>\n",
       "      <th>92</th>\n",
       "      <td>52</td>\n",
       "      <td>1</td>\n",
       "      <td>2</td>\n",
       "      <td>138</td>\n",
       "      <td>223</td>\n",
       "      <td>0</td>\n",
       "      <td>1</td>\n",
       "      <td>169</td>\n",
       "      <td>0</td>\n",
       "      <td>0.0</td>\n",
       "      <td>2</td>\n",
       "      <td>4</td>\n",
       "      <td>2</td>\n",
       "    </tr>\n",
       "    <tr>\n",
       "      <th>...</th>\n",
       "      <td>...</td>\n",
       "      <td>...</td>\n",
       "      <td>...</td>\n",
       "      <td>...</td>\n",
       "      <td>...</td>\n",
       "      <td>...</td>\n",
       "      <td>...</td>\n",
       "      <td>...</td>\n",
       "      <td>...</td>\n",
       "      <td>...</td>\n",
       "      <td>...</td>\n",
       "      <td>...</td>\n",
       "      <td>...</td>\n",
       "    </tr>\n",
       "    <tr>\n",
       "      <th>42</th>\n",
       "      <td>45</td>\n",
       "      <td>1</td>\n",
       "      <td>0</td>\n",
       "      <td>104</td>\n",
       "      <td>208</td>\n",
       "      <td>0</td>\n",
       "      <td>0</td>\n",
       "      <td>148</td>\n",
       "      <td>1</td>\n",
       "      <td>3.0</td>\n",
       "      <td>1</td>\n",
       "      <td>0</td>\n",
       "      <td>2</td>\n",
       "    </tr>\n",
       "    <tr>\n",
       "      <th>187</th>\n",
       "      <td>54</td>\n",
       "      <td>1</td>\n",
       "      <td>0</td>\n",
       "      <td>124</td>\n",
       "      <td>266</td>\n",
       "      <td>0</td>\n",
       "      <td>0</td>\n",
       "      <td>109</td>\n",
       "      <td>1</td>\n",
       "      <td>2.2</td>\n",
       "      <td>1</td>\n",
       "      <td>1</td>\n",
       "      <td>3</td>\n",
       "    </tr>\n",
       "    <tr>\n",
       "      <th>8</th>\n",
       "      <td>52</td>\n",
       "      <td>1</td>\n",
       "      <td>2</td>\n",
       "      <td>172</td>\n",
       "      <td>199</td>\n",
       "      <td>1</td>\n",
       "      <td>1</td>\n",
       "      <td>162</td>\n",
       "      <td>0</td>\n",
       "      <td>0.5</td>\n",
       "      <td>2</td>\n",
       "      <td>0</td>\n",
       "      <td>3</td>\n",
       "    </tr>\n",
       "    <tr>\n",
       "      <th>122</th>\n",
       "      <td>41</td>\n",
       "      <td>0</td>\n",
       "      <td>2</td>\n",
       "      <td>112</td>\n",
       "      <td>268</td>\n",
       "      <td>0</td>\n",
       "      <td>0</td>\n",
       "      <td>172</td>\n",
       "      <td>1</td>\n",
       "      <td>0.0</td>\n",
       "      <td>2</td>\n",
       "      <td>0</td>\n",
       "      <td>2</td>\n",
       "    </tr>\n",
       "    <tr>\n",
       "      <th>19</th>\n",
       "      <td>69</td>\n",
       "      <td>0</td>\n",
       "      <td>3</td>\n",
       "      <td>140</td>\n",
       "      <td>239</td>\n",
       "      <td>0</td>\n",
       "      <td>1</td>\n",
       "      <td>151</td>\n",
       "      <td>0</td>\n",
       "      <td>1.8</td>\n",
       "      <td>2</td>\n",
       "      <td>2</td>\n",
       "      <td>2</td>\n",
       "    </tr>\n",
       "  </tbody>\n",
       "</table>\n",
       "<p>61 rows × 13 columns</p>\n",
       "</div>"
      ],
      "text/plain": [
       "     age  sex  cp  trestbps  chol  fbs  restecg  thalach  exang  oldpeak  \\\n",
       "255   45    1   0       142   309    0        0      147      1      0.0   \n",
       "72    29    1   1       130   204    0        0      202      0      0.0   \n",
       "83    52    1   3       152   298    1        1      178      0      1.2   \n",
       "268   54    1   0       122   286    0        0      116      1      3.2   \n",
       "92    52    1   2       138   223    0        1      169      0      0.0   \n",
       "..   ...  ...  ..       ...   ...  ...      ...      ...    ...      ...   \n",
       "42    45    1   0       104   208    0        0      148      1      3.0   \n",
       "187   54    1   0       124   266    0        0      109      1      2.2   \n",
       "8     52    1   2       172   199    1        1      162      0      0.5   \n",
       "122   41    0   2       112   268    0        0      172      1      0.0   \n",
       "19    69    0   3       140   239    0        1      151      0      1.8   \n",
       "\n",
       "     slope  ca  thal  \n",
       "255      1   3     3  \n",
       "72       2   0     2  \n",
       "83       1   0     3  \n",
       "268      1   2     2  \n",
       "92       2   4     2  \n",
       "..     ...  ..   ...  \n",
       "42       1   0     2  \n",
       "187      1   1     3  \n",
       "8        2   0     3  \n",
       "122      2   0     2  \n",
       "19       2   2     2  \n",
       "\n",
       "[61 rows x 13 columns]"
      ]
     },
     "execution_count": 49,
     "metadata": {},
     "output_type": "execute_result"
    }
   ],
   "source": [
    "test_x"
   ]
  },
  {
   "cell_type": "code",
   "execution_count": 50,
   "metadata": {},
   "outputs": [
    {
     "data": {
      "text/plain": [
       "61     1\n",
       "238    0\n",
       "160    1\n",
       "158    1\n",
       "289    0\n",
       "      ..\n",
       "100    1\n",
       "49     1\n",
       "300    0\n",
       "194    0\n",
       "131    1\n",
       "Name: target, Length: 242, dtype: int64"
      ]
     },
     "execution_count": 50,
     "metadata": {},
     "output_type": "execute_result"
    }
   ],
   "source": [
    "train_y"
   ]
  },
  {
   "cell_type": "code",
   "execution_count": 51,
   "metadata": {},
   "outputs": [
    {
     "data": {
      "text/plain": [
       "255    0\n",
       "72     1\n",
       "83     1\n",
       "268    0\n",
       "92     1\n",
       "      ..\n",
       "42     1\n",
       "187    0\n",
       "8      1\n",
       "122    1\n",
       "19     1\n",
       "Name: target, Length: 61, dtype: int64"
      ]
     },
     "execution_count": 51,
     "metadata": {},
     "output_type": "execute_result"
    }
   ],
   "source": [
    "test_y"
   ]
  },
  {
   "cell_type": "code",
   "execution_count": 52,
   "metadata": {},
   "outputs": [
    {
     "name": "stdout",
     "output_type": "stream",
     "text": [
      "(303, 13) (242, 13) (61, 13)\n"
     ]
    }
   ],
   "source": [
    "print(x_features.shape, train_x.shape, test_x.shape)"
   ]
  },
  {
   "cell_type": "markdown",
   "metadata": {},
   "source": [
    "###"
   ]
  },
  {
   "cell_type": "markdown",
   "metadata": {},
   "source": [
    "## Model Training"
   ]
  },
  {
   "cell_type": "markdown",
   "metadata": {},
   "source": [
    "### Logistic Regression"
   ]
  },
  {
   "cell_type": "markdown",
   "metadata": {},
   "source": [
    "- Odds = p/1-p  where p is the probability of success\n"
   ]
  },
  {
   "cell_type": "code",
   "execution_count": 53,
   "metadata": {},
   "outputs": [
    {
     "name": "stderr",
     "output_type": "stream",
     "text": [
      "d:\\Programming lang\\PYTHON\\Python Interface\\Lib\\site-packages\\sklearn\\linear_model\\_logistic.py:469: ConvergenceWarning: lbfgs failed to converge (status=1):\n",
      "STOP: TOTAL NO. of ITERATIONS REACHED LIMIT.\n",
      "\n",
      "Increase the number of iterations (max_iter) or scale the data as shown in:\n",
      "    https://scikit-learn.org/stable/modules/preprocessing.html\n",
      "Please also refer to the documentation for alternative solver options:\n",
      "    https://scikit-learn.org/stable/modules/linear_model.html#logistic-regression\n",
      "  n_iter_i = _check_optimize_result(\n"
     ]
    },
    {
     "data": {
      "text/html": [
       "<style>#sk-container-id-1 {\n",
       "  /* Definition of color scheme common for light and dark mode */\n",
       "  --sklearn-color-text: black;\n",
       "  --sklearn-color-line: gray;\n",
       "  /* Definition of color scheme for unfitted estimators */\n",
       "  --sklearn-color-unfitted-level-0: #fff5e6;\n",
       "  --sklearn-color-unfitted-level-1: #f6e4d2;\n",
       "  --sklearn-color-unfitted-level-2: #ffe0b3;\n",
       "  --sklearn-color-unfitted-level-3: chocolate;\n",
       "  /* Definition of color scheme for fitted estimators */\n",
       "  --sklearn-color-fitted-level-0: #f0f8ff;\n",
       "  --sklearn-color-fitted-level-1: #d4ebff;\n",
       "  --sklearn-color-fitted-level-2: #b3dbfd;\n",
       "  --sklearn-color-fitted-level-3: cornflowerblue;\n",
       "\n",
       "  /* Specific color for light theme */\n",
       "  --sklearn-color-text-on-default-background: var(--sg-text-color, var(--theme-code-foreground, var(--jp-content-font-color1, black)));\n",
       "  --sklearn-color-background: var(--sg-background-color, var(--theme-background, var(--jp-layout-color0, white)));\n",
       "  --sklearn-color-border-box: var(--sg-text-color, var(--theme-code-foreground, var(--jp-content-font-color1, black)));\n",
       "  --sklearn-color-icon: #696969;\n",
       "\n",
       "  @media (prefers-color-scheme: dark) {\n",
       "    /* Redefinition of color scheme for dark theme */\n",
       "    --sklearn-color-text-on-default-background: var(--sg-text-color, var(--theme-code-foreground, var(--jp-content-font-color1, white)));\n",
       "    --sklearn-color-background: var(--sg-background-color, var(--theme-background, var(--jp-layout-color0, #111)));\n",
       "    --sklearn-color-border-box: var(--sg-text-color, var(--theme-code-foreground, var(--jp-content-font-color1, white)));\n",
       "    --sklearn-color-icon: #878787;\n",
       "  }\n",
       "}\n",
       "\n",
       "#sk-container-id-1 {\n",
       "  color: var(--sklearn-color-text);\n",
       "}\n",
       "\n",
       "#sk-container-id-1 pre {\n",
       "  padding: 0;\n",
       "}\n",
       "\n",
       "#sk-container-id-1 input.sk-hidden--visually {\n",
       "  border: 0;\n",
       "  clip: rect(1px 1px 1px 1px);\n",
       "  clip: rect(1px, 1px, 1px, 1px);\n",
       "  height: 1px;\n",
       "  margin: -1px;\n",
       "  overflow: hidden;\n",
       "  padding: 0;\n",
       "  position: absolute;\n",
       "  width: 1px;\n",
       "}\n",
       "\n",
       "#sk-container-id-1 div.sk-dashed-wrapped {\n",
       "  border: 1px dashed var(--sklearn-color-line);\n",
       "  margin: 0 0.4em 0.5em 0.4em;\n",
       "  box-sizing: border-box;\n",
       "  padding-bottom: 0.4em;\n",
       "  background-color: var(--sklearn-color-background);\n",
       "}\n",
       "\n",
       "#sk-container-id-1 div.sk-container {\n",
       "  /* jupyter's `normalize.less` sets `[hidden] { display: none; }`\n",
       "     but bootstrap.min.css set `[hidden] { display: none !important; }`\n",
       "     so we also need the `!important` here to be able to override the\n",
       "     default hidden behavior on the sphinx rendered scikit-learn.org.\n",
       "     See: https://github.com/scikit-learn/scikit-learn/issues/21755 */\n",
       "  display: inline-block !important;\n",
       "  position: relative;\n",
       "}\n",
       "\n",
       "#sk-container-id-1 div.sk-text-repr-fallback {\n",
       "  display: none;\n",
       "}\n",
       "\n",
       "div.sk-parallel-item,\n",
       "div.sk-serial,\n",
       "div.sk-item {\n",
       "  /* draw centered vertical line to link estimators */\n",
       "  background-image: linear-gradient(var(--sklearn-color-text-on-default-background), var(--sklearn-color-text-on-default-background));\n",
       "  background-size: 2px 100%;\n",
       "  background-repeat: no-repeat;\n",
       "  background-position: center center;\n",
       "}\n",
       "\n",
       "/* Parallel-specific style estimator block */\n",
       "\n",
       "#sk-container-id-1 div.sk-parallel-item::after {\n",
       "  content: \"\";\n",
       "  width: 100%;\n",
       "  border-bottom: 2px solid var(--sklearn-color-text-on-default-background);\n",
       "  flex-grow: 1;\n",
       "}\n",
       "\n",
       "#sk-container-id-1 div.sk-parallel {\n",
       "  display: flex;\n",
       "  align-items: stretch;\n",
       "  justify-content: center;\n",
       "  background-color: var(--sklearn-color-background);\n",
       "  position: relative;\n",
       "}\n",
       "\n",
       "#sk-container-id-1 div.sk-parallel-item {\n",
       "  display: flex;\n",
       "  flex-direction: column;\n",
       "}\n",
       "\n",
       "#sk-container-id-1 div.sk-parallel-item:first-child::after {\n",
       "  align-self: flex-end;\n",
       "  width: 50%;\n",
       "}\n",
       "\n",
       "#sk-container-id-1 div.sk-parallel-item:last-child::after {\n",
       "  align-self: flex-start;\n",
       "  width: 50%;\n",
       "}\n",
       "\n",
       "#sk-container-id-1 div.sk-parallel-item:only-child::after {\n",
       "  width: 0;\n",
       "}\n",
       "\n",
       "/* Serial-specific style estimator block */\n",
       "\n",
       "#sk-container-id-1 div.sk-serial {\n",
       "  display: flex;\n",
       "  flex-direction: column;\n",
       "  align-items: center;\n",
       "  background-color: var(--sklearn-color-background);\n",
       "  padding-right: 1em;\n",
       "  padding-left: 1em;\n",
       "}\n",
       "\n",
       "\n",
       "/* Toggleable style: style used for estimator/Pipeline/ColumnTransformer box that is\n",
       "clickable and can be expanded/collapsed.\n",
       "- Pipeline and ColumnTransformer use this feature and define the default style\n",
       "- Estimators will overwrite some part of the style using the `sk-estimator` class\n",
       "*/\n",
       "\n",
       "/* Pipeline and ColumnTransformer style (default) */\n",
       "\n",
       "#sk-container-id-1 div.sk-toggleable {\n",
       "  /* Default theme specific background. It is overwritten whether we have a\n",
       "  specific estimator or a Pipeline/ColumnTransformer */\n",
       "  background-color: var(--sklearn-color-background);\n",
       "}\n",
       "\n",
       "/* Toggleable label */\n",
       "#sk-container-id-1 label.sk-toggleable__label {\n",
       "  cursor: pointer;\n",
       "  display: block;\n",
       "  width: 100%;\n",
       "  margin-bottom: 0;\n",
       "  padding: 0.5em;\n",
       "  box-sizing: border-box;\n",
       "  text-align: center;\n",
       "}\n",
       "\n",
       "#sk-container-id-1 label.sk-toggleable__label-arrow:before {\n",
       "  /* Arrow on the left of the label */\n",
       "  content: \"▸\";\n",
       "  float: left;\n",
       "  margin-right: 0.25em;\n",
       "  color: var(--sklearn-color-icon);\n",
       "}\n",
       "\n",
       "#sk-container-id-1 label.sk-toggleable__label-arrow:hover:before {\n",
       "  color: var(--sklearn-color-text);\n",
       "}\n",
       "\n",
       "/* Toggleable content - dropdown */\n",
       "\n",
       "#sk-container-id-1 div.sk-toggleable__content {\n",
       "  max-height: 0;\n",
       "  max-width: 0;\n",
       "  overflow: hidden;\n",
       "  text-align: left;\n",
       "  /* unfitted */\n",
       "  background-color: var(--sklearn-color-unfitted-level-0);\n",
       "}\n",
       "\n",
       "#sk-container-id-1 div.sk-toggleable__content.fitted {\n",
       "  /* fitted */\n",
       "  background-color: var(--sklearn-color-fitted-level-0);\n",
       "}\n",
       "\n",
       "#sk-container-id-1 div.sk-toggleable__content pre {\n",
       "  margin: 0.2em;\n",
       "  border-radius: 0.25em;\n",
       "  color: var(--sklearn-color-text);\n",
       "  /* unfitted */\n",
       "  background-color: var(--sklearn-color-unfitted-level-0);\n",
       "}\n",
       "\n",
       "#sk-container-id-1 div.sk-toggleable__content.fitted pre {\n",
       "  /* unfitted */\n",
       "  background-color: var(--sklearn-color-fitted-level-0);\n",
       "}\n",
       "\n",
       "#sk-container-id-1 input.sk-toggleable__control:checked~div.sk-toggleable__content {\n",
       "  /* Expand drop-down */\n",
       "  max-height: 200px;\n",
       "  max-width: 100%;\n",
       "  overflow: auto;\n",
       "}\n",
       "\n",
       "#sk-container-id-1 input.sk-toggleable__control:checked~label.sk-toggleable__label-arrow:before {\n",
       "  content: \"▾\";\n",
       "}\n",
       "\n",
       "/* Pipeline/ColumnTransformer-specific style */\n",
       "\n",
       "#sk-container-id-1 div.sk-label input.sk-toggleable__control:checked~label.sk-toggleable__label {\n",
       "  color: var(--sklearn-color-text);\n",
       "  background-color: var(--sklearn-color-unfitted-level-2);\n",
       "}\n",
       "\n",
       "#sk-container-id-1 div.sk-label.fitted input.sk-toggleable__control:checked~label.sk-toggleable__label {\n",
       "  background-color: var(--sklearn-color-fitted-level-2);\n",
       "}\n",
       "\n",
       "/* Estimator-specific style */\n",
       "\n",
       "/* Colorize estimator box */\n",
       "#sk-container-id-1 div.sk-estimator input.sk-toggleable__control:checked~label.sk-toggleable__label {\n",
       "  /* unfitted */\n",
       "  background-color: var(--sklearn-color-unfitted-level-2);\n",
       "}\n",
       "\n",
       "#sk-container-id-1 div.sk-estimator.fitted input.sk-toggleable__control:checked~label.sk-toggleable__label {\n",
       "  /* fitted */\n",
       "  background-color: var(--sklearn-color-fitted-level-2);\n",
       "}\n",
       "\n",
       "#sk-container-id-1 div.sk-label label.sk-toggleable__label,\n",
       "#sk-container-id-1 div.sk-label label {\n",
       "  /* The background is the default theme color */\n",
       "  color: var(--sklearn-color-text-on-default-background);\n",
       "}\n",
       "\n",
       "/* On hover, darken the color of the background */\n",
       "#sk-container-id-1 div.sk-label:hover label.sk-toggleable__label {\n",
       "  color: var(--sklearn-color-text);\n",
       "  background-color: var(--sklearn-color-unfitted-level-2);\n",
       "}\n",
       "\n",
       "/* Label box, darken color on hover, fitted */\n",
       "#sk-container-id-1 div.sk-label.fitted:hover label.sk-toggleable__label.fitted {\n",
       "  color: var(--sklearn-color-text);\n",
       "  background-color: var(--sklearn-color-fitted-level-2);\n",
       "}\n",
       "\n",
       "/* Estimator label */\n",
       "\n",
       "#sk-container-id-1 div.sk-label label {\n",
       "  font-family: monospace;\n",
       "  font-weight: bold;\n",
       "  display: inline-block;\n",
       "  line-height: 1.2em;\n",
       "}\n",
       "\n",
       "#sk-container-id-1 div.sk-label-container {\n",
       "  text-align: center;\n",
       "}\n",
       "\n",
       "/* Estimator-specific */\n",
       "#sk-container-id-1 div.sk-estimator {\n",
       "  font-family: monospace;\n",
       "  border: 1px dotted var(--sklearn-color-border-box);\n",
       "  border-radius: 0.25em;\n",
       "  box-sizing: border-box;\n",
       "  margin-bottom: 0.5em;\n",
       "  /* unfitted */\n",
       "  background-color: var(--sklearn-color-unfitted-level-0);\n",
       "}\n",
       "\n",
       "#sk-container-id-1 div.sk-estimator.fitted {\n",
       "  /* fitted */\n",
       "  background-color: var(--sklearn-color-fitted-level-0);\n",
       "}\n",
       "\n",
       "/* on hover */\n",
       "#sk-container-id-1 div.sk-estimator:hover {\n",
       "  /* unfitted */\n",
       "  background-color: var(--sklearn-color-unfitted-level-2);\n",
       "}\n",
       "\n",
       "#sk-container-id-1 div.sk-estimator.fitted:hover {\n",
       "  /* fitted */\n",
       "  background-color: var(--sklearn-color-fitted-level-2);\n",
       "}\n",
       "\n",
       "/* Specification for estimator info (e.g. \"i\" and \"?\") */\n",
       "\n",
       "/* Common style for \"i\" and \"?\" */\n",
       "\n",
       ".sk-estimator-doc-link,\n",
       "a:link.sk-estimator-doc-link,\n",
       "a:visited.sk-estimator-doc-link {\n",
       "  float: right;\n",
       "  font-size: smaller;\n",
       "  line-height: 1em;\n",
       "  font-family: monospace;\n",
       "  background-color: var(--sklearn-color-background);\n",
       "  border-radius: 1em;\n",
       "  height: 1em;\n",
       "  width: 1em;\n",
       "  text-decoration: none !important;\n",
       "  margin-left: 1ex;\n",
       "  /* unfitted */\n",
       "  border: var(--sklearn-color-unfitted-level-1) 1pt solid;\n",
       "  color: var(--sklearn-color-unfitted-level-1);\n",
       "}\n",
       "\n",
       ".sk-estimator-doc-link.fitted,\n",
       "a:link.sk-estimator-doc-link.fitted,\n",
       "a:visited.sk-estimator-doc-link.fitted {\n",
       "  /* fitted */\n",
       "  border: var(--sklearn-color-fitted-level-1) 1pt solid;\n",
       "  color: var(--sklearn-color-fitted-level-1);\n",
       "}\n",
       "\n",
       "/* On hover */\n",
       "div.sk-estimator:hover .sk-estimator-doc-link:hover,\n",
       ".sk-estimator-doc-link:hover,\n",
       "div.sk-label-container:hover .sk-estimator-doc-link:hover,\n",
       ".sk-estimator-doc-link:hover {\n",
       "  /* unfitted */\n",
       "  background-color: var(--sklearn-color-unfitted-level-3);\n",
       "  color: var(--sklearn-color-background);\n",
       "  text-decoration: none;\n",
       "}\n",
       "\n",
       "div.sk-estimator.fitted:hover .sk-estimator-doc-link.fitted:hover,\n",
       ".sk-estimator-doc-link.fitted:hover,\n",
       "div.sk-label-container:hover .sk-estimator-doc-link.fitted:hover,\n",
       ".sk-estimator-doc-link.fitted:hover {\n",
       "  /* fitted */\n",
       "  background-color: var(--sklearn-color-fitted-level-3);\n",
       "  color: var(--sklearn-color-background);\n",
       "  text-decoration: none;\n",
       "}\n",
       "\n",
       "/* Span, style for the box shown on hovering the info icon */\n",
       ".sk-estimator-doc-link span {\n",
       "  display: none;\n",
       "  z-index: 9999;\n",
       "  position: relative;\n",
       "  font-weight: normal;\n",
       "  right: .2ex;\n",
       "  padding: .5ex;\n",
       "  margin: .5ex;\n",
       "  width: min-content;\n",
       "  min-width: 20ex;\n",
       "  max-width: 50ex;\n",
       "  color: var(--sklearn-color-text);\n",
       "  box-shadow: 2pt 2pt 4pt #999;\n",
       "  /* unfitted */\n",
       "  background: var(--sklearn-color-unfitted-level-0);\n",
       "  border: .5pt solid var(--sklearn-color-unfitted-level-3);\n",
       "}\n",
       "\n",
       ".sk-estimator-doc-link.fitted span {\n",
       "  /* fitted */\n",
       "  background: var(--sklearn-color-fitted-level-0);\n",
       "  border: var(--sklearn-color-fitted-level-3);\n",
       "}\n",
       "\n",
       ".sk-estimator-doc-link:hover span {\n",
       "  display: block;\n",
       "}\n",
       "\n",
       "/* \"?\"-specific style due to the `<a>` HTML tag */\n",
       "\n",
       "#sk-container-id-1 a.estimator_doc_link {\n",
       "  float: right;\n",
       "  font-size: 1rem;\n",
       "  line-height: 1em;\n",
       "  font-family: monospace;\n",
       "  background-color: var(--sklearn-color-background);\n",
       "  border-radius: 1rem;\n",
       "  height: 1rem;\n",
       "  width: 1rem;\n",
       "  text-decoration: none;\n",
       "  /* unfitted */\n",
       "  color: var(--sklearn-color-unfitted-level-1);\n",
       "  border: var(--sklearn-color-unfitted-level-1) 1pt solid;\n",
       "}\n",
       "\n",
       "#sk-container-id-1 a.estimator_doc_link.fitted {\n",
       "  /* fitted */\n",
       "  border: var(--sklearn-color-fitted-level-1) 1pt solid;\n",
       "  color: var(--sklearn-color-fitted-level-1);\n",
       "}\n",
       "\n",
       "/* On hover */\n",
       "#sk-container-id-1 a.estimator_doc_link:hover {\n",
       "  /* unfitted */\n",
       "  background-color: var(--sklearn-color-unfitted-level-3);\n",
       "  color: var(--sklearn-color-background);\n",
       "  text-decoration: none;\n",
       "}\n",
       "\n",
       "#sk-container-id-1 a.estimator_doc_link.fitted:hover {\n",
       "  /* fitted */\n",
       "  background-color: var(--sklearn-color-fitted-level-3);\n",
       "}\n",
       "</style><div id=\"sk-container-id-1\" class=\"sk-top-container\"><div class=\"sk-text-repr-fallback\"><pre>LogisticRegression()</pre><b>In a Jupyter environment, please rerun this cell to show the HTML representation or trust the notebook. <br />On GitHub, the HTML representation is unable to render, please try loading this page with nbviewer.org.</b></div><div class=\"sk-container\" hidden><div class=\"sk-item\"><div class=\"sk-estimator fitted sk-toggleable\"><input class=\"sk-toggleable__control sk-hidden--visually\" id=\"sk-estimator-id-1\" type=\"checkbox\" checked><label for=\"sk-estimator-id-1\" class=\"sk-toggleable__label fitted sk-toggleable__label-arrow fitted\">&nbsp;&nbsp;LogisticRegression<a class=\"sk-estimator-doc-link fitted\" rel=\"noreferrer\" target=\"_blank\" href=\"https://scikit-learn.org/1.4/modules/generated/sklearn.linear_model.LogisticRegression.html\">?<span>Documentation for LogisticRegression</span></a><span class=\"sk-estimator-doc-link fitted\">i<span>Fitted</span></span></label><div class=\"sk-toggleable__content fitted\"><pre>LogisticRegression()</pre></div> </div></div></div></div>"
      ],
      "text/plain": [
       "LogisticRegression()"
      ]
     },
     "execution_count": 53,
     "metadata": {},
     "output_type": "execute_result"
    }
   ],
   "source": [
    "# Creating an instance of logistic regression\n",
    "model = LogisticRegression()        \n",
    "\n",
    "# model training\n",
    "model.fit(train_x, train_y)"
   ]
  },
  {
   "cell_type": "markdown",
   "metadata": {},
   "source": [
    "### Model Evaluation"
   ]
  },
  {
   "cell_type": "code",
   "execution_count": 54,
   "metadata": {},
   "outputs": [],
   "source": [
    "# Accuracy on training data\n",
    "\n",
    "regression_train_vals = model.predict(train_x)\n",
    "\n",
    "regression_train_accuracy = accuracy_score(regression_train_vals, train_y)"
   ]
  },
  {
   "cell_type": "code",
   "execution_count": 55,
   "metadata": {},
   "outputs": [
    {
     "name": "stdout",
     "output_type": "stream",
     "text": [
      "Accuracy for training data:  85.12\n"
     ]
    }
   ],
   "source": [
    "print(\"Accuracy for training data: \" , round(regression_train_accuracy*100,2))"
   ]
  },
  {
   "cell_type": "code",
   "execution_count": 56,
   "metadata": {},
   "outputs": [],
   "source": [
    "# Accuracy on testing data\n",
    "\n",
    "regression_test_vals = model.predict(test_x)\n",
    "regression_test_accuracy = accuracy_score(regression_test_vals, test_y)"
   ]
  },
  {
   "cell_type": "code",
   "execution_count": 57,
   "metadata": {},
   "outputs": [
    {
     "name": "stdout",
     "output_type": "stream",
     "text": [
      "Accuracy for testing data:  81.97\n"
     ]
    }
   ],
   "source": [
    "print(\"Accuracy for testing data: \" , round(regression_test_accuracy*100, 2))"
   ]
  },
  {
   "cell_type": "markdown",
   "metadata": {},
   "source": [
    "###"
   ]
  },
  {
   "cell_type": "markdown",
   "metadata": {},
   "source": [
    "### KNN"
   ]
  },
  {
   "cell_type": "code",
   "execution_count": 58,
   "metadata": {},
   "outputs": [
    {
     "data": {
      "text/html": [
       "<style>#sk-container-id-2 {\n",
       "  /* Definition of color scheme common for light and dark mode */\n",
       "  --sklearn-color-text: black;\n",
       "  --sklearn-color-line: gray;\n",
       "  /* Definition of color scheme for unfitted estimators */\n",
       "  --sklearn-color-unfitted-level-0: #fff5e6;\n",
       "  --sklearn-color-unfitted-level-1: #f6e4d2;\n",
       "  --sklearn-color-unfitted-level-2: #ffe0b3;\n",
       "  --sklearn-color-unfitted-level-3: chocolate;\n",
       "  /* Definition of color scheme for fitted estimators */\n",
       "  --sklearn-color-fitted-level-0: #f0f8ff;\n",
       "  --sklearn-color-fitted-level-1: #d4ebff;\n",
       "  --sklearn-color-fitted-level-2: #b3dbfd;\n",
       "  --sklearn-color-fitted-level-3: cornflowerblue;\n",
       "\n",
       "  /* Specific color for light theme */\n",
       "  --sklearn-color-text-on-default-background: var(--sg-text-color, var(--theme-code-foreground, var(--jp-content-font-color1, black)));\n",
       "  --sklearn-color-background: var(--sg-background-color, var(--theme-background, var(--jp-layout-color0, white)));\n",
       "  --sklearn-color-border-box: var(--sg-text-color, var(--theme-code-foreground, var(--jp-content-font-color1, black)));\n",
       "  --sklearn-color-icon: #696969;\n",
       "\n",
       "  @media (prefers-color-scheme: dark) {\n",
       "    /* Redefinition of color scheme for dark theme */\n",
       "    --sklearn-color-text-on-default-background: var(--sg-text-color, var(--theme-code-foreground, var(--jp-content-font-color1, white)));\n",
       "    --sklearn-color-background: var(--sg-background-color, var(--theme-background, var(--jp-layout-color0, #111)));\n",
       "    --sklearn-color-border-box: var(--sg-text-color, var(--theme-code-foreground, var(--jp-content-font-color1, white)));\n",
       "    --sklearn-color-icon: #878787;\n",
       "  }\n",
       "}\n",
       "\n",
       "#sk-container-id-2 {\n",
       "  color: var(--sklearn-color-text);\n",
       "}\n",
       "\n",
       "#sk-container-id-2 pre {\n",
       "  padding: 0;\n",
       "}\n",
       "\n",
       "#sk-container-id-2 input.sk-hidden--visually {\n",
       "  border: 0;\n",
       "  clip: rect(1px 1px 1px 1px);\n",
       "  clip: rect(1px, 1px, 1px, 1px);\n",
       "  height: 1px;\n",
       "  margin: -1px;\n",
       "  overflow: hidden;\n",
       "  padding: 0;\n",
       "  position: absolute;\n",
       "  width: 1px;\n",
       "}\n",
       "\n",
       "#sk-container-id-2 div.sk-dashed-wrapped {\n",
       "  border: 1px dashed var(--sklearn-color-line);\n",
       "  margin: 0 0.4em 0.5em 0.4em;\n",
       "  box-sizing: border-box;\n",
       "  padding-bottom: 0.4em;\n",
       "  background-color: var(--sklearn-color-background);\n",
       "}\n",
       "\n",
       "#sk-container-id-2 div.sk-container {\n",
       "  /* jupyter's `normalize.less` sets `[hidden] { display: none; }`\n",
       "     but bootstrap.min.css set `[hidden] { display: none !important; }`\n",
       "     so we also need the `!important` here to be able to override the\n",
       "     default hidden behavior on the sphinx rendered scikit-learn.org.\n",
       "     See: https://github.com/scikit-learn/scikit-learn/issues/21755 */\n",
       "  display: inline-block !important;\n",
       "  position: relative;\n",
       "}\n",
       "\n",
       "#sk-container-id-2 div.sk-text-repr-fallback {\n",
       "  display: none;\n",
       "}\n",
       "\n",
       "div.sk-parallel-item,\n",
       "div.sk-serial,\n",
       "div.sk-item {\n",
       "  /* draw centered vertical line to link estimators */\n",
       "  background-image: linear-gradient(var(--sklearn-color-text-on-default-background), var(--sklearn-color-text-on-default-background));\n",
       "  background-size: 2px 100%;\n",
       "  background-repeat: no-repeat;\n",
       "  background-position: center center;\n",
       "}\n",
       "\n",
       "/* Parallel-specific style estimator block */\n",
       "\n",
       "#sk-container-id-2 div.sk-parallel-item::after {\n",
       "  content: \"\";\n",
       "  width: 100%;\n",
       "  border-bottom: 2px solid var(--sklearn-color-text-on-default-background);\n",
       "  flex-grow: 1;\n",
       "}\n",
       "\n",
       "#sk-container-id-2 div.sk-parallel {\n",
       "  display: flex;\n",
       "  align-items: stretch;\n",
       "  justify-content: center;\n",
       "  background-color: var(--sklearn-color-background);\n",
       "  position: relative;\n",
       "}\n",
       "\n",
       "#sk-container-id-2 div.sk-parallel-item {\n",
       "  display: flex;\n",
       "  flex-direction: column;\n",
       "}\n",
       "\n",
       "#sk-container-id-2 div.sk-parallel-item:first-child::after {\n",
       "  align-self: flex-end;\n",
       "  width: 50%;\n",
       "}\n",
       "\n",
       "#sk-container-id-2 div.sk-parallel-item:last-child::after {\n",
       "  align-self: flex-start;\n",
       "  width: 50%;\n",
       "}\n",
       "\n",
       "#sk-container-id-2 div.sk-parallel-item:only-child::after {\n",
       "  width: 0;\n",
       "}\n",
       "\n",
       "/* Serial-specific style estimator block */\n",
       "\n",
       "#sk-container-id-2 div.sk-serial {\n",
       "  display: flex;\n",
       "  flex-direction: column;\n",
       "  align-items: center;\n",
       "  background-color: var(--sklearn-color-background);\n",
       "  padding-right: 1em;\n",
       "  padding-left: 1em;\n",
       "}\n",
       "\n",
       "\n",
       "/* Toggleable style: style used for estimator/Pipeline/ColumnTransformer box that is\n",
       "clickable and can be expanded/collapsed.\n",
       "- Pipeline and ColumnTransformer use this feature and define the default style\n",
       "- Estimators will overwrite some part of the style using the `sk-estimator` class\n",
       "*/\n",
       "\n",
       "/* Pipeline and ColumnTransformer style (default) */\n",
       "\n",
       "#sk-container-id-2 div.sk-toggleable {\n",
       "  /* Default theme specific background. It is overwritten whether we have a\n",
       "  specific estimator or a Pipeline/ColumnTransformer */\n",
       "  background-color: var(--sklearn-color-background);\n",
       "}\n",
       "\n",
       "/* Toggleable label */\n",
       "#sk-container-id-2 label.sk-toggleable__label {\n",
       "  cursor: pointer;\n",
       "  display: block;\n",
       "  width: 100%;\n",
       "  margin-bottom: 0;\n",
       "  padding: 0.5em;\n",
       "  box-sizing: border-box;\n",
       "  text-align: center;\n",
       "}\n",
       "\n",
       "#sk-container-id-2 label.sk-toggleable__label-arrow:before {\n",
       "  /* Arrow on the left of the label */\n",
       "  content: \"▸\";\n",
       "  float: left;\n",
       "  margin-right: 0.25em;\n",
       "  color: var(--sklearn-color-icon);\n",
       "}\n",
       "\n",
       "#sk-container-id-2 label.sk-toggleable__label-arrow:hover:before {\n",
       "  color: var(--sklearn-color-text);\n",
       "}\n",
       "\n",
       "/* Toggleable content - dropdown */\n",
       "\n",
       "#sk-container-id-2 div.sk-toggleable__content {\n",
       "  max-height: 0;\n",
       "  max-width: 0;\n",
       "  overflow: hidden;\n",
       "  text-align: left;\n",
       "  /* unfitted */\n",
       "  background-color: var(--sklearn-color-unfitted-level-0);\n",
       "}\n",
       "\n",
       "#sk-container-id-2 div.sk-toggleable__content.fitted {\n",
       "  /* fitted */\n",
       "  background-color: var(--sklearn-color-fitted-level-0);\n",
       "}\n",
       "\n",
       "#sk-container-id-2 div.sk-toggleable__content pre {\n",
       "  margin: 0.2em;\n",
       "  border-radius: 0.25em;\n",
       "  color: var(--sklearn-color-text);\n",
       "  /* unfitted */\n",
       "  background-color: var(--sklearn-color-unfitted-level-0);\n",
       "}\n",
       "\n",
       "#sk-container-id-2 div.sk-toggleable__content.fitted pre {\n",
       "  /* unfitted */\n",
       "  background-color: var(--sklearn-color-fitted-level-0);\n",
       "}\n",
       "\n",
       "#sk-container-id-2 input.sk-toggleable__control:checked~div.sk-toggleable__content {\n",
       "  /* Expand drop-down */\n",
       "  max-height: 200px;\n",
       "  max-width: 100%;\n",
       "  overflow: auto;\n",
       "}\n",
       "\n",
       "#sk-container-id-2 input.sk-toggleable__control:checked~label.sk-toggleable__label-arrow:before {\n",
       "  content: \"▾\";\n",
       "}\n",
       "\n",
       "/* Pipeline/ColumnTransformer-specific style */\n",
       "\n",
       "#sk-container-id-2 div.sk-label input.sk-toggleable__control:checked~label.sk-toggleable__label {\n",
       "  color: var(--sklearn-color-text);\n",
       "  background-color: var(--sklearn-color-unfitted-level-2);\n",
       "}\n",
       "\n",
       "#sk-container-id-2 div.sk-label.fitted input.sk-toggleable__control:checked~label.sk-toggleable__label {\n",
       "  background-color: var(--sklearn-color-fitted-level-2);\n",
       "}\n",
       "\n",
       "/* Estimator-specific style */\n",
       "\n",
       "/* Colorize estimator box */\n",
       "#sk-container-id-2 div.sk-estimator input.sk-toggleable__control:checked~label.sk-toggleable__label {\n",
       "  /* unfitted */\n",
       "  background-color: var(--sklearn-color-unfitted-level-2);\n",
       "}\n",
       "\n",
       "#sk-container-id-2 div.sk-estimator.fitted input.sk-toggleable__control:checked~label.sk-toggleable__label {\n",
       "  /* fitted */\n",
       "  background-color: var(--sklearn-color-fitted-level-2);\n",
       "}\n",
       "\n",
       "#sk-container-id-2 div.sk-label label.sk-toggleable__label,\n",
       "#sk-container-id-2 div.sk-label label {\n",
       "  /* The background is the default theme color */\n",
       "  color: var(--sklearn-color-text-on-default-background);\n",
       "}\n",
       "\n",
       "/* On hover, darken the color of the background */\n",
       "#sk-container-id-2 div.sk-label:hover label.sk-toggleable__label {\n",
       "  color: var(--sklearn-color-text);\n",
       "  background-color: var(--sklearn-color-unfitted-level-2);\n",
       "}\n",
       "\n",
       "/* Label box, darken color on hover, fitted */\n",
       "#sk-container-id-2 div.sk-label.fitted:hover label.sk-toggleable__label.fitted {\n",
       "  color: var(--sklearn-color-text);\n",
       "  background-color: var(--sklearn-color-fitted-level-2);\n",
       "}\n",
       "\n",
       "/* Estimator label */\n",
       "\n",
       "#sk-container-id-2 div.sk-label label {\n",
       "  font-family: monospace;\n",
       "  font-weight: bold;\n",
       "  display: inline-block;\n",
       "  line-height: 1.2em;\n",
       "}\n",
       "\n",
       "#sk-container-id-2 div.sk-label-container {\n",
       "  text-align: center;\n",
       "}\n",
       "\n",
       "/* Estimator-specific */\n",
       "#sk-container-id-2 div.sk-estimator {\n",
       "  font-family: monospace;\n",
       "  border: 1px dotted var(--sklearn-color-border-box);\n",
       "  border-radius: 0.25em;\n",
       "  box-sizing: border-box;\n",
       "  margin-bottom: 0.5em;\n",
       "  /* unfitted */\n",
       "  background-color: var(--sklearn-color-unfitted-level-0);\n",
       "}\n",
       "\n",
       "#sk-container-id-2 div.sk-estimator.fitted {\n",
       "  /* fitted */\n",
       "  background-color: var(--sklearn-color-fitted-level-0);\n",
       "}\n",
       "\n",
       "/* on hover */\n",
       "#sk-container-id-2 div.sk-estimator:hover {\n",
       "  /* unfitted */\n",
       "  background-color: var(--sklearn-color-unfitted-level-2);\n",
       "}\n",
       "\n",
       "#sk-container-id-2 div.sk-estimator.fitted:hover {\n",
       "  /* fitted */\n",
       "  background-color: var(--sklearn-color-fitted-level-2);\n",
       "}\n",
       "\n",
       "/* Specification for estimator info (e.g. \"i\" and \"?\") */\n",
       "\n",
       "/* Common style for \"i\" and \"?\" */\n",
       "\n",
       ".sk-estimator-doc-link,\n",
       "a:link.sk-estimator-doc-link,\n",
       "a:visited.sk-estimator-doc-link {\n",
       "  float: right;\n",
       "  font-size: smaller;\n",
       "  line-height: 1em;\n",
       "  font-family: monospace;\n",
       "  background-color: var(--sklearn-color-background);\n",
       "  border-radius: 1em;\n",
       "  height: 1em;\n",
       "  width: 1em;\n",
       "  text-decoration: none !important;\n",
       "  margin-left: 1ex;\n",
       "  /* unfitted */\n",
       "  border: var(--sklearn-color-unfitted-level-1) 1pt solid;\n",
       "  color: var(--sklearn-color-unfitted-level-1);\n",
       "}\n",
       "\n",
       ".sk-estimator-doc-link.fitted,\n",
       "a:link.sk-estimator-doc-link.fitted,\n",
       "a:visited.sk-estimator-doc-link.fitted {\n",
       "  /* fitted */\n",
       "  border: var(--sklearn-color-fitted-level-1) 1pt solid;\n",
       "  color: var(--sklearn-color-fitted-level-1);\n",
       "}\n",
       "\n",
       "/* On hover */\n",
       "div.sk-estimator:hover .sk-estimator-doc-link:hover,\n",
       ".sk-estimator-doc-link:hover,\n",
       "div.sk-label-container:hover .sk-estimator-doc-link:hover,\n",
       ".sk-estimator-doc-link:hover {\n",
       "  /* unfitted */\n",
       "  background-color: var(--sklearn-color-unfitted-level-3);\n",
       "  color: var(--sklearn-color-background);\n",
       "  text-decoration: none;\n",
       "}\n",
       "\n",
       "div.sk-estimator.fitted:hover .sk-estimator-doc-link.fitted:hover,\n",
       ".sk-estimator-doc-link.fitted:hover,\n",
       "div.sk-label-container:hover .sk-estimator-doc-link.fitted:hover,\n",
       ".sk-estimator-doc-link.fitted:hover {\n",
       "  /* fitted */\n",
       "  background-color: var(--sklearn-color-fitted-level-3);\n",
       "  color: var(--sklearn-color-background);\n",
       "  text-decoration: none;\n",
       "}\n",
       "\n",
       "/* Span, style for the box shown on hovering the info icon */\n",
       ".sk-estimator-doc-link span {\n",
       "  display: none;\n",
       "  z-index: 9999;\n",
       "  position: relative;\n",
       "  font-weight: normal;\n",
       "  right: .2ex;\n",
       "  padding: .5ex;\n",
       "  margin: .5ex;\n",
       "  width: min-content;\n",
       "  min-width: 20ex;\n",
       "  max-width: 50ex;\n",
       "  color: var(--sklearn-color-text);\n",
       "  box-shadow: 2pt 2pt 4pt #999;\n",
       "  /* unfitted */\n",
       "  background: var(--sklearn-color-unfitted-level-0);\n",
       "  border: .5pt solid var(--sklearn-color-unfitted-level-3);\n",
       "}\n",
       "\n",
       ".sk-estimator-doc-link.fitted span {\n",
       "  /* fitted */\n",
       "  background: var(--sklearn-color-fitted-level-0);\n",
       "  border: var(--sklearn-color-fitted-level-3);\n",
       "}\n",
       "\n",
       ".sk-estimator-doc-link:hover span {\n",
       "  display: block;\n",
       "}\n",
       "\n",
       "/* \"?\"-specific style due to the `<a>` HTML tag */\n",
       "\n",
       "#sk-container-id-2 a.estimator_doc_link {\n",
       "  float: right;\n",
       "  font-size: 1rem;\n",
       "  line-height: 1em;\n",
       "  font-family: monospace;\n",
       "  background-color: var(--sklearn-color-background);\n",
       "  border-radius: 1rem;\n",
       "  height: 1rem;\n",
       "  width: 1rem;\n",
       "  text-decoration: none;\n",
       "  /* unfitted */\n",
       "  color: var(--sklearn-color-unfitted-level-1);\n",
       "  border: var(--sklearn-color-unfitted-level-1) 1pt solid;\n",
       "}\n",
       "\n",
       "#sk-container-id-2 a.estimator_doc_link.fitted {\n",
       "  /* fitted */\n",
       "  border: var(--sklearn-color-fitted-level-1) 1pt solid;\n",
       "  color: var(--sklearn-color-fitted-level-1);\n",
       "}\n",
       "\n",
       "/* On hover */\n",
       "#sk-container-id-2 a.estimator_doc_link:hover {\n",
       "  /* unfitted */\n",
       "  background-color: var(--sklearn-color-unfitted-level-3);\n",
       "  color: var(--sklearn-color-background);\n",
       "  text-decoration: none;\n",
       "}\n",
       "\n",
       "#sk-container-id-2 a.estimator_doc_link.fitted:hover {\n",
       "  /* fitted */\n",
       "  background-color: var(--sklearn-color-fitted-level-3);\n",
       "}\n",
       "</style><div id=\"sk-container-id-2\" class=\"sk-top-container\"><div class=\"sk-text-repr-fallback\"><pre>KNeighborsClassifier(n_neighbors=15)</pre><b>In a Jupyter environment, please rerun this cell to show the HTML representation or trust the notebook. <br />On GitHub, the HTML representation is unable to render, please try loading this page with nbviewer.org.</b></div><div class=\"sk-container\" hidden><div class=\"sk-item\"><div class=\"sk-estimator fitted sk-toggleable\"><input class=\"sk-toggleable__control sk-hidden--visually\" id=\"sk-estimator-id-2\" type=\"checkbox\" checked><label for=\"sk-estimator-id-2\" class=\"sk-toggleable__label fitted sk-toggleable__label-arrow fitted\">&nbsp;&nbsp;KNeighborsClassifier<a class=\"sk-estimator-doc-link fitted\" rel=\"noreferrer\" target=\"_blank\" href=\"https://scikit-learn.org/1.4/modules/generated/sklearn.neighbors.KNeighborsClassifier.html\">?<span>Documentation for KNeighborsClassifier</span></a><span class=\"sk-estimator-doc-link fitted\">i<span>Fitted</span></span></label><div class=\"sk-toggleable__content fitted\"><pre>KNeighborsClassifier(n_neighbors=15)</pre></div> </div></div></div></div>"
      ],
      "text/plain": [
       "KNeighborsClassifier(n_neighbors=15)"
      ]
     },
     "execution_count": 58,
     "metadata": {},
     "output_type": "execute_result"
    }
   ],
   "source": [
    "knn = KNeighborsClassifier(n_neighbors=15)\n",
    "knn.fit(train_x,train_y)"
   ]
  },
  {
   "cell_type": "markdown",
   "metadata": {},
   "source": [
    "### Model Evaulation"
   ]
  },
  {
   "cell_type": "code",
   "execution_count": 59,
   "metadata": {},
   "outputs": [],
   "source": [
    "# Accuracy on training data\n",
    "\n",
    "knn_train_vals = knn.predict(train_x)\n",
    "knn_train_accuracy = accuracy_score(knn_train_vals, train_y)"
   ]
  },
  {
   "cell_type": "code",
   "execution_count": 60,
   "metadata": {},
   "outputs": [
    {
     "name": "stdout",
     "output_type": "stream",
     "text": [
      "Accuracy for training data:  73.55\n"
     ]
    }
   ],
   "source": [
    "print(\"Accuracy for training data: \" , round(knn_train_accuracy*100, 2))"
   ]
  },
  {
   "cell_type": "code",
   "execution_count": 61,
   "metadata": {},
   "outputs": [],
   "source": [
    "# Accuracy on testing data\n",
    "\n",
    "knn_test_vals = knn.predict(test_x)\n",
    "knn_test_accuracy = accuracy_score(knn_test_vals, test_y)"
   ]
  },
  {
   "cell_type": "code",
   "execution_count": 62,
   "metadata": {},
   "outputs": [
    {
     "name": "stdout",
     "output_type": "stream",
     "text": [
      "Accuracy for testing data:  60.66\n"
     ]
    }
   ],
   "source": [
    "print(\"Accuracy for testing data: \" , round(knn_test_accuracy*100, 2))"
   ]
  },
  {
   "cell_type": "markdown",
   "metadata": {},
   "source": [
    "###"
   ]
  },
  {
   "cell_type": "markdown",
   "metadata": {},
   "source": [
    "### Naive Bayes"
   ]
  },
  {
   "cell_type": "markdown",
   "metadata": {},
   "source": [
    "- Calculates the conditional probability of occurrence of an event based on the knowledge of the independent features.\n",
    "- Works on the basis of bayes theorm which states that the probability of the happening of an event is dependent on the probabilities of the independent features.\n",
    "\n",
    "        P(A|B) = P(B|A) * P(A) / P(B)                   In this case we are calculating the probability of A given B"
   ]
  },
  {
   "cell_type": "code",
   "execution_count": 63,
   "metadata": {},
   "outputs": [
    {
     "data": {
      "text/html": [
       "<style>#sk-container-id-3 {\n",
       "  /* Definition of color scheme common for light and dark mode */\n",
       "  --sklearn-color-text: black;\n",
       "  --sklearn-color-line: gray;\n",
       "  /* Definition of color scheme for unfitted estimators */\n",
       "  --sklearn-color-unfitted-level-0: #fff5e6;\n",
       "  --sklearn-color-unfitted-level-1: #f6e4d2;\n",
       "  --sklearn-color-unfitted-level-2: #ffe0b3;\n",
       "  --sklearn-color-unfitted-level-3: chocolate;\n",
       "  /* Definition of color scheme for fitted estimators */\n",
       "  --sklearn-color-fitted-level-0: #f0f8ff;\n",
       "  --sklearn-color-fitted-level-1: #d4ebff;\n",
       "  --sklearn-color-fitted-level-2: #b3dbfd;\n",
       "  --sklearn-color-fitted-level-3: cornflowerblue;\n",
       "\n",
       "  /* Specific color for light theme */\n",
       "  --sklearn-color-text-on-default-background: var(--sg-text-color, var(--theme-code-foreground, var(--jp-content-font-color1, black)));\n",
       "  --sklearn-color-background: var(--sg-background-color, var(--theme-background, var(--jp-layout-color0, white)));\n",
       "  --sklearn-color-border-box: var(--sg-text-color, var(--theme-code-foreground, var(--jp-content-font-color1, black)));\n",
       "  --sklearn-color-icon: #696969;\n",
       "\n",
       "  @media (prefers-color-scheme: dark) {\n",
       "    /* Redefinition of color scheme for dark theme */\n",
       "    --sklearn-color-text-on-default-background: var(--sg-text-color, var(--theme-code-foreground, var(--jp-content-font-color1, white)));\n",
       "    --sklearn-color-background: var(--sg-background-color, var(--theme-background, var(--jp-layout-color0, #111)));\n",
       "    --sklearn-color-border-box: var(--sg-text-color, var(--theme-code-foreground, var(--jp-content-font-color1, white)));\n",
       "    --sklearn-color-icon: #878787;\n",
       "  }\n",
       "}\n",
       "\n",
       "#sk-container-id-3 {\n",
       "  color: var(--sklearn-color-text);\n",
       "}\n",
       "\n",
       "#sk-container-id-3 pre {\n",
       "  padding: 0;\n",
       "}\n",
       "\n",
       "#sk-container-id-3 input.sk-hidden--visually {\n",
       "  border: 0;\n",
       "  clip: rect(1px 1px 1px 1px);\n",
       "  clip: rect(1px, 1px, 1px, 1px);\n",
       "  height: 1px;\n",
       "  margin: -1px;\n",
       "  overflow: hidden;\n",
       "  padding: 0;\n",
       "  position: absolute;\n",
       "  width: 1px;\n",
       "}\n",
       "\n",
       "#sk-container-id-3 div.sk-dashed-wrapped {\n",
       "  border: 1px dashed var(--sklearn-color-line);\n",
       "  margin: 0 0.4em 0.5em 0.4em;\n",
       "  box-sizing: border-box;\n",
       "  padding-bottom: 0.4em;\n",
       "  background-color: var(--sklearn-color-background);\n",
       "}\n",
       "\n",
       "#sk-container-id-3 div.sk-container {\n",
       "  /* jupyter's `normalize.less` sets `[hidden] { display: none; }`\n",
       "     but bootstrap.min.css set `[hidden] { display: none !important; }`\n",
       "     so we also need the `!important` here to be able to override the\n",
       "     default hidden behavior on the sphinx rendered scikit-learn.org.\n",
       "     See: https://github.com/scikit-learn/scikit-learn/issues/21755 */\n",
       "  display: inline-block !important;\n",
       "  position: relative;\n",
       "}\n",
       "\n",
       "#sk-container-id-3 div.sk-text-repr-fallback {\n",
       "  display: none;\n",
       "}\n",
       "\n",
       "div.sk-parallel-item,\n",
       "div.sk-serial,\n",
       "div.sk-item {\n",
       "  /* draw centered vertical line to link estimators */\n",
       "  background-image: linear-gradient(var(--sklearn-color-text-on-default-background), var(--sklearn-color-text-on-default-background));\n",
       "  background-size: 2px 100%;\n",
       "  background-repeat: no-repeat;\n",
       "  background-position: center center;\n",
       "}\n",
       "\n",
       "/* Parallel-specific style estimator block */\n",
       "\n",
       "#sk-container-id-3 div.sk-parallel-item::after {\n",
       "  content: \"\";\n",
       "  width: 100%;\n",
       "  border-bottom: 2px solid var(--sklearn-color-text-on-default-background);\n",
       "  flex-grow: 1;\n",
       "}\n",
       "\n",
       "#sk-container-id-3 div.sk-parallel {\n",
       "  display: flex;\n",
       "  align-items: stretch;\n",
       "  justify-content: center;\n",
       "  background-color: var(--sklearn-color-background);\n",
       "  position: relative;\n",
       "}\n",
       "\n",
       "#sk-container-id-3 div.sk-parallel-item {\n",
       "  display: flex;\n",
       "  flex-direction: column;\n",
       "}\n",
       "\n",
       "#sk-container-id-3 div.sk-parallel-item:first-child::after {\n",
       "  align-self: flex-end;\n",
       "  width: 50%;\n",
       "}\n",
       "\n",
       "#sk-container-id-3 div.sk-parallel-item:last-child::after {\n",
       "  align-self: flex-start;\n",
       "  width: 50%;\n",
       "}\n",
       "\n",
       "#sk-container-id-3 div.sk-parallel-item:only-child::after {\n",
       "  width: 0;\n",
       "}\n",
       "\n",
       "/* Serial-specific style estimator block */\n",
       "\n",
       "#sk-container-id-3 div.sk-serial {\n",
       "  display: flex;\n",
       "  flex-direction: column;\n",
       "  align-items: center;\n",
       "  background-color: var(--sklearn-color-background);\n",
       "  padding-right: 1em;\n",
       "  padding-left: 1em;\n",
       "}\n",
       "\n",
       "\n",
       "/* Toggleable style: style used for estimator/Pipeline/ColumnTransformer box that is\n",
       "clickable and can be expanded/collapsed.\n",
       "- Pipeline and ColumnTransformer use this feature and define the default style\n",
       "- Estimators will overwrite some part of the style using the `sk-estimator` class\n",
       "*/\n",
       "\n",
       "/* Pipeline and ColumnTransformer style (default) */\n",
       "\n",
       "#sk-container-id-3 div.sk-toggleable {\n",
       "  /* Default theme specific background. It is overwritten whether we have a\n",
       "  specific estimator or a Pipeline/ColumnTransformer */\n",
       "  background-color: var(--sklearn-color-background);\n",
       "}\n",
       "\n",
       "/* Toggleable label */\n",
       "#sk-container-id-3 label.sk-toggleable__label {\n",
       "  cursor: pointer;\n",
       "  display: block;\n",
       "  width: 100%;\n",
       "  margin-bottom: 0;\n",
       "  padding: 0.5em;\n",
       "  box-sizing: border-box;\n",
       "  text-align: center;\n",
       "}\n",
       "\n",
       "#sk-container-id-3 label.sk-toggleable__label-arrow:before {\n",
       "  /* Arrow on the left of the label */\n",
       "  content: \"▸\";\n",
       "  float: left;\n",
       "  margin-right: 0.25em;\n",
       "  color: var(--sklearn-color-icon);\n",
       "}\n",
       "\n",
       "#sk-container-id-3 label.sk-toggleable__label-arrow:hover:before {\n",
       "  color: var(--sklearn-color-text);\n",
       "}\n",
       "\n",
       "/* Toggleable content - dropdown */\n",
       "\n",
       "#sk-container-id-3 div.sk-toggleable__content {\n",
       "  max-height: 0;\n",
       "  max-width: 0;\n",
       "  overflow: hidden;\n",
       "  text-align: left;\n",
       "  /* unfitted */\n",
       "  background-color: var(--sklearn-color-unfitted-level-0);\n",
       "}\n",
       "\n",
       "#sk-container-id-3 div.sk-toggleable__content.fitted {\n",
       "  /* fitted */\n",
       "  background-color: var(--sklearn-color-fitted-level-0);\n",
       "}\n",
       "\n",
       "#sk-container-id-3 div.sk-toggleable__content pre {\n",
       "  margin: 0.2em;\n",
       "  border-radius: 0.25em;\n",
       "  color: var(--sklearn-color-text);\n",
       "  /* unfitted */\n",
       "  background-color: var(--sklearn-color-unfitted-level-0);\n",
       "}\n",
       "\n",
       "#sk-container-id-3 div.sk-toggleable__content.fitted pre {\n",
       "  /* unfitted */\n",
       "  background-color: var(--sklearn-color-fitted-level-0);\n",
       "}\n",
       "\n",
       "#sk-container-id-3 input.sk-toggleable__control:checked~div.sk-toggleable__content {\n",
       "  /* Expand drop-down */\n",
       "  max-height: 200px;\n",
       "  max-width: 100%;\n",
       "  overflow: auto;\n",
       "}\n",
       "\n",
       "#sk-container-id-3 input.sk-toggleable__control:checked~label.sk-toggleable__label-arrow:before {\n",
       "  content: \"▾\";\n",
       "}\n",
       "\n",
       "/* Pipeline/ColumnTransformer-specific style */\n",
       "\n",
       "#sk-container-id-3 div.sk-label input.sk-toggleable__control:checked~label.sk-toggleable__label {\n",
       "  color: var(--sklearn-color-text);\n",
       "  background-color: var(--sklearn-color-unfitted-level-2);\n",
       "}\n",
       "\n",
       "#sk-container-id-3 div.sk-label.fitted input.sk-toggleable__control:checked~label.sk-toggleable__label {\n",
       "  background-color: var(--sklearn-color-fitted-level-2);\n",
       "}\n",
       "\n",
       "/* Estimator-specific style */\n",
       "\n",
       "/* Colorize estimator box */\n",
       "#sk-container-id-3 div.sk-estimator input.sk-toggleable__control:checked~label.sk-toggleable__label {\n",
       "  /* unfitted */\n",
       "  background-color: var(--sklearn-color-unfitted-level-2);\n",
       "}\n",
       "\n",
       "#sk-container-id-3 div.sk-estimator.fitted input.sk-toggleable__control:checked~label.sk-toggleable__label {\n",
       "  /* fitted */\n",
       "  background-color: var(--sklearn-color-fitted-level-2);\n",
       "}\n",
       "\n",
       "#sk-container-id-3 div.sk-label label.sk-toggleable__label,\n",
       "#sk-container-id-3 div.sk-label label {\n",
       "  /* The background is the default theme color */\n",
       "  color: var(--sklearn-color-text-on-default-background);\n",
       "}\n",
       "\n",
       "/* On hover, darken the color of the background */\n",
       "#sk-container-id-3 div.sk-label:hover label.sk-toggleable__label {\n",
       "  color: var(--sklearn-color-text);\n",
       "  background-color: var(--sklearn-color-unfitted-level-2);\n",
       "}\n",
       "\n",
       "/* Label box, darken color on hover, fitted */\n",
       "#sk-container-id-3 div.sk-label.fitted:hover label.sk-toggleable__label.fitted {\n",
       "  color: var(--sklearn-color-text);\n",
       "  background-color: var(--sklearn-color-fitted-level-2);\n",
       "}\n",
       "\n",
       "/* Estimator label */\n",
       "\n",
       "#sk-container-id-3 div.sk-label label {\n",
       "  font-family: monospace;\n",
       "  font-weight: bold;\n",
       "  display: inline-block;\n",
       "  line-height: 1.2em;\n",
       "}\n",
       "\n",
       "#sk-container-id-3 div.sk-label-container {\n",
       "  text-align: center;\n",
       "}\n",
       "\n",
       "/* Estimator-specific */\n",
       "#sk-container-id-3 div.sk-estimator {\n",
       "  font-family: monospace;\n",
       "  border: 1px dotted var(--sklearn-color-border-box);\n",
       "  border-radius: 0.25em;\n",
       "  box-sizing: border-box;\n",
       "  margin-bottom: 0.5em;\n",
       "  /* unfitted */\n",
       "  background-color: var(--sklearn-color-unfitted-level-0);\n",
       "}\n",
       "\n",
       "#sk-container-id-3 div.sk-estimator.fitted {\n",
       "  /* fitted */\n",
       "  background-color: var(--sklearn-color-fitted-level-0);\n",
       "}\n",
       "\n",
       "/* on hover */\n",
       "#sk-container-id-3 div.sk-estimator:hover {\n",
       "  /* unfitted */\n",
       "  background-color: var(--sklearn-color-unfitted-level-2);\n",
       "}\n",
       "\n",
       "#sk-container-id-3 div.sk-estimator.fitted:hover {\n",
       "  /* fitted */\n",
       "  background-color: var(--sklearn-color-fitted-level-2);\n",
       "}\n",
       "\n",
       "/* Specification for estimator info (e.g. \"i\" and \"?\") */\n",
       "\n",
       "/* Common style for \"i\" and \"?\" */\n",
       "\n",
       ".sk-estimator-doc-link,\n",
       "a:link.sk-estimator-doc-link,\n",
       "a:visited.sk-estimator-doc-link {\n",
       "  float: right;\n",
       "  font-size: smaller;\n",
       "  line-height: 1em;\n",
       "  font-family: monospace;\n",
       "  background-color: var(--sklearn-color-background);\n",
       "  border-radius: 1em;\n",
       "  height: 1em;\n",
       "  width: 1em;\n",
       "  text-decoration: none !important;\n",
       "  margin-left: 1ex;\n",
       "  /* unfitted */\n",
       "  border: var(--sklearn-color-unfitted-level-1) 1pt solid;\n",
       "  color: var(--sklearn-color-unfitted-level-1);\n",
       "}\n",
       "\n",
       ".sk-estimator-doc-link.fitted,\n",
       "a:link.sk-estimator-doc-link.fitted,\n",
       "a:visited.sk-estimator-doc-link.fitted {\n",
       "  /* fitted */\n",
       "  border: var(--sklearn-color-fitted-level-1) 1pt solid;\n",
       "  color: var(--sklearn-color-fitted-level-1);\n",
       "}\n",
       "\n",
       "/* On hover */\n",
       "div.sk-estimator:hover .sk-estimator-doc-link:hover,\n",
       ".sk-estimator-doc-link:hover,\n",
       "div.sk-label-container:hover .sk-estimator-doc-link:hover,\n",
       ".sk-estimator-doc-link:hover {\n",
       "  /* unfitted */\n",
       "  background-color: var(--sklearn-color-unfitted-level-3);\n",
       "  color: var(--sklearn-color-background);\n",
       "  text-decoration: none;\n",
       "}\n",
       "\n",
       "div.sk-estimator.fitted:hover .sk-estimator-doc-link.fitted:hover,\n",
       ".sk-estimator-doc-link.fitted:hover,\n",
       "div.sk-label-container:hover .sk-estimator-doc-link.fitted:hover,\n",
       ".sk-estimator-doc-link.fitted:hover {\n",
       "  /* fitted */\n",
       "  background-color: var(--sklearn-color-fitted-level-3);\n",
       "  color: var(--sklearn-color-background);\n",
       "  text-decoration: none;\n",
       "}\n",
       "\n",
       "/* Span, style for the box shown on hovering the info icon */\n",
       ".sk-estimator-doc-link span {\n",
       "  display: none;\n",
       "  z-index: 9999;\n",
       "  position: relative;\n",
       "  font-weight: normal;\n",
       "  right: .2ex;\n",
       "  padding: .5ex;\n",
       "  margin: .5ex;\n",
       "  width: min-content;\n",
       "  min-width: 20ex;\n",
       "  max-width: 50ex;\n",
       "  color: var(--sklearn-color-text);\n",
       "  box-shadow: 2pt 2pt 4pt #999;\n",
       "  /* unfitted */\n",
       "  background: var(--sklearn-color-unfitted-level-0);\n",
       "  border: .5pt solid var(--sklearn-color-unfitted-level-3);\n",
       "}\n",
       "\n",
       ".sk-estimator-doc-link.fitted span {\n",
       "  /* fitted */\n",
       "  background: var(--sklearn-color-fitted-level-0);\n",
       "  border: var(--sklearn-color-fitted-level-3);\n",
       "}\n",
       "\n",
       ".sk-estimator-doc-link:hover span {\n",
       "  display: block;\n",
       "}\n",
       "\n",
       "/* \"?\"-specific style due to the `<a>` HTML tag */\n",
       "\n",
       "#sk-container-id-3 a.estimator_doc_link {\n",
       "  float: right;\n",
       "  font-size: 1rem;\n",
       "  line-height: 1em;\n",
       "  font-family: monospace;\n",
       "  background-color: var(--sklearn-color-background);\n",
       "  border-radius: 1rem;\n",
       "  height: 1rem;\n",
       "  width: 1rem;\n",
       "  text-decoration: none;\n",
       "  /* unfitted */\n",
       "  color: var(--sklearn-color-unfitted-level-1);\n",
       "  border: var(--sklearn-color-unfitted-level-1) 1pt solid;\n",
       "}\n",
       "\n",
       "#sk-container-id-3 a.estimator_doc_link.fitted {\n",
       "  /* fitted */\n",
       "  border: var(--sklearn-color-fitted-level-1) 1pt solid;\n",
       "  color: var(--sklearn-color-fitted-level-1);\n",
       "}\n",
       "\n",
       "/* On hover */\n",
       "#sk-container-id-3 a.estimator_doc_link:hover {\n",
       "  /* unfitted */\n",
       "  background-color: var(--sklearn-color-unfitted-level-3);\n",
       "  color: var(--sklearn-color-background);\n",
       "  text-decoration: none;\n",
       "}\n",
       "\n",
       "#sk-container-id-3 a.estimator_doc_link.fitted:hover {\n",
       "  /* fitted */\n",
       "  background-color: var(--sklearn-color-fitted-level-3);\n",
       "}\n",
       "</style><div id=\"sk-container-id-3\" class=\"sk-top-container\"><div class=\"sk-text-repr-fallback\"><pre>GaussianNB()</pre><b>In a Jupyter environment, please rerun this cell to show the HTML representation or trust the notebook. <br />On GitHub, the HTML representation is unable to render, please try loading this page with nbviewer.org.</b></div><div class=\"sk-container\" hidden><div class=\"sk-item\"><div class=\"sk-estimator fitted sk-toggleable\"><input class=\"sk-toggleable__control sk-hidden--visually\" id=\"sk-estimator-id-3\" type=\"checkbox\" checked><label for=\"sk-estimator-id-3\" class=\"sk-toggleable__label fitted sk-toggleable__label-arrow fitted\">&nbsp;&nbsp;GaussianNB<a class=\"sk-estimator-doc-link fitted\" rel=\"noreferrer\" target=\"_blank\" href=\"https://scikit-learn.org/1.4/modules/generated/sklearn.naive_bayes.GaussianNB.html\">?<span>Documentation for GaussianNB</span></a><span class=\"sk-estimator-doc-link fitted\">i<span>Fitted</span></span></label><div class=\"sk-toggleable__content fitted\"><pre>GaussianNB()</pre></div> </div></div></div></div>"
      ],
      "text/plain": [
       "GaussianNB()"
      ]
     },
     "execution_count": 63,
     "metadata": {},
     "output_type": "execute_result"
    }
   ],
   "source": [
    "nb = GaussianNB()\n",
    "nb.fit(train_x,train_y)"
   ]
  },
  {
   "cell_type": "markdown",
   "metadata": {},
   "source": [
    "### Model Evaluation"
   ]
  },
  {
   "cell_type": "code",
   "execution_count": 64,
   "metadata": {},
   "outputs": [],
   "source": [
    "# Accuracy on training data\n",
    "\n",
    "naive_train_vals = knn.predict(train_x)\n",
    "naive_train_accuracy = accuracy_score(naive_train_vals, train_y)"
   ]
  },
  {
   "cell_type": "code",
   "execution_count": 65,
   "metadata": {},
   "outputs": [
    {
     "name": "stdout",
     "output_type": "stream",
     "text": [
      "Accuracy for training data:  73.55\n"
     ]
    }
   ],
   "source": [
    "print(\"Accuracy for training data: \" , round(naive_train_accuracy*100, 2))"
   ]
  },
  {
   "cell_type": "code",
   "execution_count": 66,
   "metadata": {},
   "outputs": [],
   "source": [
    "# Accuracy on testing data\n",
    "\n",
    "knn_test_vals = knn.predict(test_x)\n",
    "knn_test_accuracy = accuracy_score(knn_test_vals, test_y)"
   ]
  },
  {
   "cell_type": "code",
   "execution_count": 67,
   "metadata": {},
   "outputs": [
    {
     "name": "stdout",
     "output_type": "stream",
     "text": [
      "Accuracy for testing data:  60.66\n"
     ]
    }
   ],
   "source": [
    "print(\"Accuracy for testing data: \" , round(knn_test_accuracy*100, 2))"
   ]
  },
  {
   "cell_type": "markdown",
   "metadata": {},
   "source": [
    "###"
   ]
  },
  {
   "cell_type": "markdown",
   "metadata": {},
   "source": [
    "### Decision Tree"
   ]
  },
  {
   "cell_type": "code",
   "execution_count": null,
   "metadata": {},
   "outputs": [],
   "source": []
  },
  {
   "cell_type": "code",
   "execution_count": 68,
   "metadata": {},
   "outputs": [
    {
     "data": {
      "text/html": [
       "<style>#sk-container-id-4 {\n",
       "  /* Definition of color scheme common for light and dark mode */\n",
       "  --sklearn-color-text: black;\n",
       "  --sklearn-color-line: gray;\n",
       "  /* Definition of color scheme for unfitted estimators */\n",
       "  --sklearn-color-unfitted-level-0: #fff5e6;\n",
       "  --sklearn-color-unfitted-level-1: #f6e4d2;\n",
       "  --sklearn-color-unfitted-level-2: #ffe0b3;\n",
       "  --sklearn-color-unfitted-level-3: chocolate;\n",
       "  /* Definition of color scheme for fitted estimators */\n",
       "  --sklearn-color-fitted-level-0: #f0f8ff;\n",
       "  --sklearn-color-fitted-level-1: #d4ebff;\n",
       "  --sklearn-color-fitted-level-2: #b3dbfd;\n",
       "  --sklearn-color-fitted-level-3: cornflowerblue;\n",
       "\n",
       "  /* Specific color for light theme */\n",
       "  --sklearn-color-text-on-default-background: var(--sg-text-color, var(--theme-code-foreground, var(--jp-content-font-color1, black)));\n",
       "  --sklearn-color-background: var(--sg-background-color, var(--theme-background, var(--jp-layout-color0, white)));\n",
       "  --sklearn-color-border-box: var(--sg-text-color, var(--theme-code-foreground, var(--jp-content-font-color1, black)));\n",
       "  --sklearn-color-icon: #696969;\n",
       "\n",
       "  @media (prefers-color-scheme: dark) {\n",
       "    /* Redefinition of color scheme for dark theme */\n",
       "    --sklearn-color-text-on-default-background: var(--sg-text-color, var(--theme-code-foreground, var(--jp-content-font-color1, white)));\n",
       "    --sklearn-color-background: var(--sg-background-color, var(--theme-background, var(--jp-layout-color0, #111)));\n",
       "    --sklearn-color-border-box: var(--sg-text-color, var(--theme-code-foreground, var(--jp-content-font-color1, white)));\n",
       "    --sklearn-color-icon: #878787;\n",
       "  }\n",
       "}\n",
       "\n",
       "#sk-container-id-4 {\n",
       "  color: var(--sklearn-color-text);\n",
       "}\n",
       "\n",
       "#sk-container-id-4 pre {\n",
       "  padding: 0;\n",
       "}\n",
       "\n",
       "#sk-container-id-4 input.sk-hidden--visually {\n",
       "  border: 0;\n",
       "  clip: rect(1px 1px 1px 1px);\n",
       "  clip: rect(1px, 1px, 1px, 1px);\n",
       "  height: 1px;\n",
       "  margin: -1px;\n",
       "  overflow: hidden;\n",
       "  padding: 0;\n",
       "  position: absolute;\n",
       "  width: 1px;\n",
       "}\n",
       "\n",
       "#sk-container-id-4 div.sk-dashed-wrapped {\n",
       "  border: 1px dashed var(--sklearn-color-line);\n",
       "  margin: 0 0.4em 0.5em 0.4em;\n",
       "  box-sizing: border-box;\n",
       "  padding-bottom: 0.4em;\n",
       "  background-color: var(--sklearn-color-background);\n",
       "}\n",
       "\n",
       "#sk-container-id-4 div.sk-container {\n",
       "  /* jupyter's `normalize.less` sets `[hidden] { display: none; }`\n",
       "     but bootstrap.min.css set `[hidden] { display: none !important; }`\n",
       "     so we also need the `!important` here to be able to override the\n",
       "     default hidden behavior on the sphinx rendered scikit-learn.org.\n",
       "     See: https://github.com/scikit-learn/scikit-learn/issues/21755 */\n",
       "  display: inline-block !important;\n",
       "  position: relative;\n",
       "}\n",
       "\n",
       "#sk-container-id-4 div.sk-text-repr-fallback {\n",
       "  display: none;\n",
       "}\n",
       "\n",
       "div.sk-parallel-item,\n",
       "div.sk-serial,\n",
       "div.sk-item {\n",
       "  /* draw centered vertical line to link estimators */\n",
       "  background-image: linear-gradient(var(--sklearn-color-text-on-default-background), var(--sklearn-color-text-on-default-background));\n",
       "  background-size: 2px 100%;\n",
       "  background-repeat: no-repeat;\n",
       "  background-position: center center;\n",
       "}\n",
       "\n",
       "/* Parallel-specific style estimator block */\n",
       "\n",
       "#sk-container-id-4 div.sk-parallel-item::after {\n",
       "  content: \"\";\n",
       "  width: 100%;\n",
       "  border-bottom: 2px solid var(--sklearn-color-text-on-default-background);\n",
       "  flex-grow: 1;\n",
       "}\n",
       "\n",
       "#sk-container-id-4 div.sk-parallel {\n",
       "  display: flex;\n",
       "  align-items: stretch;\n",
       "  justify-content: center;\n",
       "  background-color: var(--sklearn-color-background);\n",
       "  position: relative;\n",
       "}\n",
       "\n",
       "#sk-container-id-4 div.sk-parallel-item {\n",
       "  display: flex;\n",
       "  flex-direction: column;\n",
       "}\n",
       "\n",
       "#sk-container-id-4 div.sk-parallel-item:first-child::after {\n",
       "  align-self: flex-end;\n",
       "  width: 50%;\n",
       "}\n",
       "\n",
       "#sk-container-id-4 div.sk-parallel-item:last-child::after {\n",
       "  align-self: flex-start;\n",
       "  width: 50%;\n",
       "}\n",
       "\n",
       "#sk-container-id-4 div.sk-parallel-item:only-child::after {\n",
       "  width: 0;\n",
       "}\n",
       "\n",
       "/* Serial-specific style estimator block */\n",
       "\n",
       "#sk-container-id-4 div.sk-serial {\n",
       "  display: flex;\n",
       "  flex-direction: column;\n",
       "  align-items: center;\n",
       "  background-color: var(--sklearn-color-background);\n",
       "  padding-right: 1em;\n",
       "  padding-left: 1em;\n",
       "}\n",
       "\n",
       "\n",
       "/* Toggleable style: style used for estimator/Pipeline/ColumnTransformer box that is\n",
       "clickable and can be expanded/collapsed.\n",
       "- Pipeline and ColumnTransformer use this feature and define the default style\n",
       "- Estimators will overwrite some part of the style using the `sk-estimator` class\n",
       "*/\n",
       "\n",
       "/* Pipeline and ColumnTransformer style (default) */\n",
       "\n",
       "#sk-container-id-4 div.sk-toggleable {\n",
       "  /* Default theme specific background. It is overwritten whether we have a\n",
       "  specific estimator or a Pipeline/ColumnTransformer */\n",
       "  background-color: var(--sklearn-color-background);\n",
       "}\n",
       "\n",
       "/* Toggleable label */\n",
       "#sk-container-id-4 label.sk-toggleable__label {\n",
       "  cursor: pointer;\n",
       "  display: block;\n",
       "  width: 100%;\n",
       "  margin-bottom: 0;\n",
       "  padding: 0.5em;\n",
       "  box-sizing: border-box;\n",
       "  text-align: center;\n",
       "}\n",
       "\n",
       "#sk-container-id-4 label.sk-toggleable__label-arrow:before {\n",
       "  /* Arrow on the left of the label */\n",
       "  content: \"▸\";\n",
       "  float: left;\n",
       "  margin-right: 0.25em;\n",
       "  color: var(--sklearn-color-icon);\n",
       "}\n",
       "\n",
       "#sk-container-id-4 label.sk-toggleable__label-arrow:hover:before {\n",
       "  color: var(--sklearn-color-text);\n",
       "}\n",
       "\n",
       "/* Toggleable content - dropdown */\n",
       "\n",
       "#sk-container-id-4 div.sk-toggleable__content {\n",
       "  max-height: 0;\n",
       "  max-width: 0;\n",
       "  overflow: hidden;\n",
       "  text-align: left;\n",
       "  /* unfitted */\n",
       "  background-color: var(--sklearn-color-unfitted-level-0);\n",
       "}\n",
       "\n",
       "#sk-container-id-4 div.sk-toggleable__content.fitted {\n",
       "  /* fitted */\n",
       "  background-color: var(--sklearn-color-fitted-level-0);\n",
       "}\n",
       "\n",
       "#sk-container-id-4 div.sk-toggleable__content pre {\n",
       "  margin: 0.2em;\n",
       "  border-radius: 0.25em;\n",
       "  color: var(--sklearn-color-text);\n",
       "  /* unfitted */\n",
       "  background-color: var(--sklearn-color-unfitted-level-0);\n",
       "}\n",
       "\n",
       "#sk-container-id-4 div.sk-toggleable__content.fitted pre {\n",
       "  /* unfitted */\n",
       "  background-color: var(--sklearn-color-fitted-level-0);\n",
       "}\n",
       "\n",
       "#sk-container-id-4 input.sk-toggleable__control:checked~div.sk-toggleable__content {\n",
       "  /* Expand drop-down */\n",
       "  max-height: 200px;\n",
       "  max-width: 100%;\n",
       "  overflow: auto;\n",
       "}\n",
       "\n",
       "#sk-container-id-4 input.sk-toggleable__control:checked~label.sk-toggleable__label-arrow:before {\n",
       "  content: \"▾\";\n",
       "}\n",
       "\n",
       "/* Pipeline/ColumnTransformer-specific style */\n",
       "\n",
       "#sk-container-id-4 div.sk-label input.sk-toggleable__control:checked~label.sk-toggleable__label {\n",
       "  color: var(--sklearn-color-text);\n",
       "  background-color: var(--sklearn-color-unfitted-level-2);\n",
       "}\n",
       "\n",
       "#sk-container-id-4 div.sk-label.fitted input.sk-toggleable__control:checked~label.sk-toggleable__label {\n",
       "  background-color: var(--sklearn-color-fitted-level-2);\n",
       "}\n",
       "\n",
       "/* Estimator-specific style */\n",
       "\n",
       "/* Colorize estimator box */\n",
       "#sk-container-id-4 div.sk-estimator input.sk-toggleable__control:checked~label.sk-toggleable__label {\n",
       "  /* unfitted */\n",
       "  background-color: var(--sklearn-color-unfitted-level-2);\n",
       "}\n",
       "\n",
       "#sk-container-id-4 div.sk-estimator.fitted input.sk-toggleable__control:checked~label.sk-toggleable__label {\n",
       "  /* fitted */\n",
       "  background-color: var(--sklearn-color-fitted-level-2);\n",
       "}\n",
       "\n",
       "#sk-container-id-4 div.sk-label label.sk-toggleable__label,\n",
       "#sk-container-id-4 div.sk-label label {\n",
       "  /* The background is the default theme color */\n",
       "  color: var(--sklearn-color-text-on-default-background);\n",
       "}\n",
       "\n",
       "/* On hover, darken the color of the background */\n",
       "#sk-container-id-4 div.sk-label:hover label.sk-toggleable__label {\n",
       "  color: var(--sklearn-color-text);\n",
       "  background-color: var(--sklearn-color-unfitted-level-2);\n",
       "}\n",
       "\n",
       "/* Label box, darken color on hover, fitted */\n",
       "#sk-container-id-4 div.sk-label.fitted:hover label.sk-toggleable__label.fitted {\n",
       "  color: var(--sklearn-color-text);\n",
       "  background-color: var(--sklearn-color-fitted-level-2);\n",
       "}\n",
       "\n",
       "/* Estimator label */\n",
       "\n",
       "#sk-container-id-4 div.sk-label label {\n",
       "  font-family: monospace;\n",
       "  font-weight: bold;\n",
       "  display: inline-block;\n",
       "  line-height: 1.2em;\n",
       "}\n",
       "\n",
       "#sk-container-id-4 div.sk-label-container {\n",
       "  text-align: center;\n",
       "}\n",
       "\n",
       "/* Estimator-specific */\n",
       "#sk-container-id-4 div.sk-estimator {\n",
       "  font-family: monospace;\n",
       "  border: 1px dotted var(--sklearn-color-border-box);\n",
       "  border-radius: 0.25em;\n",
       "  box-sizing: border-box;\n",
       "  margin-bottom: 0.5em;\n",
       "  /* unfitted */\n",
       "  background-color: var(--sklearn-color-unfitted-level-0);\n",
       "}\n",
       "\n",
       "#sk-container-id-4 div.sk-estimator.fitted {\n",
       "  /* fitted */\n",
       "  background-color: var(--sklearn-color-fitted-level-0);\n",
       "}\n",
       "\n",
       "/* on hover */\n",
       "#sk-container-id-4 div.sk-estimator:hover {\n",
       "  /* unfitted */\n",
       "  background-color: var(--sklearn-color-unfitted-level-2);\n",
       "}\n",
       "\n",
       "#sk-container-id-4 div.sk-estimator.fitted:hover {\n",
       "  /* fitted */\n",
       "  background-color: var(--sklearn-color-fitted-level-2);\n",
       "}\n",
       "\n",
       "/* Specification for estimator info (e.g. \"i\" and \"?\") */\n",
       "\n",
       "/* Common style for \"i\" and \"?\" */\n",
       "\n",
       ".sk-estimator-doc-link,\n",
       "a:link.sk-estimator-doc-link,\n",
       "a:visited.sk-estimator-doc-link {\n",
       "  float: right;\n",
       "  font-size: smaller;\n",
       "  line-height: 1em;\n",
       "  font-family: monospace;\n",
       "  background-color: var(--sklearn-color-background);\n",
       "  border-radius: 1em;\n",
       "  height: 1em;\n",
       "  width: 1em;\n",
       "  text-decoration: none !important;\n",
       "  margin-left: 1ex;\n",
       "  /* unfitted */\n",
       "  border: var(--sklearn-color-unfitted-level-1) 1pt solid;\n",
       "  color: var(--sklearn-color-unfitted-level-1);\n",
       "}\n",
       "\n",
       ".sk-estimator-doc-link.fitted,\n",
       "a:link.sk-estimator-doc-link.fitted,\n",
       "a:visited.sk-estimator-doc-link.fitted {\n",
       "  /* fitted */\n",
       "  border: var(--sklearn-color-fitted-level-1) 1pt solid;\n",
       "  color: var(--sklearn-color-fitted-level-1);\n",
       "}\n",
       "\n",
       "/* On hover */\n",
       "div.sk-estimator:hover .sk-estimator-doc-link:hover,\n",
       ".sk-estimator-doc-link:hover,\n",
       "div.sk-label-container:hover .sk-estimator-doc-link:hover,\n",
       ".sk-estimator-doc-link:hover {\n",
       "  /* unfitted */\n",
       "  background-color: var(--sklearn-color-unfitted-level-3);\n",
       "  color: var(--sklearn-color-background);\n",
       "  text-decoration: none;\n",
       "}\n",
       "\n",
       "div.sk-estimator.fitted:hover .sk-estimator-doc-link.fitted:hover,\n",
       ".sk-estimator-doc-link.fitted:hover,\n",
       "div.sk-label-container:hover .sk-estimator-doc-link.fitted:hover,\n",
       ".sk-estimator-doc-link.fitted:hover {\n",
       "  /* fitted */\n",
       "  background-color: var(--sklearn-color-fitted-level-3);\n",
       "  color: var(--sklearn-color-background);\n",
       "  text-decoration: none;\n",
       "}\n",
       "\n",
       "/* Span, style for the box shown on hovering the info icon */\n",
       ".sk-estimator-doc-link span {\n",
       "  display: none;\n",
       "  z-index: 9999;\n",
       "  position: relative;\n",
       "  font-weight: normal;\n",
       "  right: .2ex;\n",
       "  padding: .5ex;\n",
       "  margin: .5ex;\n",
       "  width: min-content;\n",
       "  min-width: 20ex;\n",
       "  max-width: 50ex;\n",
       "  color: var(--sklearn-color-text);\n",
       "  box-shadow: 2pt 2pt 4pt #999;\n",
       "  /* unfitted */\n",
       "  background: var(--sklearn-color-unfitted-level-0);\n",
       "  border: .5pt solid var(--sklearn-color-unfitted-level-3);\n",
       "}\n",
       "\n",
       ".sk-estimator-doc-link.fitted span {\n",
       "  /* fitted */\n",
       "  background: var(--sklearn-color-fitted-level-0);\n",
       "  border: var(--sklearn-color-fitted-level-3);\n",
       "}\n",
       "\n",
       ".sk-estimator-doc-link:hover span {\n",
       "  display: block;\n",
       "}\n",
       "\n",
       "/* \"?\"-specific style due to the `<a>` HTML tag */\n",
       "\n",
       "#sk-container-id-4 a.estimator_doc_link {\n",
       "  float: right;\n",
       "  font-size: 1rem;\n",
       "  line-height: 1em;\n",
       "  font-family: monospace;\n",
       "  background-color: var(--sklearn-color-background);\n",
       "  border-radius: 1rem;\n",
       "  height: 1rem;\n",
       "  width: 1rem;\n",
       "  text-decoration: none;\n",
       "  /* unfitted */\n",
       "  color: var(--sklearn-color-unfitted-level-1);\n",
       "  border: var(--sklearn-color-unfitted-level-1) 1pt solid;\n",
       "}\n",
       "\n",
       "#sk-container-id-4 a.estimator_doc_link.fitted {\n",
       "  /* fitted */\n",
       "  border: var(--sklearn-color-fitted-level-1) 1pt solid;\n",
       "  color: var(--sklearn-color-fitted-level-1);\n",
       "}\n",
       "\n",
       "/* On hover */\n",
       "#sk-container-id-4 a.estimator_doc_link:hover {\n",
       "  /* unfitted */\n",
       "  background-color: var(--sklearn-color-unfitted-level-3);\n",
       "  color: var(--sklearn-color-background);\n",
       "  text-decoration: none;\n",
       "}\n",
       "\n",
       "#sk-container-id-4 a.estimator_doc_link.fitted:hover {\n",
       "  /* fitted */\n",
       "  background-color: var(--sklearn-color-fitted-level-3);\n",
       "}\n",
       "</style><div id=\"sk-container-id-4\" class=\"sk-top-container\"><div class=\"sk-text-repr-fallback\"><pre>DecisionTreeClassifier(random_state=1)</pre><b>In a Jupyter environment, please rerun this cell to show the HTML representation or trust the notebook. <br />On GitHub, the HTML representation is unable to render, please try loading this page with nbviewer.org.</b></div><div class=\"sk-container\" hidden><div class=\"sk-item\"><div class=\"sk-estimator fitted sk-toggleable\"><input class=\"sk-toggleable__control sk-hidden--visually\" id=\"sk-estimator-id-4\" type=\"checkbox\" checked><label for=\"sk-estimator-id-4\" class=\"sk-toggleable__label fitted sk-toggleable__label-arrow fitted\">&nbsp;&nbsp;DecisionTreeClassifier<a class=\"sk-estimator-doc-link fitted\" rel=\"noreferrer\" target=\"_blank\" href=\"https://scikit-learn.org/1.4/modules/generated/sklearn.tree.DecisionTreeClassifier.html\">?<span>Documentation for DecisionTreeClassifier</span></a><span class=\"sk-estimator-doc-link fitted\">i<span>Fitted</span></span></label><div class=\"sk-toggleable__content fitted\"><pre>DecisionTreeClassifier(random_state=1)</pre></div> </div></div></div></div>"
      ],
      "text/plain": [
       "DecisionTreeClassifier(random_state=1)"
      ]
     },
     "execution_count": 68,
     "metadata": {},
     "output_type": "execute_result"
    }
   ],
   "source": [
    "# Creating an instance of DecisionTreeClassifier and trianing the model\n",
    "# Experimentation\n",
    "\n",
    "max_accuracy = 0   \n",
    "for i in range(500):\n",
    "    clf = DecisionTreeClassifier(random_state = i)\n",
    "    clf.fit(train_x, train_y)\n",
    "    pred = clf.predict(test_x)\n",
    "    current_accuracy = round(accuracy_score(pred, test_y)*100,2)\n",
    "    if(current_accuracy > max_accuracy):\n",
    "        max_accuracy = current_accuracy\n",
    "        best_random_state = i\n",
    "\n",
    "# print(\"Best Random State: \", best_random_state)\n",
    "# print(\"Best Accuracy: \", max_accuracy)\n",
    "\n",
    "clf = DecisionTreeClassifier(random_state = best_random_state)\n",
    "clf.fit(train_x, train_y)"
   ]
  },
  {
   "cell_type": "code",
   "execution_count": 69,
   "metadata": {},
   "outputs": [
    {
     "data": {
      "text/plain": [
       "[Text(0.49027777777777776, 0.9444444444444444, 'x[2] <= 0.5\\ngini = 0.496\\nsamples = 242\\nvalue = [110, 132]'),\n",
       " Text(0.2777777777777778, 0.8333333333333334, 'x[11] <= 0.5\\ngini = 0.373\\nsamples = 113\\nvalue = [85, 28]'),\n",
       " Text(0.2, 0.7222222222222222, 'x[12] <= 2.5\\ngini = 0.498\\nsamples = 51\\nvalue = [24, 27]'),\n",
       " Text(0.1111111111111111, 0.6111111111111112, 'x[8] <= 0.5\\ngini = 0.358\\nsamples = 30\\nvalue = [7, 23]'),\n",
       " Text(0.044444444444444446, 0.5, 'x[4] <= 316.5\\ngini = 0.1\\nsamples = 19\\nvalue = [1, 18]'),\n",
       " Text(0.022222222222222223, 0.3888888888888889, 'gini = 0.0\\nsamples = 17\\nvalue = [0, 17]'),\n",
       " Text(0.06666666666666667, 0.3888888888888889, 'x[10] <= 1.5\\ngini = 0.5\\nsamples = 2\\nvalue = [1, 1]'),\n",
       " Text(0.044444444444444446, 0.2777777777777778, 'gini = 0.0\\nsamples = 1\\nvalue = [0, 1]'),\n",
       " Text(0.08888888888888889, 0.2777777777777778, 'gini = 0.0\\nsamples = 1\\nvalue = [1, 0]'),\n",
       " Text(0.17777777777777778, 0.5, 'x[10] <= 1.5\\ngini = 0.496\\nsamples = 11\\nvalue = [6, 5]'),\n",
       " Text(0.15555555555555556, 0.3888888888888889, 'x[3] <= 115.0\\ngini = 0.375\\nsamples = 8\\nvalue = [6, 2]'),\n",
       " Text(0.13333333333333333, 0.2777777777777778, 'gini = 0.0\\nsamples = 1\\nvalue = [0, 1]'),\n",
       " Text(0.17777777777777778, 0.2777777777777778, 'x[6] <= 0.5\\ngini = 0.245\\nsamples = 7\\nvalue = [6, 1]'),\n",
       " Text(0.15555555555555556, 0.16666666666666666, 'gini = 0.0\\nsamples = 1\\nvalue = [0, 1]'),\n",
       " Text(0.2, 0.16666666666666666, 'gini = 0.0\\nsamples = 6\\nvalue = [6, 0]'),\n",
       " Text(0.2, 0.3888888888888889, 'gini = 0.0\\nsamples = 3\\nvalue = [0, 3]'),\n",
       " Text(0.28888888888888886, 0.6111111111111112, 'x[9] <= 0.65\\ngini = 0.308\\nsamples = 21\\nvalue = [17, 4]'),\n",
       " Text(0.26666666666666666, 0.5, 'x[0] <= 42.0\\ngini = 0.5\\nsamples = 8\\nvalue = [4, 4]'),\n",
       " Text(0.24444444444444444, 0.3888888888888889, 'gini = 0.0\\nsamples = 3\\nvalue = [3, 0]'),\n",
       " Text(0.28888888888888886, 0.3888888888888889, 'x[4] <= 254.0\\ngini = 0.32\\nsamples = 5\\nvalue = [1, 4]'),\n",
       " Text(0.26666666666666666, 0.2777777777777778, 'gini = 0.0\\nsamples = 4\\nvalue = [0, 4]'),\n",
       " Text(0.3111111111111111, 0.2777777777777778, 'gini = 0.0\\nsamples = 1\\nvalue = [1, 0]'),\n",
       " Text(0.3111111111111111, 0.5, 'gini = 0.0\\nsamples = 13\\nvalue = [13, 0]'),\n",
       " Text(0.35555555555555557, 0.7222222222222222, 'x[4] <= 301.5\\ngini = 0.032\\nsamples = 62\\nvalue = [61, 1]'),\n",
       " Text(0.3333333333333333, 0.6111111111111112, 'gini = 0.0\\nsamples = 53\\nvalue = [53, 0]'),\n",
       " Text(0.37777777777777777, 0.6111111111111112, 'x[4] <= 303.5\\ngini = 0.198\\nsamples = 9\\nvalue = [8, 1]'),\n",
       " Text(0.35555555555555557, 0.5, 'gini = 0.0\\nsamples = 1\\nvalue = [0, 1]'),\n",
       " Text(0.4, 0.5, 'gini = 0.0\\nsamples = 8\\nvalue = [8, 0]'),\n",
       " Text(0.7027777777777777, 0.8333333333333334, 'x[12] <= 2.5\\ngini = 0.312\\nsamples = 129\\nvalue = [25, 104]'),\n",
       " Text(0.55, 0.7222222222222222, 'x[0] <= 55.5\\ngini = 0.211\\nsamples = 100\\nvalue = [12, 88]'),\n",
       " Text(0.4666666666666667, 0.6111111111111112, 'x[3] <= 109.0\\ngini = 0.032\\nsamples = 61\\nvalue = [1, 60]'),\n",
       " Text(0.4444444444444444, 0.5, 'x[4] <= 232.5\\ngini = 0.245\\nsamples = 7\\nvalue = [1, 6]'),\n",
       " Text(0.4222222222222222, 0.3888888888888889, 'gini = 0.0\\nsamples = 5\\nvalue = [0, 5]'),\n",
       " Text(0.4666666666666667, 0.3888888888888889, 'x[1] <= 0.5\\ngini = 0.5\\nsamples = 2\\nvalue = [1, 1]'),\n",
       " Text(0.4444444444444444, 0.2777777777777778, 'gini = 0.0\\nsamples = 1\\nvalue = [0, 1]'),\n",
       " Text(0.4888888888888889, 0.2777777777777778, 'gini = 0.0\\nsamples = 1\\nvalue = [1, 0]'),\n",
       " Text(0.4888888888888889, 0.5, 'gini = 0.0\\nsamples = 54\\nvalue = [0, 54]'),\n",
       " Text(0.6333333333333333, 0.6111111111111112, 'x[1] <= 0.5\\ngini = 0.405\\nsamples = 39\\nvalue = [11, 28]'),\n",
       " Text(0.5777777777777777, 0.5, 'x[0] <= 59.0\\ngini = 0.18\\nsamples = 20\\nvalue = [2, 18]'),\n",
       " Text(0.5555555555555556, 0.3888888888888889, 'x[11] <= 0.5\\ngini = 0.48\\nsamples = 5\\nvalue = [2, 3]'),\n",
       " Text(0.5333333333333333, 0.2777777777777778, 'gini = 0.0\\nsamples = 3\\nvalue = [0, 3]'),\n",
       " Text(0.5777777777777777, 0.2777777777777778, 'gini = 0.0\\nsamples = 2\\nvalue = [2, 0]'),\n",
       " Text(0.6, 0.3888888888888889, 'gini = 0.0\\nsamples = 15\\nvalue = [0, 15]'),\n",
       " Text(0.6888888888888889, 0.5, 'x[4] <= 244.5\\ngini = 0.499\\nsamples = 19\\nvalue = [9, 10]'),\n",
       " Text(0.6666666666666666, 0.3888888888888889, 'x[11] <= 0.5\\ngini = 0.408\\nsamples = 14\\nvalue = [4, 10]'),\n",
       " Text(0.6222222222222222, 0.2777777777777778, 'x[9] <= 2.65\\ngini = 0.18\\nsamples = 10\\nvalue = [1, 9]'),\n",
       " Text(0.6, 0.16666666666666666, 'gini = 0.0\\nsamples = 9\\nvalue = [0, 9]'),\n",
       " Text(0.6444444444444445, 0.16666666666666666, 'gini = 0.0\\nsamples = 1\\nvalue = [1, 0]'),\n",
       " Text(0.7111111111111111, 0.2777777777777778, 'x[3] <= 157.0\\ngini = 0.375\\nsamples = 4\\nvalue = [3, 1]'),\n",
       " Text(0.6888888888888889, 0.16666666666666666, 'gini = 0.0\\nsamples = 3\\nvalue = [3, 0]'),\n",
       " Text(0.7333333333333333, 0.16666666666666666, 'gini = 0.0\\nsamples = 1\\nvalue = [0, 1]'),\n",
       " Text(0.7111111111111111, 0.3888888888888889, 'gini = 0.0\\nsamples = 5\\nvalue = [5, 0]'),\n",
       " Text(0.8555555555555555, 0.7222222222222222, 'x[7] <= 132.5\\ngini = 0.495\\nsamples = 29\\nvalue = [13, 16]'),\n",
       " Text(0.8333333333333334, 0.6111111111111112, 'gini = 0.0\\nsamples = 3\\nvalue = [3, 0]'),\n",
       " Text(0.8777777777777778, 0.6111111111111112, 'x[11] <= 0.5\\ngini = 0.473\\nsamples = 26\\nvalue = [10, 16]'),\n",
       " Text(0.8222222222222222, 0.5, 'x[0] <= 39.0\\ngini = 0.36\\nsamples = 17\\nvalue = [4, 13]'),\n",
       " Text(0.8, 0.3888888888888889, 'gini = 0.0\\nsamples = 1\\nvalue = [1, 0]'),\n",
       " Text(0.8444444444444444, 0.3888888888888889, 'x[7] <= 152.0\\ngini = 0.305\\nsamples = 16\\nvalue = [3, 13]'),\n",
       " Text(0.8, 0.2777777777777778, 'x[4] <= 265.5\\ngini = 0.48\\nsamples = 5\\nvalue = [2, 3]'),\n",
       " Text(0.7777777777777778, 0.16666666666666666, 'x[3] <= 122.0\\ngini = 0.444\\nsamples = 3\\nvalue = [2, 1]'),\n",
       " Text(0.7555555555555555, 0.05555555555555555, 'gini = 0.0\\nsamples = 1\\nvalue = [0, 1]'),\n",
       " Text(0.8, 0.05555555555555555, 'gini = 0.0\\nsamples = 2\\nvalue = [2, 0]'),\n",
       " Text(0.8222222222222222, 0.16666666666666666, 'gini = 0.0\\nsamples = 2\\nvalue = [0, 2]'),\n",
       " Text(0.8888888888888888, 0.2777777777777778, 'x[10] <= 0.5\\ngini = 0.165\\nsamples = 11\\nvalue = [1, 10]'),\n",
       " Text(0.8666666666666667, 0.16666666666666666, 'x[2] <= 1.5\\ngini = 0.5\\nsamples = 2\\nvalue = [1, 1]'),\n",
       " Text(0.8444444444444444, 0.05555555555555555, 'gini = 0.0\\nsamples = 1\\nvalue = [1, 0]'),\n",
       " Text(0.8888888888888888, 0.05555555555555555, 'gini = 0.0\\nsamples = 1\\nvalue = [0, 1]'),\n",
       " Text(0.9111111111111111, 0.16666666666666666, 'gini = 0.0\\nsamples = 9\\nvalue = [0, 9]'),\n",
       " Text(0.9333333333333333, 0.5, 'x[6] <= 0.5\\ngini = 0.444\\nsamples = 9\\nvalue = [6, 3]'),\n",
       " Text(0.9111111111111111, 0.3888888888888889, 'gini = 0.0\\nsamples = 5\\nvalue = [5, 0]'),\n",
       " Text(0.9555555555555556, 0.3888888888888889, 'x[0] <= 50.5\\ngini = 0.375\\nsamples = 4\\nvalue = [1, 3]'),\n",
       " Text(0.9333333333333333, 0.2777777777777778, 'gini = 0.0\\nsamples = 1\\nvalue = [1, 0]'),\n",
       " Text(0.9777777777777777, 0.2777777777777778, 'gini = 0.0\\nsamples = 3\\nvalue = [0, 3]')]"
      ]
     },
     "execution_count": 69,
     "metadata": {},
     "output_type": "execute_result"
    },
    {
     "data": {
      "image/png": "[encoded data removed]",
      "text/plain": [
       "<Figure size 640x480 with 1 Axes>"
      ]
     },
     "metadata": {},
     "output_type": "display_data"
    }
   ],
   "source": [
    "tree.plot_tree(clf)"
   ]
  },
  {
   "cell_type": "markdown",
   "metadata": {},
   "source": [
    "### Model Evaluation"
   ]
  },
  {
   "cell_type": "code",
   "execution_count": 70,
   "metadata": {},
   "outputs": [],
   "source": [
    "# Accuracy on training data\n",
    "\n",
    "decision_train_vals = clf.predict(train_x)\n",
    "decision_train_accuracy = accuracy_score(decision_train_vals, train_y)"
   ]
  },
  {
   "cell_type": "code",
   "execution_count": 71,
   "metadata": {},
   "outputs": [
    {
     "name": "stdout",
     "output_type": "stream",
     "text": [
      "Accuracy for training data:  100.0\n"
     ]
    }
   ],
   "source": [
    "print(\"Accuracy for training data: \" , round(decision_train_accuracy*100, 2))"
   ]
  },
  {
   "cell_type": "code",
   "execution_count": 72,
   "metadata": {},
   "outputs": [],
   "source": [
    "# Accuracy on testing data\n",
    "\n",
    "decision_test_vals = clf.predict(test_x)\n",
    "decision_test_accuracy = accuracy_score(decision_test_vals, test_y)"
   ]
  },
  {
   "cell_type": "code",
   "execution_count": 73,
   "metadata": {},
   "outputs": [
    {
     "name": "stdout",
     "output_type": "stream",
     "text": [
      "Accuracy for testing data:  83.61\n"
     ]
    }
   ],
   "source": [
    "print(\"Accuracy for testing data: \" , round(decision_test_accuracy*100, 2))"
   ]
  },
  {
   "cell_type": "markdown",
   "metadata": {},
   "source": [
    "###"
   ]
  },
  {
   "cell_type": "markdown",
   "metadata": {},
   "source": [
    "### Random Forest"
   ]
  },
  {
   "cell_type": "markdown",
   "metadata": {},
   "source": [
    "- No overfitting\n",
    "- Less training time i.e. Predicts things that we don't want to predict\n",
    "- High accuracy\n",
    "- Estimates missing data"
   ]
  },
  {
   "cell_type": "markdown",
   "metadata": {},
   "source": [
    "- More than 1 decision trees are used and the final decision is made by the majority of the trees"
   ]
  },
  {
   "cell_type": "markdown",
   "metadata": {},
   "source": [
    "- Entropy: Measure of randomness or uncertainty\n",
    "- Information Gain: Measure of decrease in entropy after a dataset is split\n",
    "- leaf nodes: no further split\n",
    "- root node: first node\n",
    "- decision node: node that has children\n"
   ]
  },
  {
   "cell_type": "code",
   "execution_count": 74,
   "metadata": {},
   "outputs": [
    {
     "data": {
      "text/html": [
       "<style>#sk-container-id-5 {\n",
       "  /* Definition of color scheme common for light and dark mode */\n",
       "  --sklearn-color-text: black;\n",
       "  --sklearn-color-line: gray;\n",
       "  /* Definition of color scheme for unfitted estimators */\n",
       "  --sklearn-color-unfitted-level-0: #fff5e6;\n",
       "  --sklearn-color-unfitted-level-1: #f6e4d2;\n",
       "  --sklearn-color-unfitted-level-2: #ffe0b3;\n",
       "  --sklearn-color-unfitted-level-3: chocolate;\n",
       "  /* Definition of color scheme for fitted estimators */\n",
       "  --sklearn-color-fitted-level-0: #f0f8ff;\n",
       "  --sklearn-color-fitted-level-1: #d4ebff;\n",
       "  --sklearn-color-fitted-level-2: #b3dbfd;\n",
       "  --sklearn-color-fitted-level-3: cornflowerblue;\n",
       "\n",
       "  /* Specific color for light theme */\n",
       "  --sklearn-color-text-on-default-background: var(--sg-text-color, var(--theme-code-foreground, var(--jp-content-font-color1, black)));\n",
       "  --sklearn-color-background: var(--sg-background-color, var(--theme-background, var(--jp-layout-color0, white)));\n",
       "  --sklearn-color-border-box: var(--sg-text-color, var(--theme-code-foreground, var(--jp-content-font-color1, black)));\n",
       "  --sklearn-color-icon: #696969;\n",
       "\n",
       "  @media (prefers-color-scheme: dark) {\n",
       "    /* Redefinition of color scheme for dark theme */\n",
       "    --sklearn-color-text-on-default-background: var(--sg-text-color, var(--theme-code-foreground, var(--jp-content-font-color1, white)));\n",
       "    --sklearn-color-background: var(--sg-background-color, var(--theme-background, var(--jp-layout-color0, #111)));\n",
       "    --sklearn-color-border-box: var(--sg-text-color, var(--theme-code-foreground, var(--jp-content-font-color1, white)));\n",
       "    --sklearn-color-icon: #878787;\n",
       "  }\n",
       "}\n",
       "\n",
       "#sk-container-id-5 {\n",
       "  color: var(--sklearn-color-text);\n",
       "}\n",
       "\n",
       "#sk-container-id-5 pre {\n",
       "  padding: 0;\n",
       "}\n",
       "\n",
       "#sk-container-id-5 input.sk-hidden--visually {\n",
       "  border: 0;\n",
       "  clip: rect(1px 1px 1px 1px);\n",
       "  clip: rect(1px, 1px, 1px, 1px);\n",
       "  height: 1px;\n",
       "  margin: -1px;\n",
       "  overflow: hidden;\n",
       "  padding: 0;\n",
       "  position: absolute;\n",
       "  width: 1px;\n",
       "}\n",
       "\n",
       "#sk-container-id-5 div.sk-dashed-wrapped {\n",
       "  border: 1px dashed var(--sklearn-color-line);\n",
       "  margin: 0 0.4em 0.5em 0.4em;\n",
       "  box-sizing: border-box;\n",
       "  padding-bottom: 0.4em;\n",
       "  background-color: var(--sklearn-color-background);\n",
       "}\n",
       "\n",
       "#sk-container-id-5 div.sk-container {\n",
       "  /* jupyter's `normalize.less` sets `[hidden] { display: none; }`\n",
       "     but bootstrap.min.css set `[hidden] { display: none !important; }`\n",
       "     so we also need the `!important` here to be able to override the\n",
       "     default hidden behavior on the sphinx rendered scikit-learn.org.\n",
       "     See: https://github.com/scikit-learn/scikit-learn/issues/21755 */\n",
       "  display: inline-block !important;\n",
       "  position: relative;\n",
       "}\n",
       "\n",
       "#sk-container-id-5 div.sk-text-repr-fallback {\n",
       "  display: none;\n",
       "}\n",
       "\n",
       "div.sk-parallel-item,\n",
       "div.sk-serial,\n",
       "div.sk-item {\n",
       "  /* draw centered vertical line to link estimators */\n",
       "  background-image: linear-gradient(var(--sklearn-color-text-on-default-background), var(--sklearn-color-text-on-default-background));\n",
       "  background-size: 2px 100%;\n",
       "  background-repeat: no-repeat;\n",
       "  background-position: center center;\n",
       "}\n",
       "\n",
       "/* Parallel-specific style estimator block */\n",
       "\n",
       "#sk-container-id-5 div.sk-parallel-item::after {\n",
       "  content: \"\";\n",
       "  width: 100%;\n",
       "  border-bottom: 2px solid var(--sklearn-color-text-on-default-background);\n",
       "  flex-grow: 1;\n",
       "}\n",
       "\n",
       "#sk-container-id-5 div.sk-parallel {\n",
       "  display: flex;\n",
       "  align-items: stretch;\n",
       "  justify-content: center;\n",
       "  background-color: var(--sklearn-color-background);\n",
       "  position: relative;\n",
       "}\n",
       "\n",
       "#sk-container-id-5 div.sk-parallel-item {\n",
       "  display: flex;\n",
       "  flex-direction: column;\n",
       "}\n",
       "\n",
       "#sk-container-id-5 div.sk-parallel-item:first-child::after {\n",
       "  align-self: flex-end;\n",
       "  width: 50%;\n",
       "}\n",
       "\n",
       "#sk-container-id-5 div.sk-parallel-item:last-child::after {\n",
       "  align-self: flex-start;\n",
       "  width: 50%;\n",
       "}\n",
       "\n",
       "#sk-container-id-5 div.sk-parallel-item:only-child::after {\n",
       "  width: 0;\n",
       "}\n",
       "\n",
       "/* Serial-specific style estimator block */\n",
       "\n",
       "#sk-container-id-5 div.sk-serial {\n",
       "  display: flex;\n",
       "  flex-direction: column;\n",
       "  align-items: center;\n",
       "  background-color: var(--sklearn-color-background);\n",
       "  padding-right: 1em;\n",
       "  padding-left: 1em;\n",
       "}\n",
       "\n",
       "\n",
       "/* Toggleable style: style used for estimator/Pipeline/ColumnTransformer box that is\n",
       "clickable and can be expanded/collapsed.\n",
       "- Pipeline and ColumnTransformer use this feature and define the default style\n",
       "- Estimators will overwrite some part of the style using the `sk-estimator` class\n",
       "*/\n",
       "\n",
       "/* Pipeline and ColumnTransformer style (default) */\n",
       "\n",
       "#sk-container-id-5 div.sk-toggleable {\n",
       "  /* Default theme specific background. It is overwritten whether we have a\n",
       "  specific estimator or a Pipeline/ColumnTransformer */\n",
       "  background-color: var(--sklearn-color-background);\n",
       "}\n",
       "\n",
       "/* Toggleable label */\n",
       "#sk-container-id-5 label.sk-toggleable__label {\n",
       "  cursor: pointer;\n",
       "  display: block;\n",
       "  width: 100%;\n",
       "  margin-bottom: 0;\n",
       "  padding: 0.5em;\n",
       "  box-sizing: border-box;\n",
       "  text-align: center;\n",
       "}\n",
       "\n",
       "#sk-container-id-5 label.sk-toggleable__label-arrow:before {\n",
       "  /* Arrow on the left of the label */\n",
       "  content: \"▸\";\n",
       "  float: left;\n",
       "  margin-right: 0.25em;\n",
       "  color: var(--sklearn-color-icon);\n",
       "}\n",
       "\n",
       "#sk-container-id-5 label.sk-toggleable__label-arrow:hover:before {\n",
       "  color: var(--sklearn-color-text);\n",
       "}\n",
       "\n",
       "/* Toggleable content - dropdown */\n",
       "\n",
       "#sk-container-id-5 div.sk-toggleable__content {\n",
       "  max-height: 0;\n",
       "  max-width: 0;\n",
       "  overflow: hidden;\n",
       "  text-align: left;\n",
       "  /* unfitted */\n",
       "  background-color: var(--sklearn-color-unfitted-level-0);\n",
       "}\n",
       "\n",
       "#sk-container-id-5 div.sk-toggleable__content.fitted {\n",
       "  /* fitted */\n",
       "  background-color: var(--sklearn-color-fitted-level-0);\n",
       "}\n",
       "\n",
       "#sk-container-id-5 div.sk-toggleable__content pre {\n",
       "  margin: 0.2em;\n",
       "  border-radius: 0.25em;\n",
       "  color: var(--sklearn-color-text);\n",
       "  /* unfitted */\n",
       "  background-color: var(--sklearn-color-unfitted-level-0);\n",
       "}\n",
       "\n",
       "#sk-container-id-5 div.sk-toggleable__content.fitted pre {\n",
       "  /* unfitted */\n",
       "  background-color: var(--sklearn-color-fitted-level-0);\n",
       "}\n",
       "\n",
       "#sk-container-id-5 input.sk-toggleable__control:checked~div.sk-toggleable__content {\n",
       "  /* Expand drop-down */\n",
       "  max-height: 200px;\n",
       "  max-width: 100%;\n",
       "  overflow: auto;\n",
       "}\n",
       "\n",
       "#sk-container-id-5 input.sk-toggleable__control:checked~label.sk-toggleable__label-arrow:before {\n",
       "  content: \"▾\";\n",
       "}\n",
       "\n",
       "/* Pipeline/ColumnTransformer-specific style */\n",
       "\n",
       "#sk-container-id-5 div.sk-label input.sk-toggleable__control:checked~label.sk-toggleable__label {\n",
       "  color: var(--sklearn-color-text);\n",
       "  background-color: var(--sklearn-color-unfitted-level-2);\n",
       "}\n",
       "\n",
       "#sk-container-id-5 div.sk-label.fitted input.sk-toggleable__control:checked~label.sk-toggleable__label {\n",
       "  background-color: var(--sklearn-color-fitted-level-2);\n",
       "}\n",
       "\n",
       "/* Estimator-specific style */\n",
       "\n",
       "/* Colorize estimator box */\n",
       "#sk-container-id-5 div.sk-estimator input.sk-toggleable__control:checked~label.sk-toggleable__label {\n",
       "  /* unfitted */\n",
       "  background-color: var(--sklearn-color-unfitted-level-2);\n",
       "}\n",
       "\n",
       "#sk-container-id-5 div.sk-estimator.fitted input.sk-toggleable__control:checked~label.sk-toggleable__label {\n",
       "  /* fitted */\n",
       "  background-color: var(--sklearn-color-fitted-level-2);\n",
       "}\n",
       "\n",
       "#sk-container-id-5 div.sk-label label.sk-toggleable__label,\n",
       "#sk-container-id-5 div.sk-label label {\n",
       "  /* The background is the default theme color */\n",
       "  color: var(--sklearn-color-text-on-default-background);\n",
       "}\n",
       "\n",
       "/* On hover, darken the color of the background */\n",
       "#sk-container-id-5 div.sk-label:hover label.sk-toggleable__label {\n",
       "  color: var(--sklearn-color-text);\n",
       "  background-color: var(--sklearn-color-unfitted-level-2);\n",
       "}\n",
       "\n",
       "/* Label box, darken color on hover, fitted */\n",
       "#sk-container-id-5 div.sk-label.fitted:hover label.sk-toggleable__label.fitted {\n",
       "  color: var(--sklearn-color-text);\n",
       "  background-color: var(--sklearn-color-fitted-level-2);\n",
       "}\n",
       "\n",
       "/* Estimator label */\n",
       "\n",
       "#sk-container-id-5 div.sk-label label {\n",
       "  font-family: monospace;\n",
       "  font-weight: bold;\n",
       "  display: inline-block;\n",
       "  line-height: 1.2em;\n",
       "}\n",
       "\n",
       "#sk-container-id-5 div.sk-label-container {\n",
       "  text-align: center;\n",
       "}\n",
       "\n",
       "/* Estimator-specific */\n",
       "#sk-container-id-5 div.sk-estimator {\n",
       "  font-family: monospace;\n",
       "  border: 1px dotted var(--sklearn-color-border-box);\n",
       "  border-radius: 0.25em;\n",
       "  box-sizing: border-box;\n",
       "  margin-bottom: 0.5em;\n",
       "  /* unfitted */\n",
       "  background-color: var(--sklearn-color-unfitted-level-0);\n",
       "}\n",
       "\n",
       "#sk-container-id-5 div.sk-estimator.fitted {\n",
       "  /* fitted */\n",
       "  background-color: var(--sklearn-color-fitted-level-0);\n",
       "}\n",
       "\n",
       "/* on hover */\n",
       "#sk-container-id-5 div.sk-estimator:hover {\n",
       "  /* unfitted */\n",
       "  background-color: var(--sklearn-color-unfitted-level-2);\n",
       "}\n",
       "\n",
       "#sk-container-id-5 div.sk-estimator.fitted:hover {\n",
       "  /* fitted */\n",
       "  background-color: var(--sklearn-color-fitted-level-2);\n",
       "}\n",
       "\n",
       "/* Specification for estimator info (e.g. \"i\" and \"?\") */\n",
       "\n",
       "/* Common style for \"i\" and \"?\" */\n",
       "\n",
       ".sk-estimator-doc-link,\n",
       "a:link.sk-estimator-doc-link,\n",
       "a:visited.sk-estimator-doc-link {\n",
       "  float: right;\n",
       "  font-size: smaller;\n",
       "  line-height: 1em;\n",
       "  font-family: monospace;\n",
       "  background-color: var(--sklearn-color-background);\n",
       "  border-radius: 1em;\n",
       "  height: 1em;\n",
       "  width: 1em;\n",
       "  text-decoration: none !important;\n",
       "  margin-left: 1ex;\n",
       "  /* unfitted */\n",
       "  border: var(--sklearn-color-unfitted-level-1) 1pt solid;\n",
       "  color: var(--sklearn-color-unfitted-level-1);\n",
       "}\n",
       "\n",
       ".sk-estimator-doc-link.fitted,\n",
       "a:link.sk-estimator-doc-link.fitted,\n",
       "a:visited.sk-estimator-doc-link.fitted {\n",
       "  /* fitted */\n",
       "  border: var(--sklearn-color-fitted-level-1) 1pt solid;\n",
       "  color: var(--sklearn-color-fitted-level-1);\n",
       "}\n",
       "\n",
       "/* On hover */\n",
       "div.sk-estimator:hover .sk-estimator-doc-link:hover,\n",
       ".sk-estimator-doc-link:hover,\n",
       "div.sk-label-container:hover .sk-estimator-doc-link:hover,\n",
       ".sk-estimator-doc-link:hover {\n",
       "  /* unfitted */\n",
       "  background-color: var(--sklearn-color-unfitted-level-3);\n",
       "  color: var(--sklearn-color-background);\n",
       "  text-decoration: none;\n",
       "}\n",
       "\n",
       "div.sk-estimator.fitted:hover .sk-estimator-doc-link.fitted:hover,\n",
       ".sk-estimator-doc-link.fitted:hover,\n",
       "div.sk-label-container:hover .sk-estimator-doc-link.fitted:hover,\n",
       ".sk-estimator-doc-link.fitted:hover {\n",
       "  /* fitted */\n",
       "  background-color: var(--sklearn-color-fitted-level-3);\n",
       "  color: var(--sklearn-color-background);\n",
       "  text-decoration: none;\n",
       "}\n",
       "\n",
       "/* Span, style for the box shown on hovering the info icon */\n",
       ".sk-estimator-doc-link span {\n",
       "  display: none;\n",
       "  z-index: 9999;\n",
       "  position: relative;\n",
       "  font-weight: normal;\n",
       "  right: .2ex;\n",
       "  padding: .5ex;\n",
       "  margin: .5ex;\n",
       "  width: min-content;\n",
       "  min-width: 20ex;\n",
       "  max-width: 50ex;\n",
       "  color: var(--sklearn-color-text);\n",
       "  box-shadow: 2pt 2pt 4pt #999;\n",
       "  /* unfitted */\n",
       "  background: var(--sklearn-color-unfitted-level-0);\n",
       "  border: .5pt solid var(--sklearn-color-unfitted-level-3);\n",
       "}\n",
       "\n",
       ".sk-estimator-doc-link.fitted span {\n",
       "  /* fitted */\n",
       "  background: var(--sklearn-color-fitted-level-0);\n",
       "  border: var(--sklearn-color-fitted-level-3);\n",
       "}\n",
       "\n",
       ".sk-estimator-doc-link:hover span {\n",
       "  display: block;\n",
       "}\n",
       "\n",
       "/* \"?\"-specific style due to the `<a>` HTML tag */\n",
       "\n",
       "#sk-container-id-5 a.estimator_doc_link {\n",
       "  float: right;\n",
       "  font-size: 1rem;\n",
       "  line-height: 1em;\n",
       "  font-family: monospace;\n",
       "  background-color: var(--sklearn-color-background);\n",
       "  border-radius: 1rem;\n",
       "  height: 1rem;\n",
       "  width: 1rem;\n",
       "  text-decoration: none;\n",
       "  /* unfitted */\n",
       "  color: var(--sklearn-color-unfitted-level-1);\n",
       "  border: var(--sklearn-color-unfitted-level-1) 1pt solid;\n",
       "}\n",
       "\n",
       "#sk-container-id-5 a.estimator_doc_link.fitted {\n",
       "  /* fitted */\n",
       "  border: var(--sklearn-color-fitted-level-1) 1pt solid;\n",
       "  color: var(--sklearn-color-fitted-level-1);\n",
       "}\n",
       "\n",
       "/* On hover */\n",
       "#sk-container-id-5 a.estimator_doc_link:hover {\n",
       "  /* unfitted */\n",
       "  background-color: var(--sklearn-color-unfitted-level-3);\n",
       "  color: var(--sklearn-color-background);\n",
       "  text-decoration: none;\n",
       "}\n",
       "\n",
       "#sk-container-id-5 a.estimator_doc_link.fitted:hover {\n",
       "  /* fitted */\n",
       "  background-color: var(--sklearn-color-fitted-level-3);\n",
       "}\n",
       "</style><div id=\"sk-container-id-5\" class=\"sk-top-container\"><div class=\"sk-text-repr-fallback\"><pre>RandomForestClassifier(random_state=42)</pre><b>In a Jupyter environment, please rerun this cell to show the HTML representation or trust the notebook. <br />On GitHub, the HTML representation is unable to render, please try loading this page with nbviewer.org.</b></div><div class=\"sk-container\" hidden><div class=\"sk-item\"><div class=\"sk-estimator fitted sk-toggleable\"><input class=\"sk-toggleable__control sk-hidden--visually\" id=\"sk-estimator-id-5\" type=\"checkbox\" checked><label for=\"sk-estimator-id-5\" class=\"sk-toggleable__label fitted sk-toggleable__label-arrow fitted\">&nbsp;&nbsp;RandomForestClassifier<a class=\"sk-estimator-doc-link fitted\" rel=\"noreferrer\" target=\"_blank\" href=\"https://scikit-learn.org/1.4/modules/generated/sklearn.ensemble.RandomForestClassifier.html\">?<span>Documentation for RandomForestClassifier</span></a><span class=\"sk-estimator-doc-link fitted\">i<span>Fitted</span></span></label><div class=\"sk-toggleable__content fitted\"><pre>RandomForestClassifier(random_state=42)</pre></div> </div></div></div></div>"
      ],
      "text/plain": [
       "RandomForestClassifier(random_state=42)"
      ]
     },
     "execution_count": 74,
     "metadata": {},
     "output_type": "execute_result"
    }
   ],
   "source": [
    "# Creating an instance of RandomForestClassifier and trianing the model\n",
    "\n",
    "max_accuracy = 0\n",
    "for i in range(500):\n",
    "    clf = RandomForestClassifier(random_state = i,max_depth=10)\n",
    "    clf.fit(train_x, train_y)\n",
    "    pred = clf.predict(test_x)\n",
    "    current_accuracy = round(accuracy_score(pred, test_y)*100,2)\n",
    "    if(current_accuracy > max_accuracy):\n",
    "        max_accuracy = current_accuracy\n",
    "        best_random_state = i\n",
    "\n",
    "# print(\"Best Random State: \", best_random_state)\n",
    "# print(\"Best Accuracy: \", max_accuracy)\n",
    "\n",
    "clf = RandomForestClassifier(random_state = best_random_state)\n",
    "clf.fit(train_x, train_y)"
   ]
  },
  {
   "cell_type": "markdown",
   "metadata": {},
   "source": [
    "### Model Evaluation"
   ]
  },
  {
   "cell_type": "code",
   "execution_count": 75,
   "metadata": {},
   "outputs": [],
   "source": [
    "RandomForest_train_vals = clf.predict(train_x)\n",
    "RandomForest_train_accuracy = accuracy_score(decision_train_vals, train_y)"
   ]
  },
  {
   "cell_type": "code",
   "execution_count": 76,
   "metadata": {},
   "outputs": [
    {
     "name": "stdout",
     "output_type": "stream",
     "text": [
      "Accuracy for training data:  100.0\n"
     ]
    }
   ],
   "source": [
    "print(\"Accuracy for training data: \" , round(RandomForest_train_accuracy*100, 2))"
   ]
  },
  {
   "cell_type": "code",
   "execution_count": 77,
   "metadata": {},
   "outputs": [],
   "source": [
    "RandomForest_test_vals = clf.predict(test_x)\n",
    "RandomForest_test_accuracy = accuracy_score(RandomForest_test_vals, test_y)"
   ]
  },
  {
   "cell_type": "code",
   "execution_count": 78,
   "metadata": {},
   "outputs": [
    {
     "name": "stdout",
     "output_type": "stream",
     "text": [
      "Accuracy for testing data:  80.33\n"
     ]
    }
   ],
   "source": [
    "print(\"Accuracy for testing data: \" , round(RandomForest_test_accuracy*100, 2))"
   ]
  },
  {
   "cell_type": "markdown",
   "metadata": {},
   "source": [
    "###"
   ]
  },
  {
   "cell_type": "markdown",
   "metadata": {},
   "source": [
    "### Using confusion Matrix"
   ]
  },
  {
   "cell_type": "code",
   "execution_count": 79,
   "metadata": {},
   "outputs": [
    {
     "data": {
      "text/plain": [
       "255    0\n",
       "72     1\n",
       "83     1\n",
       "268    0\n",
       "92     1\n",
       "      ..\n",
       "42     1\n",
       "187    0\n",
       "8      1\n",
       "122    1\n",
       "19     1\n",
       "Name: target, Length: 61, dtype: int64"
      ]
     },
     "execution_count": 79,
     "metadata": {},
     "output_type": "execute_result"
    }
   ],
   "source": [
    "test_y"
   ]
  },
  {
   "cell_type": "code",
   "execution_count": 80,
   "metadata": {},
   "outputs": [
    {
     "data": {
      "text/plain": [
       "array([0, 1, 1, 0, 1, 1, 0, 0, 1, 1, 1, 0, 0, 1, 1, 1, 0, 1, 0, 1, 1, 1,\n",
       "       1, 0, 0, 0, 0, 0, 1, 0, 1, 1, 0, 1, 0, 0, 1, 0, 0, 1, 0, 1, 0, 1,\n",
       "       0, 1, 1, 0, 1, 0, 0, 1, 0, 1, 0, 0, 0, 0, 1, 1, 1], dtype=int64)"
      ]
     },
     "execution_count": 80,
     "metadata": {},
     "output_type": "execute_result"
    }
   ],
   "source": [
    "RandomForest_test_vals"
   ]
  },
  {
   "cell_type": "code",
   "execution_count": 81,
   "metadata": {},
   "outputs": [
    {
     "data": {
      "text/plain": [
       "array([[23,  5],\n",
       "       [ 7, 26]], dtype=int64)"
      ]
     },
     "execution_count": 81,
     "metadata": {},
     "output_type": "execute_result"
    }
   ],
   "source": [
    "cf_matrix = confusion_matrix(test_y, RandomForest_test_vals)\n",
    "cf_matrix\n",
    "\n",
    "# Order: TN, FP, FN, TP "
   ]
  },
  {
   "cell_type": "code",
   "execution_count": 82,
   "metadata": {},
   "outputs": [
    {
     "name": "stdout",
     "output_type": "stream",
     "text": [
      "23 5 7 26\n"
     ]
    }
   ],
   "source": [
    "tn, fp, fn, tp = cf_matrix.ravel()\n",
    "print(tn, fp, fn, tp)\n",
    "\n",
    "# Ravel function is used to extract the confusion matrix values"
   ]
  },
  {
   "cell_type": "code",
   "execution_count": 83,
   "metadata": {},
   "outputs": [
    {
     "data": {
      "text/plain": [
       "<Axes: >"
      ]
     },
     "execution_count": 83,
     "metadata": {},
     "output_type": "execute_result"
    },
    {
     "data": {
      "image/png": "[encoded data removed]",
      "text/plain": [
       "<Figure size 640x480 with 2 Axes>"
      ]
     },
     "metadata": {},
     "output_type": "display_data"
    }
   ],
   "source": [
    "sns.heatmap(cf_matrix, annot=True)\n",
    "\n",
    "# Annot displays labels"
   ]
  },
  {
   "cell_type": "code",
   "execution_count": 84,
   "metadata": {},
   "outputs": [
    {
     "data": {
      "text/plain": [
       "(0.8026881720430108, 0.8046536796536796, 0.802801724137931, None)"
      ]
     },
     "execution_count": 84,
     "metadata": {},
     "output_type": "execute_result"
    }
   ],
   "source": [
    "precision_recall_fscore_support(test_y, RandomForest_test_vals, average = 'macro')"
   ]
  },
  {
   "cell_type": "markdown",
   "metadata": {},
   "source": [
    "#### Since precision and recall are both high, we can say that our model is good"
   ]
  },
  {
   "cell_type": "markdown",
   "metadata": {},
   "source": [
    "Using Confusion Matrix, we can calculate the accuracy, precision, recall, and F1 score so that we can evaluate the model performance.\n",
    "\n",
    "- Confusion Matrix: It is used to evaluate the performance of a ```classification model``` by calculating the number of correct and incorrect predictions. It is a 2x2 matrix that contains 4 outputs of the model:\n",
    "\n",
    "\n",
    "\n",
    "                     ACTUAL\n",
    "        PREDICTED   [TP, FP]\n",
    "                    [FN, TN]\n",
    "\n",
    "        where:\n",
    "        - TP: True Positive\n",
    "        - TN: True Negative\n",
    "        - FP: False Positive\n",
    "        - FN: False Negative\n",
    "\n",
    "        - TP + TN: Correct predictions\n",
    "        - FP + FN: Incorrect predictions\n",
    "\n",
    "        Can be used for multi-class classification as well\n",
    "\n",
    "        sklearn.metrics import confusion_matrix\n",
    "\n",
    "- Accuracy: Used to find the portion of the correct predictions.\n",
    "            It is calculated by the formula:\n",
    "                \n",
    "                (TP + TN) / (TP + TN + FP + FN)\n",
    "\n",
    "                where: ratio of current predictions to the total predictions\n",
    "\n",
    "                from sklearn.metrices import accuracy_score\n",
    "\n",
    "            Misleading when data is unevenly distributed\n",
    "\n",
    "                    ex: number of dogs = 800\n",
    "                        number of cats = 200\n",
    "\n",
    "                        since number of dogs is more, the model will predict dogs more accurately than cats\n",
    "\n",
    "                        now, let's say we have a even dataset of 200 dogs and 200 cats to be predicted.\n",
    "                        In this case, the previous model will predict dogs more accurately than cats and the accuracy will be misleading.\n",
    "                        In order to get the correct accuracy, we use precision, recall, and F1 score.\n",
    "\n",
    "- Precision: used to find the correct positive predictions predicted posituve classes.\n",
    "            It is calculated by the formula:\n",
    "                \n",
    "                TP / (TP + FP)\n",
    "\n",
    "                where: true positive divided by the sum of true positive and false positive\n",
    "\n",
    "- Recall: used to find the correct positive predictions from total positive classes\n",
    "            It is calculated by the formula:\n",
    "                \n",
    "                TP / (TP + FN)\n",
    "\n",
    "                where: true positive divided by the sum of true positive and false negative\n",
    "\n",
    "- F1 Score: used to find the balance between precision and recall\n",
    "            used to evaluate the performance of binary classification models\n",
    "            It is calculated by the formula:\n",
    "                \n",
    "                2 * (precision * recall) / (precision + recall)\n",
    "\n",
    "                where: 2 multiplied by the product of precision and recall divided by the sum of precision and recall\n",
    "\n",
    "                from sklearn.metrics import f1_score\n",
    "            \n",
    "            - Balance the value between precision and recall\n",
    "\n",
    "            - Used in case of multiple parameters\n",
    "\n",
    "            - In order to maintain the scores of precision and recall, we'll use lasso regression and Ridge regression\n",
    "\n",
    "\n",
    "Steps to do so:\n",
    "- Import the confusion matrix\n",
    "- Calculate the confusion matrix\n",
    "- Calculate the accuracy, precision, recall, and F1 score\n",
    "\n",
    "### Conclusion\n",
    "\n",
    "- Random Forest is a powerful algorithm that can be used for both classification and regression tasks.\n",
    "- It is an ensemble learning method that combines multiple decision trees to make a more accurate prediction."
   ]
  },
  {
   "cell_type": "markdown",
   "metadata": {},
   "source": []
  },
  {
   "cell_type": "markdown",
   "metadata": {},
   "source": [
    "## Predicting the target"
   ]
  },
  {
   "cell_type": "code",
   "execution_count": 85,
   "metadata": {},
   "outputs": [],
   "source": [
    "input_data = (60,1,0,125,258,0,0,141,1,2.8,1,1,3)"
   ]
  },
  {
   "cell_type": "code",
   "execution_count": 86,
   "metadata": {},
   "outputs": [
    {
     "data": {
      "text/plain": [
       "array([ 60. ,   1. ,   0. , 125. , 258. ,   0. ,   0. , 141. ,   1. ,\n",
       "         2.8,   1. ,   1. ,   3. ])"
      ]
     },
     "execution_count": 86,
     "metadata": {},
     "output_type": "execute_result"
    }
   ],
   "source": [
    "# changing input data to numpy array in order to reshape the data\n",
    "\n",
    "input_data_as_numpy_array = np.array(input_data)\n",
    "input_data_as_numpy_array"
   ]
  },
  {
   "cell_type": "code",
   "execution_count": 87,
   "metadata": {},
   "outputs": [
    {
     "data": {
      "text/plain": [
       "array([[ 60. ,   1. ,   0. , 125. , 258. ,   0. ,   0. , 141. ,   1. ,\n",
       "          2.8,   1. ,   1. ,   3. ]])"
      ]
     },
     "execution_count": 87,
     "metadata": {},
     "output_type": "execute_result"
    }
   ],
   "source": [
    "# Reshaping because we are predicting for one instance/data point\n",
    "\n",
    "reshaped_data = input_data_as_numpy_array.reshape(1,-1)\n",
    "reshaped_data\n",
    "\n",
    "# We rehaped the data because, the predict function expects a 2d array, in our case, we have a 1D array and that's why we have to reshape to get a 2d array with one row"
   ]
  },
  {
   "cell_type": "code",
   "execution_count": 88,
   "metadata": {},
   "outputs": [
    {
     "name": "stdout",
     "output_type": "stream",
     "text": [
      "Healthy Heart\n"
     ]
    },
    {
     "name": "stderr",
     "output_type": "stream",
     "text": [
      "d:\\Programming lang\\PYTHON\\Python Interface\\Lib\\site-packages\\sklearn\\base.py:493: UserWarning: X does not have valid feature names, but LogisticRegression was fitted with feature names\n",
      "  warnings.warn(\n"
     ]
    }
   ],
   "source": [
    "prediction = model.predict(reshaped_data)\n",
    "if(prediction == 1):\n",
    "    print(\"Heart Defect\")\n",
    "else:\n",
    "    print(\"Healthy Heart\")"
   ]
  },
  {
   "cell_type": "code",
   "execution_count": 89,
   "metadata": {},
   "outputs": [
    {
     "name": "stdout",
     "output_type": "stream",
     "text": [
      "0.819672131147541\n"
     ]
    }
   ],
   "source": [
    "print(regression_test_accuracy)"
   ]
  },
  {
   "cell_type": "code",
   "execution_count": 90,
   "metadata": {},
   "outputs": [
    {
     "name": "stdout",
     "output_type": "stream",
     "text": [
      "0.6065573770491803\n"
     ]
    }
   ],
   "source": [
    "print(knn_test_accuracy)"
   ]
  },
  {
   "cell_type": "code",
   "execution_count": 91,
   "metadata": {},
   "outputs": [
    {
     "name": "stdout",
     "output_type": "stream",
     "text": [
      "0.7355371900826446\n"
     ]
    }
   ],
   "source": [
    "print(naive_train_accuracy)"
   ]
  },
  {
   "cell_type": "code",
   "execution_count": 92,
   "metadata": {},
   "outputs": [
    {
     "name": "stdout",
     "output_type": "stream",
     "text": [
      "0.8360655737704918\n"
     ]
    }
   ],
   "source": [
    "print(decision_test_accuracy)"
   ]
  },
  {
   "cell_type": "code",
   "execution_count": 93,
   "metadata": {},
   "outputs": [
    {
     "name": "stdout",
     "output_type": "stream",
     "text": [
      "0.8032786885245902\n"
     ]
    }
   ],
   "source": [
    "print(RandomForest_test_accuracy)"
   ]
  },
  {
   "cell_type": "code",
   "execution_count": 94,
   "metadata": {},
   "outputs": [],
   "source": [
    "# import pickle as pkl\n",
    "# pkl.dump(clf, open('decision_trees.pkl', 'wb'))\n",
    "# clf"
   ]
  },
  {
   "cell_type": "code",
   "execution_count": 95,
   "metadata": {},
   "outputs": [],
   "source": [
    "import seaborn as sns\n",
    "import matplotlib.pyplot as plt\n",
    "from io import BytesIO\n",
    "import base64\n",
    "\n",
    "# Specify the age value\n",
    "class plots():\n",
    "    def __init__(self, df):\n",
    "        self.df = df\n",
    "        \n",
    "    def chol_generate(self, chol_val):\n",
    "        plt.figure(figsize=(10, 6))\n",
    "        sns.histplot(x=df['chol'], hue=df['target'], palette=\"viridis\", kde=True)\n",
    "        plt.axvline(x=chol_val, color='red', linestyle='--', label=f'chol = {chol_val}')\n",
    "        plt.xlabel('Cholestrol', fontsize=15)\n",
    "        plt.title('Cholestrol distribution')\n",
    "        plt.legend()\n",
    "\n",
    "        img = BytesIO()\n",
    "        plt.savefig(img, format='png')\n",
    "        img.seek(0)\n",
    "        \n",
    "        # Encode the plot image as base64\n",
    "        plot_url = base64.b64encode(img.getvalue()).decode()\n",
    "        img.close()\n",
    "        \n",
    "        return plot_url\n",
    "\n",
    "    def trestbps_generate(self, bps):\n",
    "        plt.figure(figsize=(10, 6))\n",
    "        sns.histplot(x=df['trestbps'], hue=df['target'], palette=\"viridis\", kde=True)\n",
    "        plt.axvline(x=bps, color='red', linestyle='--', label=f'trestbps = {bps}')\n",
    "        plt.xlabel('trestbps', fontsize=15)\n",
    "        plt.title('trestbps distribution')\n",
    "        plt.legend()\n",
    "\n",
    "        img = BytesIO()\n",
    "        plt.savefig(img, format='png')\n",
    "        img.seek(0)\n",
    "        \n",
    "        # Encode the plot image as base64\n",
    "        \n",
    "        plot_url = base64.b64encode(img.getvalue()).decode()\n",
    "        img.close()\n",
    "\n",
    "        return plot_url\n",
    "\n",
    "    def thalach_generate(self, thalach_val):\n",
    "        plt.figure(figsize=(10, 6))\n",
    "        sns.histplot(x=df['thalach'], hue=df['target'], palette=\"viridis\", kde=True)\n",
    "        plt.axvline(x=thalach_val, color='red', linestyle='--', label=f'thalach = {thalach_val}')\n",
    "        plt.xlabel('thalach', fontsize=15)\n",
    "        plt.title('thalach distribution')\n",
    "        plt.legend()\n",
    "\n",
    "        img = BytesIO()\n",
    "        plt.savefig(img, format='png')\n",
    "        img.seek(0)\n",
    "        \n",
    "        # Encode the plot image as base64\n",
    "        \n",
    "        plot_url = base64.b64encode(img.getvalue()).decode()\n",
    "        img.close()\n",
    "\n",
    "        return plot_url\n",
    "\n",
    "    def oldpeak_generate(self, oldpeak_val):\n",
    "        plt.figure(figsize=(10, 6))\n",
    "        sns.histplot(x=df['oldpeak'], hue=df['target'], palette=\"viridis\", kde=True)\n",
    "        plt.axvline(x=oldpeak_val, color='red', linestyle='--', label=f'oldpeak = {oldpeak_val}')\n",
    "        plt.xlabel('oldpeak', fontsize=15)\n",
    "        plt.title('oldpeak distribution')\n",
    "        plt.legend()\n",
    "\n",
    "        img = BytesIO()\n",
    "        plt.savefig(img, format='png')\n",
    "        img.seek(0)\n",
    "        \n",
    "        # Encode the plot image as base64\n",
    "        \n",
    "        plot_url = base64.b64encode(img.getvalue()).decode()\n",
    "        img.close()\n",
    "\n",
    "        return plot_url\n",
    "\n",
    "obj = plots(df)    \n",
    "\n"
   ]
  },
  {
   "cell_type": "code",
   "execution_count": 96,
   "metadata": {},
   "outputs": [
    {
     "data": {
      "text/plain": [
       "'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'"
      ]
     },
     "execution_count": 96,
     "metadata": {},
     "output_type": "execute_result"
    },
    {
     "data": {
      "image/png": "[encoded data removed]",
      "text/plain": [
       "<Figure size 1000x600 with 1 Axes>"
      ]
     },
     "metadata": {},
     "output_type": "display_data"
    }
   ],
   "source": [
    "obj.chol_generate(200)"
   ]
  },
  {
   "cell_type": "code",
   "execution_count": 97,
   "metadata": {},
   "outputs": [],
   "source": [
    "# import pickle as pkl\n",
    "\n",
    "# pkl.dump(obj, open(\"graphs.pkl\", 'wb'))"
   ]
  },
  {
   "cell_type": "code",
   "execution_count": 98,
   "metadata": {},
   "outputs": [
    {
     "data": {
      "text/html": [
       "<div>\n",
       "<style scoped>\n",
       "    .dataframe tbody tr th:only-of-type {\n",
       "        vertical-align: middle;\n",
       "    }\n",
       "\n",
       "    .dataframe tbody tr th {\n",
       "        vertical-align: top;\n",
       "    }\n",
       "\n",
       "    .dataframe thead th {\n",
       "        text-align: right;\n",
       "    }\n",
       "</style>\n",
       "<table border=\"1\" class=\"dataframe\">\n",
       "  <thead>\n",
       "    <tr style=\"text-align: right;\">\n",
       "      <th></th>\n",
       "      <th>age</th>\n",
       "      <th>sex</th>\n",
       "      <th>cp</th>\n",
       "      <th>trestbps</th>\n",
       "      <th>chol</th>\n",
       "      <th>fbs</th>\n",
       "      <th>restecg</th>\n",
       "      <th>thalach</th>\n",
       "      <th>exang</th>\n",
       "      <th>oldpeak</th>\n",
       "      <th>slope</th>\n",
       "      <th>ca</th>\n",
       "      <th>thal</th>\n",
       "      <th>target</th>\n",
       "    </tr>\n",
       "  </thead>\n",
       "  <tbody>\n",
       "    <tr>\n",
       "      <th>0</th>\n",
       "      <td>63</td>\n",
       "      <td>1</td>\n",
       "      <td>3</td>\n",
       "      <td>145</td>\n",
       "      <td>233</td>\n",
       "      <td>1</td>\n",
       "      <td>0</td>\n",
       "      <td>150</td>\n",
       "      <td>0</td>\n",
       "      <td>2.3</td>\n",
       "      <td>0</td>\n",
       "      <td>0</td>\n",
       "      <td>1</td>\n",
       "      <td>1</td>\n",
       "    </tr>\n",
       "    <tr>\n",
       "      <th>1</th>\n",
       "      <td>37</td>\n",
       "      <td>1</td>\n",
       "      <td>2</td>\n",
       "      <td>130</td>\n",
       "      <td>250</td>\n",
       "      <td>0</td>\n",
       "      <td>1</td>\n",
       "      <td>187</td>\n",
       "      <td>0</td>\n",
       "      <td>3.5</td>\n",
       "      <td>0</td>\n",
       "      <td>0</td>\n",
       "      <td>2</td>\n",
       "      <td>1</td>\n",
       "    </tr>\n",
       "    <tr>\n",
       "      <th>2</th>\n",
       "      <td>41</td>\n",
       "      <td>0</td>\n",
       "      <td>1</td>\n",
       "      <td>130</td>\n",
       "      <td>204</td>\n",
       "      <td>0</td>\n",
       "      <td>0</td>\n",
       "      <td>172</td>\n",
       "      <td>0</td>\n",
       "      <td>1.4</td>\n",
       "      <td>2</td>\n",
       "      <td>0</td>\n",
       "      <td>2</td>\n",
       "      <td>1</td>\n",
       "    </tr>\n",
       "    <tr>\n",
       "      <th>3</th>\n",
       "      <td>56</td>\n",
       "      <td>1</td>\n",
       "      <td>1</td>\n",
       "      <td>120</td>\n",
       "      <td>236</td>\n",
       "      <td>0</td>\n",
       "      <td>1</td>\n",
       "      <td>178</td>\n",
       "      <td>0</td>\n",
       "      <td>0.8</td>\n",
       "      <td>2</td>\n",
       "      <td>0</td>\n",
       "      <td>2</td>\n",
       "      <td>1</td>\n",
       "    </tr>\n",
       "    <tr>\n",
       "      <th>4</th>\n",
       "      <td>57</td>\n",
       "      <td>0</td>\n",
       "      <td>0</td>\n",
       "      <td>120</td>\n",
       "      <td>354</td>\n",
       "      <td>0</td>\n",
       "      <td>1</td>\n",
       "      <td>163</td>\n",
       "      <td>1</td>\n",
       "      <td>0.6</td>\n",
       "      <td>2</td>\n",
       "      <td>0</td>\n",
       "      <td>2</td>\n",
       "      <td>1</td>\n",
       "    </tr>\n",
       "    <tr>\n",
       "      <th>...</th>\n",
       "      <td>...</td>\n",
       "      <td>...</td>\n",
       "      <td>...</td>\n",
       "      <td>...</td>\n",
       "      <td>...</td>\n",
       "      <td>...</td>\n",
       "      <td>...</td>\n",
       "      <td>...</td>\n",
       "      <td>...</td>\n",
       "      <td>...</td>\n",
       "      <td>...</td>\n",
       "      <td>...</td>\n",
       "      <td>...</td>\n",
       "      <td>...</td>\n",
       "    </tr>\n",
       "    <tr>\n",
       "      <th>298</th>\n",
       "      <td>57</td>\n",
       "      <td>0</td>\n",
       "      <td>0</td>\n",
       "      <td>140</td>\n",
       "      <td>241</td>\n",
       "      <td>0</td>\n",
       "      <td>1</td>\n",
       "      <td>123</td>\n",
       "      <td>1</td>\n",
       "      <td>0.2</td>\n",
       "      <td>1</td>\n",
       "      <td>0</td>\n",
       "      <td>3</td>\n",
       "      <td>0</td>\n",
       "    </tr>\n",
       "    <tr>\n",
       "      <th>299</th>\n",
       "      <td>45</td>\n",
       "      <td>1</td>\n",
       "      <td>3</td>\n",
       "      <td>110</td>\n",
       "      <td>264</td>\n",
       "      <td>0</td>\n",
       "      <td>1</td>\n",
       "      <td>132</td>\n",
       "      <td>0</td>\n",
       "      <td>1.2</td>\n",
       "      <td>1</td>\n",
       "      <td>0</td>\n",
       "      <td>3</td>\n",
       "      <td>0</td>\n",
       "    </tr>\n",
       "    <tr>\n",
       "      <th>300</th>\n",
       "      <td>68</td>\n",
       "      <td>1</td>\n",
       "      <td>0</td>\n",
       "      <td>144</td>\n",
       "      <td>193</td>\n",
       "      <td>1</td>\n",
       "      <td>1</td>\n",
       "      <td>141</td>\n",
       "      <td>0</td>\n",
       "      <td>3.4</td>\n",
       "      <td>1</td>\n",
       "      <td>2</td>\n",
       "      <td>3</td>\n",
       "      <td>0</td>\n",
       "    </tr>\n",
       "    <tr>\n",
       "      <th>301</th>\n",
       "      <td>57</td>\n",
       "      <td>1</td>\n",
       "      <td>0</td>\n",
       "      <td>130</td>\n",
       "      <td>131</td>\n",
       "      <td>0</td>\n",
       "      <td>1</td>\n",
       "      <td>115</td>\n",
       "      <td>1</td>\n",
       "      <td>1.2</td>\n",
       "      <td>1</td>\n",
       "      <td>1</td>\n",
       "      <td>3</td>\n",
       "      <td>0</td>\n",
       "    </tr>\n",
       "    <tr>\n",
       "      <th>302</th>\n",
       "      <td>57</td>\n",
       "      <td>0</td>\n",
       "      <td>1</td>\n",
       "      <td>130</td>\n",
       "      <td>236</td>\n",
       "      <td>0</td>\n",
       "      <td>0</td>\n",
       "      <td>174</td>\n",
       "      <td>0</td>\n",
       "      <td>0.0</td>\n",
       "      <td>1</td>\n",
       "      <td>1</td>\n",
       "      <td>2</td>\n",
       "      <td>0</td>\n",
       "    </tr>\n",
       "  </tbody>\n",
       "</table>\n",
       "<p>303 rows × 14 columns</p>\n",
       "</div>"
      ],
      "text/plain": [
       "     age  sex  cp  trestbps  chol  fbs  restecg  thalach  exang  oldpeak  \\\n",
       "0     63    1   3       145   233    1        0      150      0      2.3   \n",
       "1     37    1   2       130   250    0        1      187      0      3.5   \n",
       "2     41    0   1       130   204    0        0      172      0      1.4   \n",
       "3     56    1   1       120   236    0        1      178      0      0.8   \n",
       "4     57    0   0       120   354    0        1      163      1      0.6   \n",
       "..   ...  ...  ..       ...   ...  ...      ...      ...    ...      ...   \n",
       "298   57    0   0       140   241    0        1      123      1      0.2   \n",
       "299   45    1   3       110   264    0        1      132      0      1.2   \n",
       "300   68    1   0       144   193    1        1      141      0      3.4   \n",
       "301   57    1   0       130   131    0        1      115      1      1.2   \n",
       "302   57    0   1       130   236    0        0      174      0      0.0   \n",
       "\n",
       "     slope  ca  thal  target  \n",
       "0        0   0     1       1  \n",
       "1        0   0     2       1  \n",
       "2        2   0     2       1  \n",
       "3        2   0     2       1  \n",
       "4        2   0     2       1  \n",
       "..     ...  ..   ...     ...  \n",
       "298      1   0     3       0  \n",
       "299      1   0     3       0  \n",
       "300      1   2     3       0  \n",
       "301      1   1     3       0  \n",
       "302      1   1     2       0  \n",
       "\n",
       "[303 rows x 14 columns]"
      ]
     },
     "execution_count": 98,
     "metadata": {},
     "output_type": "execute_result"
    }
   ],
   "source": [
    "df"
   ]
  }
 ],
 "metadata": {
  "kernelspec": {
   "display_name": "virtual_env",
   "language": "python",
   "name": "python3"
  },
  "language_info": {
   "codemirror_mode": {
    "name": "ipython",
    "version": 3
   },
   "file_extension": ".py",
   "mimetype": "text/x-python",
   "name": "python",
   "nbconvert_exporter": "python",
   "pygments_lexer": "ipython3",
   "version": "3.12.0"
  }
 },
 "nbformat": 4,
 "nbformat_minor": 2
}
